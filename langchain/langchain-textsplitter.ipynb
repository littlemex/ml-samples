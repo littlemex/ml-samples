{
 "cells": [
  {
   "cell_type": "code",
   "execution_count": 1,
   "id": "1567def4",
   "metadata": {},
   "outputs": [],
   "source": [
    "!pip install langchain --quiet"
   ]
  },
  {
   "cell_type": "code",
   "execution_count": 2,
   "id": "02e9b736",
   "metadata": {},
   "outputs": [],
   "source": [
    "from langchain.text_splitter import CharacterTextSplitter\n",
    "text_splitter = CharacterTextSplitter(\n",
    "    separator = \"\\n\\n\",  # セパレータ\n",
    "    chunk_size = 11,  # チャンクの文字数\n",
    "    chunk_overlap = 0,  # チャンクオーバーラップの文字数\n",
    ")"
   ]
  },
  {
   "cell_type": "code",
   "execution_count": 3,
   "id": "ae815f59",
   "metadata": {},
   "outputs": [
    {
     "name": "stdout",
     "output_type": "stream",
     "text": [
      "['あいうえおかきくけこさしすせそやゆよわをん']\n"
     ]
    }
   ],
   "source": [
    "print(text_splitter.split_text(\"あいうえおかきくけこさしすせそやゆよわをん\"))"
   ]
  },
  {
   "cell_type": "code",
   "execution_count": 4,
   "id": "a1e933b0",
   "metadata": {},
   "outputs": [
    {
     "name": "stdout",
     "output_type": "stream",
     "text": [
      "['あいうえお', 'かきくけこ', 'さしすせそ\\n\\nやゆよ', 'わをん']\n"
     ]
    }
   ],
   "source": [
    "print(text_splitter.split_text(\"あいうえお\\n\\nかきくけこ\\n\\nさしすせそ\\n\\nやゆよ\\n\\nわをん\"))"
   ]
  },
  {
   "cell_type": "code",
   "execution_count": 5,
   "id": "66eacb94",
   "metadata": {},
   "outputs": [
    {
     "name": "stdout",
     "output_type": "stream",
     "text": [
      "['あいうえお', 'かきくけこ', 'さしすせそ\\n\\nやゆよ', 'わをん']\n"
     ]
    }
   ],
   "source": [
    "print(text_splitter.split_text(\"あいうえお\\n\\nかきくけこ\\n\\nさしすせそ\\n\\nやゆよ\\n\\nわをん\"))"
   ]
  },
  {
   "cell_type": "code",
   "execution_count": 6,
   "id": "ac120b45",
   "metadata": {},
   "outputs": [],
   "source": [
    "from langchain.text_splitter import RecursiveCharacterTextSplitter\n",
    "text_splitter = RecursiveCharacterTextSplitter(\n",
    "    chunk_size = 11,   # チャンクの文字数\n",
    "    chunk_overlap  = 0,  # チャンクオーバーラップの文字数\n",
    ")"
   ]
  },
  {
   "cell_type": "code",
   "execution_count": 7,
   "id": "89a108df",
   "metadata": {},
   "outputs": [
    {
     "name": "stdout",
     "output_type": "stream",
     "text": [
      "['あいうえおかきくけこさ', 'しすせそやゆよわをん']\n"
     ]
    }
   ],
   "source": [
    "print(text_splitter.split_text(\"あいうえおかきくけこさしすせそやゆよわをん\"))"
   ]
  },
  {
   "cell_type": "code",
   "execution_count": 9,
   "id": "a5c6ce1f",
   "metadata": {},
   "outputs": [],
   "source": [
    "!pip install tiktoken --quiet"
   ]
  },
  {
   "cell_type": "code",
   "execution_count": 10,
   "id": "3b1922f5",
   "metadata": {},
   "outputs": [],
   "source": [
    "text_splitter = CharacterTextSplitter.from_tiktoken_encoder(\n",
    "    separator = \"\\n\\n\",  # セパレータ\n",
    "    chunk_size=14,  # チャンクのトークン数\n",
    "    chunk_overlap=0  # チャンクオーバーラップのトークン数\n",
    ")"
   ]
  },
  {
   "cell_type": "code",
   "execution_count": 11,
   "id": "d946858a",
   "metadata": {},
   "outputs": [
    {
     "name": "stdout",
     "output_type": "stream",
     "text": [
      "7\n",
      "6\n",
      "7\n",
      "6\n",
      "4\n"
     ]
    }
   ],
   "source": [
    "import tiktoken\n",
    "enc = tiktoken.get_encoding(\"gpt2\")\n",
    "\n",
    "print(len(enc.encode(\"あいうえお\")))\n",
    "print(len(enc.encode(\"かきくけこ\")))\n",
    "print(len(enc.encode(\"さしすせそ\")))\n",
    "print(len(enc.encode(\"やゆよ\")))\n",
    "print(len(enc.encode(\"わをん\")))"
   ]
  },
  {
   "cell_type": "code",
   "execution_count": 12,
   "id": "cf00e53f",
   "metadata": {},
   "outputs": [
    {
     "name": "stdout",
     "output_type": "stream",
     "text": [
      "['あいうえおかきくけこさしすせそやゆよわをん']\n"
     ]
    }
   ],
   "source": [
    "print(text_splitter.split_text(\"あいうえおかきくけこさしすせそやゆよわをん\"))"
   ]
  },
  {
   "cell_type": "code",
   "execution_count": 13,
   "id": "a5c072e5",
   "metadata": {},
   "outputs": [
    {
     "name": "stdout",
     "output_type": "stream",
     "text": [
      "['あいうえお\\n\\nかきくけこ', 'さしすせそ\\n\\nやゆよ', 'わをん']\n"
     ]
    }
   ],
   "source": [
    "print(text_splitter.split_text(\"あいうえお\\n\\nかきくけこ\\n\\nさしすせそ\\n\\nやゆよ\\n\\nわをん\"))"
   ]
  },
  {
   "cell_type": "code",
   "execution_count": 17,
   "id": "b2fa25a1",
   "metadata": {},
   "outputs": [],
   "source": [
    "from transformers import GPT2TokenizerFast\n",
    "\n",
    "text_splitter = CharacterTextSplitter.from_huggingface_tokenizer(\n",
    "    GPT2TokenizerFast.from_pretrained(\"gpt2\"),\n",
    "    chunk_size=10,  # チャンクのトークン数\n",
    "    chunk_overlap=0  # チャンクオーバーラップのトークン数\n",
    ")"
   ]
  },
  {
   "cell_type": "code",
   "execution_count": 18,
   "id": "73fde46d",
   "metadata": {},
   "outputs": [
    {
     "name": "stdout",
     "output_type": "stream",
     "text": [
      "['あいうえお', 'かきくけこ', 'さしすせそ', 'やゆよ', 'わをん']\n"
     ]
    }
   ],
   "source": [
    "print(text_splitter.split_text(\"あいうえお\\n\\nかきくけこ\\n\\nさしすせそ\\n\\nやゆよ\\n\\nわをん\"))"
   ]
  }
 ],
 "metadata": {
  "kernelspec": {
   "display_name": "conda_pytorch_p39",
   "language": "python",
   "name": "conda_pytorch_p39"
  },
  "language_info": {
   "codemirror_mode": {
    "name": "ipython",
    "version": 3
   },
   "file_extension": ".py",
   "mimetype": "text/x-python",
   "name": "python",
   "nbconvert_exporter": "python",
   "pygments_lexer": "ipython3",
   "version": "3.9.15"
  }
 },
 "nbformat": 4,
 "nbformat_minor": 5
}
