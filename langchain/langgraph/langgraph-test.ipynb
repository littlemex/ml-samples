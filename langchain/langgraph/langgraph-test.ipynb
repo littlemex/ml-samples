{
 "cells": [
  {
   "cell_type": "code",
   "execution_count": 3,
   "metadata": {},
   "outputs": [],
   "source": [
    "!pip install langgraph langchain --quiet"
   ]
  },
  {
   "cell_type": "code",
   "execution_count": 7,
   "metadata": {},
   "outputs": [
    {
     "name": "stdout",
     "output_type": "stream",
     "text": [
      "\u001b[36;1m\u001b[1;3m[0:tasks]\u001b[0m \u001b[1mStarting step 0 with 1 task:\n",
      "\u001b[0m- \u001b[32;1m\u001b[1;3m__start__\u001b[0m -> {'value': ''}\n",
      "\u001b[36;1m\u001b[1;3m[0:writes]\u001b[0m \u001b[1mFinished step 0 with writes to 1 channel:\n",
      "\u001b[0m- \u001b[33;1m\u001b[1;3mvalue\u001b[0m -> ''\n",
      "\u001b[36;1m\u001b[1;3m[1:tasks]\u001b[0m \u001b[1mStarting step 1 with 1 task:\n",
      "\u001b[0m- \u001b[32;1m\u001b[1;3mstart_node\u001b[0m -> {'value': ''}\n",
      "\u001b[36;1m\u001b[1;3m[1:writes]\u001b[0m \u001b[1mFinished step 1 with writes to 1 channel:\n",
      "\u001b[0m- \u001b[33;1m\u001b[1;3mvalue\u001b[0m -> '1'\n",
      "\u001b[36;1m\u001b[1;3m[2:tasks]\u001b[0m \u001b[1mStarting step 2 with 1 task:\n",
      "\u001b[0m- \u001b[32;1m\u001b[1;3mnode3\u001b[0m -> {'value': '1'}\n",
      "\u001b[36;1m\u001b[1;3m[2:writes]\u001b[0m \u001b[1mFinished step 2 with writes to 1 channel:\n",
      "\u001b[0m- \u001b[33;1m\u001b[1;3mvalue\u001b[0m -> '3'\n",
      "\u001b[36;1m\u001b[1;3m[3:tasks]\u001b[0m \u001b[1mStarting step 3 with 1 task:\n",
      "\u001b[0m- \u001b[32;1m\u001b[1;3mend_node\u001b[0m -> {'value': '3'}\n",
      "\u001b[36;1m\u001b[1;3m[3:writes]\u001b[0m \u001b[1mFinished step 3 with writes to 1 channel:\n",
      "\u001b[0m- \u001b[33;1m\u001b[1;3mvalue\u001b[0m -> '3'\n",
      "{'value': '3'}\n"
     ]
    }
   ],
   "source": [
    "# LangGraphを使用するためのJupyter Notebookのコード例\n",
    "\n",
    "# 必要なライブラリをインポート\n",
    "from typing import Annotated, Literal\n",
    "from typing_extensions import TypedDict\n",
    "from langgraph.graph import StateGraph\n",
    "from langchain_core.runnables import RunnableConfig\n",
    "import random\n",
    "\n",
    "# Stateの定義\n",
    "class State(TypedDict):\n",
    "    value: str  # 状態を保持するためのフィールド\n",
    "\n",
    "# ノードの定義\n",
    "def start_node(state: State, config: RunnableConfig):\n",
    "    # 初期状態を返すノード\n",
    "    return {\"value\": \"1\"}\n",
    "\n",
    "def node2(state: State, config: RunnableConfig):\n",
    "    # 状態を更新するノード\n",
    "    return {\"value\": \"2\"}\n",
    "\n",
    "def node3(state: State, config: RunnableConfig):\n",
    "    # 状態を更新する別のノード\n",
    "    return {\"value\": \"3\"}\n",
    "\n",
    "# グラフビルダーの初期化\n",
    "graph_builder = StateGraph(State)\n",
    "\n",
    "# ノードをグラフに追加\n",
    "graph_builder.add_node(\"start_node\", start_node)\n",
    "graph_builder.add_node(\"node2\", node2)\n",
    "graph_builder.add_node(\"node3\", node3)\n",
    "\n",
    "# 終了ノードを追加\n",
    "graph_builder.add_node(\"end_node\", lambda state: {\"value\": state[\"value\"]})\n",
    "\n",
    "# グラフのエントリーポイントを設定\n",
    "graph_builder.set_entry_point(\"start_node\")\n",
    "\n",
    "# ルーティング関数の定義\n",
    "def routing(state: State, config: RunnableConfig) -> Literal[\"node2\", \"node3\"]:\n",
    "    # ランダムに次のノードを決定\n",
    "    random_num = random.randint(0, 1)\n",
    "    if random_num == 0:\n",
    "        return \"node2\"\n",
    "    else:\n",
    "        return \"node3\"\n",
    "\n",
    "# 条件付きエッジを追加\n",
    "graph_builder.add_conditional_edges(\"start_node\", routing)\n",
    "\n",
    "# ノード間のエッジを追加\n",
    "graph_builder.add_edge(\"node2\", \"end_node\")\n",
    "graph_builder.add_edge(\"node3\", \"end_node\")\n",
    "\n",
    "# グラフの終了ポイントを設定\n",
    "graph_builder.set_finish_point(\"end_node\")\n",
    "\n",
    "# グラフをコンパイル\n",
    "graph = graph_builder.compile()\n",
    "\n",
    "# グラフを実行し、初期状態を渡す\n",
    "result = graph.invoke({\"value\": \"\"}, debug=True)\n",
    "\n",
    "# 実行結果を表示\n",
    "print(result)"
   ]
  }
 ],
 "metadata": {
  "kernelspec": {
   "display_name": "base",
   "language": "python",
   "name": "python3"
  },
  "language_info": {
   "codemirror_mode": {
    "name": "ipython",
    "version": 3
   },
   "file_extension": ".py",
   "mimetype": "text/x-python",
   "name": "python",
   "nbconvert_exporter": "python",
   "pygments_lexer": "ipython3",
   "version": "3.10.12"
  },
  "orig_nbformat": 4
 },
 "nbformat": 4,
 "nbformat_minor": 2
}
