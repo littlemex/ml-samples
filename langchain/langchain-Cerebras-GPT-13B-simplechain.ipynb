{
 "cells": [
  {
   "cell_type": "code",
   "execution_count": 1,
   "id": "a40512ac",
   "metadata": {},
   "outputs": [],
   "source": [
    "# https://www.mikulskibartosz.name/alternatives-to-open-ai-gpt-using-open-source-models-with-langchain/\n",
    "!pip install transformers langchain google-search-results --quiet"
   ]
  },
  {
   "cell_type": "code",
   "execution_count": 2,
   "id": "b35d89b1",
   "metadata": {},
   "outputs": [
    {
     "data": {
      "application/json": {
       "ascii": false,
       "bar_format": null,
       "colour": null,
       "elapsed": 0.008484840393066406,
       "initial": 0,
       "n": 0,
       "ncols": null,
       "nrows": null,
       "postfix": null,
       "prefix": "Loading checkpoint shards",
       "rate": null,
       "total": 2,
       "unit": "it",
       "unit_divisor": 1000,
       "unit_scale": false
      },
      "application/vnd.jupyter.widget-view+json": {
       "model_id": "e4bda005cdf44a82a1d71b225d812e2a",
       "version_major": 2,
       "version_minor": 0
      },
      "text/plain": [
       "Loading checkpoint shards:   0%|          | 0/2 [00:00<?, ?it/s]"
      ]
     },
     "metadata": {},
     "output_type": "display_data"
    }
   ],
   "source": [
    "from transformers import AutoTokenizer, AutoModelForCausalLM\n",
    "\n",
    "\n",
    "model_name = \"cerebras/Cerebras-GPT-13B\"\n",
    "cache_dir = \"/home/ec2-user/SageMaker/tmp\"\n",
    "tokenizer = AutoTokenizer.from_pretrained(model_name, cache_dir=cache_dir)\n",
    "model = AutoModelForCausalLM.from_pretrained(model_name, cache_dir=cache_dir)"
   ]
  },
  {
   "cell_type": "code",
   "execution_count": 3,
   "id": "e3bdd9a6",
   "metadata": {},
   "outputs": [],
   "source": [
    "from transformers import pipeline, Conversation\n",
    "\n",
    "\"\"\"\n",
    "'audio-classification', 'automatic-speech-recognition',\n",
    "'conversational', 'depth-estimation', 'document-question-answering',\n",
    "'feature-extraction', 'fill-mask', 'image-classification',\n",
    "'image-segmentation', 'image-to-text', 'ner', 'object-detection',\n",
    "'question-answering', 'sentiment-analysis', 'summarization',\n",
    "'table-question-answering', 'text-classification', 'text-generation',\n",
    "'text2text-generation', 'token-classification', 'translation',\n",
    "'video-classification', 'visual-question-answering', 'vqa',\n",
    "'zero-shot-audio-classification', 'zero-shot-classification',\n",
    "'zero-shot-image-classification', 'zero-shot-object-detection', 'translation_XX_to_YY'\n",
    "\"\"\"\n",
    "\n",
    "pipe = pipeline(\n",
    "    \"text-generation\", model=model, tokenizer=tokenizer,\n",
    "    max_new_tokens=100, early_stopping=True, no_repeat_ngram_size=2\n",
    ")"
   ]
  },
  {
   "cell_type": "code",
   "execution_count": 4,
   "id": "413946c3",
   "metadata": {},
   "outputs": [],
   "source": [
    "from langchain.llms import HuggingFacePipeline\n",
    "\n",
    "\n",
    "llm = HuggingFacePipeline(pipeline=pipe)"
   ]
  },
  {
   "cell_type": "code",
   "execution_count": 5,
   "id": "1f9d4e03",
   "metadata": {},
   "outputs": [],
   "source": [
    "# ・SimpleSequentialChain : 入出力を1つずつ持つチェーンを繋げるシンプルなチェーンです。\n",
    "# ・SequentialChain : 入出力を複数持つチェーンを繋げる一般的なチェーン\n",
    "\n",
    "from langchain.chains import LLMChain\n",
    "from langchain.prompts import PromptTemplate\n",
    "\n",
    "# 1つ目のチェーンの準備 : 劇のタイトルからあらすじを生成\n",
    "\n",
    "# テンプレートの準備\n",
    "template = \"\"\"あなたは劇作家です。劇のタイトルが与えられた場合、そのタイトルのあらすじを書くのがあなたの仕事です。\n",
    "\n",
    "タイトル:{title}\n",
    "あらすじ:\"\"\"\n",
    "\n",
    "# プロンプトテンプレートの準備\n",
    "prompt_template = PromptTemplate(\n",
    "    input_variables=[\"title\"], \n",
    "    template=template\n",
    ")\n",
    "\n",
    "# LLMChainの準備\n",
    "synopsis_chain = LLMChain(llm=llm, prompt=prompt_template)"
   ]
  },
  {
   "cell_type": "code",
   "execution_count": 7,
   "id": "c9b44e69",
   "metadata": {},
   "outputs": [],
   "source": [
    "# 2つ目のチェーン : 劇のあらすじからレビューを生成\n",
    "\n",
    "# テンプレートの準備\n",
    "template = \"\"\"あなたは演劇評論家です。 劇のあらすじが与えられた場合、そのあらすじのレビューを書くのがあなたの仕事です。\n",
    "\n",
    "あらすじ:\n",
    "{synopsis}\n",
    "レビュー:\"\"\"\n",
    "\n",
    "# プロンプトテンプレートの準備\n",
    "prompt_template = PromptTemplate(\n",
    "    input_variables=[\"synopsis\"], \n",
    "    template=template\n",
    ")\n",
    "\n",
    "# LLMChainの準備\n",
    "review_chain = LLMChain(llm=llm, prompt=prompt_template)"
   ]
  },
  {
   "cell_type": "code",
   "execution_count": 8,
   "id": "48e4c689",
   "metadata": {},
   "outputs": [],
   "source": [
    "from langchain.chains import SimpleSequentialChain\n",
    "\n",
    "# SimpleSequentialChainで2つのチェーンを繋ぐ\n",
    "overall_chain = SimpleSequentialChain(\n",
    "    chains=[synopsis_chain, review_chain], \n",
    "    verbose=True\n",
    ")"
   ]
  },
  {
   "cell_type": "code",
   "execution_count": 9,
   "id": "a73a0f89",
   "metadata": {},
   "outputs": [
    {
     "name": "stderr",
     "output_type": "stream",
     "text": [
      "Setting `pad_token_id` to `eos_token_id`:50256 for open-end generation.\n"
     ]
    },
    {
     "name": "stdout",
     "output_type": "stream",
     "text": [
      "\n",
      "\n",
      "\u001b[1m> Entering new SimpleSequentialChain chain...\u001b[0m\n"
     ]
    },
    {
     "name": "stderr",
     "output_type": "stream",
     "text": [
      "Setting `pad_token_id` to `eos_token_id`:50256 for open-end generation.\n"
     ]
    },
    {
     "name": "stdout",
     "output_type": "stream",
     "text": [
      "\u001b[36;1m\u001b[1;3m\n",
      "海の中で、悔しい思い出を覚え込んでいる女の子。どうやって解放するのか。流れを変べるために、浮気していた男の姉と、彼女の苦しみを追いかけて、�\u001b[0m\n",
      "\u001b[33;1m\u001b[1;3m \n",
      "  ・第1章:私は、結婚したいと性格である。確かに素敵ではありますが、自分のことを知ったら、今はお互いに恋愛をしないでください。 \n",
      "\n",
      "  この�\u001b[0m\n",
      "\n",
      "\u001b[1m> Finished chain.\u001b[0m\n"
     ]
    }
   ],
   "source": [
    "# SimpleSequentialChainの実行\n",
    "review = overall_chain.run(\"浜辺の夕暮れ時の悲劇\")"
   ]
  },
  {
   "cell_type": "code",
   "execution_count": 10,
   "id": "97d3416d",
   "metadata": {},
   "outputs": [
    {
     "name": "stdout",
     "output_type": "stream",
     "text": [
      " \n",
      "  ・第1章:私は、結婚したいと性格である。確かに素敵ではありますが、自分のことを知ったら、今はお互いに恋愛をしないでください。 \n",
      "\n",
      "  この�\n"
     ]
    }
   ],
   "source": [
    "print(review)"
   ]
  }
 ],
 "metadata": {
  "kernelspec": {
   "display_name": "conda_pytorch_p39",
   "language": "python",
   "name": "conda_pytorch_p39"
  },
  "language_info": {
   "codemirror_mode": {
    "name": "ipython",
    "version": 3
   },
   "file_extension": ".py",
   "mimetype": "text/x-python",
   "name": "python",
   "nbconvert_exporter": "python",
   "pygments_lexer": "ipython3",
   "version": "3.9.15"
  }
 },
 "nbformat": 4,
 "nbformat_minor": 5
}
