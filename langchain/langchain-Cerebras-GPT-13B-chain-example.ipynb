{
 "cells": [
  {
   "cell_type": "code",
   "execution_count": 1,
   "id": "a40512ac",
   "metadata": {},
   "outputs": [],
   "source": [
    "# https://www.mikulskibartosz.name/alternatives-to-open-ai-gpt-using-open-source-models-with-langchain/\n",
    "!pip install transformers langchain google-search-results --quiet"
   ]
  },
  {
   "cell_type": "code",
   "execution_count": 2,
   "id": "b35d89b1",
   "metadata": {},
   "outputs": [
    {
     "data": {
      "application/json": {
       "ascii": false,
       "bar_format": null,
       "colour": null,
       "elapsed": 0.008533716201782227,
       "initial": 0,
       "n": 0,
       "ncols": null,
       "nrows": null,
       "postfix": null,
       "prefix": "Loading checkpoint shards",
       "rate": null,
       "total": 2,
       "unit": "it",
       "unit_divisor": 1000,
       "unit_scale": false
      },
      "application/vnd.jupyter.widget-view+json": {
       "model_id": "a237131c0cd343e4881c123507cfca7f",
       "version_major": 2,
       "version_minor": 0
      },
      "text/plain": [
       "Loading checkpoint shards:   0%|          | 0/2 [00:00<?, ?it/s]"
      ]
     },
     "metadata": {},
     "output_type": "display_data"
    }
   ],
   "source": [
    "from transformers import AutoTokenizer, AutoModelForCausalLM\n",
    "\n",
    "\n",
    "model_name = \"cerebras/Cerebras-GPT-13B\"\n",
    "cache_dir = \"/home/ec2-user/SageMaker/tmp\"\n",
    "tokenizer = AutoTokenizer.from_pretrained(model_name, cache_dir=cache_dir)\n",
    "model = AutoModelForCausalLM.from_pretrained(model_name, cache_dir=cache_dir)"
   ]
  },
  {
   "cell_type": "code",
   "execution_count": 8,
   "id": "e3bdd9a6",
   "metadata": {},
   "outputs": [],
   "source": [
    "from transformers import pipeline, Conversation\n",
    "\n",
    "\"\"\"\n",
    "'audio-classification', 'automatic-speech-recognition',\n",
    "'conversational', 'depth-estimation', 'document-question-answering',\n",
    "'feature-extraction', 'fill-mask', 'image-classification',\n",
    "'image-segmentation', 'image-to-text', 'ner', 'object-detection',\n",
    "'question-answering', 'sentiment-analysis', 'summarization',\n",
    "'table-question-answering', 'text-classification', 'text-generation',\n",
    "'text2text-generation', 'token-classification', 'translation',\n",
    "'video-classification', 'visual-question-answering', 'vqa',\n",
    "'zero-shot-audio-classification', 'zero-shot-classification',\n",
    "'zero-shot-image-classification', 'zero-shot-object-detection', 'translation_XX_to_YY'\n",
    "\"\"\"\n",
    "\n",
    "pipe = pipeline(\n",
    "    \"text-generation\", model=model, tokenizer=tokenizer,\n",
    "    max_new_tokens=100, early_stopping=True, no_repeat_ngram_size=2\n",
    ")"
   ]
  },
  {
   "cell_type": "code",
   "execution_count": 9,
   "id": "413946c3",
   "metadata": {},
   "outputs": [],
   "source": [
    "from langchain.llms import HuggingFacePipeline\n",
    "\n",
    "\n",
    "llm = HuggingFacePipeline(pipeline=pipe)"
   ]
  },
  {
   "cell_type": "code",
   "execution_count": 13,
   "id": "630734c5",
   "metadata": {
    "scrolled": true
   },
   "outputs": [
    {
     "name": "stderr",
     "output_type": "stream",
     "text": [
      "Setting `pad_token_id` to `eos_token_id`:50256 for open-end generation.\n"
     ]
    },
    {
     "name": "stdout",
     "output_type": "stream",
     "text": [
      "\n",
      "Below is an instuction that describes a task. Write a response that appropriately completes the response.\n",
      "### Instruction:\n",
      "What are the differences between alpacas and sheep?\n",
      "### Response:\n",
      "Alpacos are a type of sheep. They are also known as llamas. \n",
      "\n",
      "A:\n",
      "\n",
      "   1. Alpaco is a Spanish word for \"alpaca\".\n",
      "  2. Llama is Spanish for sheep, and is also the Spanish name for the animal.\n",
      "\n",
      "\n"
     ]
    }
   ],
   "source": [
    "prompt = \"\"\"\n",
    "Below is an instuction that describes a task. Write a response that appropriately completes the response.\n",
    "### Instruction:\n",
    "What are the differences between alpacas and sheep?\n",
    "### Response:\n",
    "\"\"\"\n",
    "generated_text = pipe(\n",
    "    prompt,\n",
    "    do_sample=False,\n",
    "    no_repeat_ngram_size=2\n",
    ")[0]\n",
    "print(generated_text[\"generated_text\"])"
   ]
  },
  {
   "cell_type": "code",
   "execution_count": 14,
   "id": "57f73be1",
   "metadata": {},
   "outputs": [
    {
     "name": "stderr",
     "output_type": "stream",
     "text": [
      "Setting `pad_token_id` to `eos_token_id`:50256 for open-end generation.\n"
     ]
    },
    {
     "name": "stdout",
     "output_type": "stream",
     "text": [
      "\n",
      "Below is an instuction that describes a task. Write a response that appropriately completes the response in Japanese.\n",
      "### Instruction:\n",
      "What are the differences between alpacas and sheep?\n",
      "### Response:\n",
      "Alpacos are smaller than sheep. They are also called \"alpaca\" in Japan. \n",
      "\n",
      "A:\n",
      "\n",
      "   あいつはおそらくほぼどばびじゃせえぐけげござしずぜぞただちぢっづてでとなにぬ\n"
     ]
    }
   ],
   "source": [
    "prompt = \"\"\"\n",
    "Below is an instuction that describes a task. Write a response that appropriately completes the response in Japanese.\n",
    "### Instruction:\n",
    "What are the differences between alpacas and sheep?\n",
    "### Response:\n",
    "\"\"\"\n",
    "generated_text = pipe(\n",
    "    prompt,\n",
    "    do_sample=False,\n",
    "    no_repeat_ngram_size=2\n",
    ")[0]\n",
    "print(generated_text[\"generated_text\"])"
   ]
  },
  {
   "cell_type": "code",
   "execution_count": 18,
   "id": "ed4652b6",
   "metadata": {},
   "outputs": [
    {
     "name": "stderr",
     "output_type": "stream",
     "text": [
      "Setting `pad_token_id` to `eos_token_id`:50256 for open-end generation.\n"
     ]
    },
    {
     "name": "stdout",
     "output_type": "stream",
     "text": [
      "\n",
      "\n",
      "\u001b[1m> Entering new LLMChain chain...\u001b[0m\n",
      "Prompt after formatting:\n",
      "\u001b[32;1m\u001b[1;3m\n",
      "Below is an instuction that describes a task. Write a response that appropriately completes the response.\n",
      "### Instruction:\n",
      "What are the differences between alpacas and sheep?\n",
      "### Response:\n",
      "\u001b[0m\n",
      "\n",
      "\u001b[1m> Finished chain.\u001b[0m\n",
      "Alpacos are a type of sheep. They are also known as llamas. \n",
      "\n",
      "A:\n",
      "\n",
      "   1. Alpaco is a Spanish word for \"alpaca\".\n",
      "  2. Llama is Spanish for sheep, and is also the Spanish name for the animal.\n",
      "\n",
      "\n"
     ]
    }
   ],
   "source": [
    "from langchain import PromptTemplate\n",
    "from langchain import LLMChain\n",
    "\n",
    "\n",
    "template = \"\"\"\n",
    "Below is an instuction that describes a task. Write a response that appropriately completes the response.\n",
    "### Instruction:\n",
    "What are the differences between {input} and sheep?\n",
    "### Response:\n",
    "\"\"\"\n",
    "\n",
    "prompt = PromptTemplate(\n",
    "    input_variables=[\"input\"],\n",
    "    template=template,\n",
    ")\n",
    "\n",
    "chain = LLMChain(\n",
    "    llm=llm,\n",
    "    verbose=True,\n",
    "    prompt=prompt\n",
    ")\n",
    "\n",
    "response = chain.run(\"\"\"alpacas\"\"\")\n",
    "print(response)"
   ]
  }
 ],
 "metadata": {
  "kernelspec": {
   "display_name": "conda_pytorch_p39",
   "language": "python",
   "name": "conda_pytorch_p39"
  },
  "language_info": {
   "codemirror_mode": {
    "name": "ipython",
    "version": 3
   },
   "file_extension": ".py",
   "mimetype": "text/x-python",
   "name": "python",
   "nbconvert_exporter": "python",
   "pygments_lexer": "ipython3",
   "version": "3.9.15"
  }
 },
 "nbformat": 4,
 "nbformat_minor": 5
}
