{
 "cells": [
  {
   "cell_type": "code",
   "execution_count": 1,
   "id": "57d20bdd",
   "metadata": {},
   "outputs": [],
   "source": [
    "!pip install evaluate --quiet"
   ]
  },
  {
   "cell_type": "code",
   "execution_count": 2,
   "id": "2f6be474",
   "metadata": {},
   "outputs": [
    {
     "data": {
      "text/plain": [
       "[{'name': 'precision', 'type': 'metric', 'community': False, 'likes': 0},\n",
       " {'name': 'code_eval', 'type': 'metric', 'community': False, 'likes': 6},\n",
       " {'name': 'roc_auc', 'type': 'metric', 'community': False, 'likes': 0},\n",
       " {'name': 'cuad', 'type': 'metric', 'community': False, 'likes': 0},\n",
       " {'name': 'xnli', 'type': 'metric', 'community': False, 'likes': 0},\n",
       " {'name': 'rouge', 'type': 'metric', 'community': False, 'likes': 10},\n",
       " {'name': 'pearsonr', 'type': 'metric', 'community': False, 'likes': 1},\n",
       " {'name': 'mse', 'type': 'metric', 'community': False, 'likes': 0},\n",
       " {'name': 'super_glue', 'type': 'metric', 'community': False, 'likes': 4},\n",
       " {'name': 'comet', 'type': 'metric', 'community': False, 'likes': 2},\n",
       " {'name': 'cer', 'type': 'metric', 'community': False, 'likes': 5},\n",
       " {'name': 'sacrebleu', 'type': 'metric', 'community': False, 'likes': 6},\n",
       " {'name': 'mahalanobis', 'type': 'metric', 'community': False, 'likes': 0},\n",
       " {'name': 'wer', 'type': 'metric', 'community': False, 'likes': 9},\n",
       " {'name': 'competition_math',\n",
       "  'type': 'metric',\n",
       "  'community': False,\n",
       "  'likes': 0},\n",
       " {'name': 'f1', 'type': 'metric', 'community': False, 'likes': 2},\n",
       " {'name': 'recall', 'type': 'metric', 'community': False, 'likes': 0},\n",
       " {'name': 'coval', 'type': 'metric', 'community': False, 'likes': 1},\n",
       " {'name': 'mauve', 'type': 'metric', 'community': False, 'likes': 3},\n",
       " {'name': 'xtreme_s', 'type': 'metric', 'community': False, 'likes': 0},\n",
       " {'name': 'bleurt', 'type': 'metric', 'community': False, 'likes': 6},\n",
       " {'name': 'ter', 'type': 'metric', 'community': False, 'likes': 1},\n",
       " {'name': 'accuracy', 'type': 'metric', 'community': False, 'likes': 9},\n",
       " {'name': 'exact_match', 'type': 'metric', 'community': False, 'likes': 1},\n",
       " {'name': 'indic_glue', 'type': 'metric', 'community': False, 'likes': 0},\n",
       " {'name': 'spearmanr', 'type': 'metric', 'community': False, 'likes': 0},\n",
       " {'name': 'mae', 'type': 'metric', 'community': False, 'likes': 0},\n",
       " {'name': 'squad', 'type': 'metric', 'community': False, 'likes': 3},\n",
       " {'name': 'chrf', 'type': 'metric', 'community': False, 'likes': 6},\n",
       " {'name': 'glue', 'type': 'metric', 'community': False, 'likes': 0},\n",
       " {'name': 'perplexity', 'type': 'metric', 'community': False, 'likes': 2},\n",
       " {'name': 'mean_iou', 'type': 'metric', 'community': False, 'likes': 1},\n",
       " {'name': 'squad_v2', 'type': 'metric', 'community': False, 'likes': 1},\n",
       " {'name': 'meteor', 'type': 'metric', 'community': False, 'likes': 2},\n",
       " {'name': 'bleu', 'type': 'metric', 'community': False, 'likes': 12},\n",
       " {'name': 'wiki_split', 'type': 'metric', 'community': False, 'likes': 0},\n",
       " {'name': 'sari', 'type': 'metric', 'community': False, 'likes': 3},\n",
       " {'name': 'frugalscore', 'type': 'metric', 'community': False, 'likes': 0},\n",
       " {'name': 'google_bleu', 'type': 'metric', 'community': False, 'likes': 4},\n",
       " {'name': 'bertscore', 'type': 'metric', 'community': False, 'likes': 12},\n",
       " {'name': 'matthews_correlation',\n",
       "  'type': 'metric',\n",
       "  'community': False,\n",
       "  'likes': 7},\n",
       " {'name': 'seqeval', 'type': 'metric', 'community': False, 'likes': 10},\n",
       " {'name': 'trec_eval', 'type': 'metric', 'community': False, 'likes': 3},\n",
       " {'name': 'rl_reliability', 'type': 'metric', 'community': False, 'likes': 2},\n",
       " {'name': 'poseval', 'type': 'metric', 'community': False, 'likes': 1},\n",
       " {'name': 'brier_score', 'type': 'metric', 'community': False, 'likes': 0},\n",
       " {'name': 'mase', 'type': 'metric', 'community': False, 'likes': 0},\n",
       " {'name': 'mape', 'type': 'metric', 'community': False, 'likes': 0},\n",
       " {'name': 'smape', 'type': 'metric', 'community': False, 'likes': 0},\n",
       " {'name': 'nist_mt', 'type': 'metric', 'community': False, 'likes': 0},\n",
       " {'name': 'character', 'type': 'metric', 'community': False, 'likes': 0},\n",
       " {'name': 'charcut_mt', 'type': 'metric', 'community': False, 'likes': 0},\n",
       " {'name': 'r_squared', 'type': 'metric', 'community': False, 'likes': 0}]"
      ]
     },
     "execution_count": 2,
     "metadata": {},
     "output_type": "execute_result"
    }
   ],
   "source": [
    "# 評価モジュールの一覧表示\n",
    "import evaluate\n",
    "evaluate.list_evaluation_modules(\n",
    "    module_type=\"metric\",  # ツール種別\n",
    "    include_community=False,  # コミュニティを含むか\n",
    "    with_details=True)  # 詳細を含むか"
   ]
  },
  {
   "cell_type": "code",
   "execution_count": 3,
   "id": "c4cfac04",
   "metadata": {},
   "outputs": [
    {
     "data": {
      "application/json": {
       "ascii": false,
       "bar_format": null,
       "colour": null,
       "elapsed": 0.006925821304321289,
       "initial": 0,
       "n": 0,
       "ncols": null,
       "nrows": null,
       "postfix": null,
       "prefix": "Downloading builder script",
       "rate": null,
       "total": 4203,
       "unit": "B",
       "unit_divisor": 1000,
       "unit_scale": true
      },
      "application/vnd.jupyter.widget-view+json": {
       "model_id": "fea3ab7150274ce59edc3e950f4573fd",
       "version_major": 2,
       "version_minor": 0
      },
      "text/plain": [
       "Downloading builder script:   0%|          | 0.00/4.20k [00:00<?, ?B/s]"
      ]
     },
     "metadata": {},
     "output_type": "display_data"
    },
    {
     "name": "stdout",
     "output_type": "stream",
     "text": [
      "\n",
      "Accuracy is the proportion of correct predictions among the total number of cases processed. It can be computed with:\n",
      "Accuracy = (TP + TN) / (TP + TN + FP + FN)\n",
      " Where:\n",
      "TP: True positive\n",
      "TN: True negative\n",
      "FP: False positive\n",
      "FN: False negative\n",
      "\n"
     ]
    }
   ],
   "source": [
    "# 評価モジュール属性の確認\n",
    "accuracy = evaluate.load(\"accuracy\")\n",
    "print(accuracy.description)"
   ]
  },
  {
   "cell_type": "code",
   "execution_count": 4,
   "id": "767e0cae",
   "metadata": {},
   "outputs": [
    {
     "data": {
      "text/plain": [
       "{'predictions': Value(dtype='int32', id=None),\n",
       " 'references': Value(dtype='int32', id=None)}"
      ]
     },
     "execution_count": 4,
     "metadata": {},
     "output_type": "execute_result"
    }
   ],
   "source": [
    "accuracy.features"
   ]
  },
  {
   "cell_type": "code",
   "execution_count": 5,
   "id": "0627b32e",
   "metadata": {},
   "outputs": [
    {
     "data": {
      "text/plain": [
       "{'accuracy': 0.5}"
      ]
     },
     "execution_count": 5,
     "metadata": {},
     "output_type": "execute_result"
    }
   ],
   "source": [
    "accuracy.compute(references=[0,1,0,1], predictions=[1,0,0,1])"
   ]
  },
  {
   "cell_type": "code",
   "execution_count": 6,
   "id": "9da73b79",
   "metadata": {},
   "outputs": [
    {
     "data": {
      "text/plain": [
       "{'accuracy': 0.5}"
      ]
     },
     "execution_count": 6,
     "metadata": {},
     "output_type": "execute_result"
    }
   ],
   "source": [
    "for ref, pred in zip([0,1,0,1], [1,0,0,1]):\n",
    "    accuracy.add(references=ref, predictions=pred)\n",
    "accuracy.compute()"
   ]
  },
  {
   "cell_type": "code",
   "execution_count": 7,
   "id": "c0a12707",
   "metadata": {},
   "outputs": [
    {
     "data": {
      "text/plain": [
       "{'accuracy': 0.5}"
      ]
     },
     "execution_count": 7,
     "metadata": {},
     "output_type": "execute_result"
    }
   ],
   "source": [
    "for refs, preds in zip([[0,1],[0,1]], [[1,0],[0,1]]):\n",
    "    accuracy.add_batch(references=refs, predictions=preds)\n",
    "accuracy.compute()"
   ]
  },
  {
   "cell_type": "code",
   "execution_count": 8,
   "id": "64b30066",
   "metadata": {},
   "outputs": [
    {
     "data": {
      "application/json": {
       "ascii": false,
       "bar_format": null,
       "colour": null,
       "elapsed": 0.006706953048706055,
       "initial": 0,
       "n": 0,
       "ncols": null,
       "nrows": null,
       "postfix": null,
       "prefix": "Downloading builder script",
       "rate": null,
       "total": 6771,
       "unit": "B",
       "unit_divisor": 1000,
       "unit_scale": true
      },
      "application/vnd.jupyter.widget-view+json": {
       "model_id": "c4a1c1ec39a64baca5cfdce19d79e685",
       "version_major": 2,
       "version_minor": 0
      },
      "text/plain": [
       "Downloading builder script:   0%|          | 0.00/6.77k [00:00<?, ?B/s]"
      ]
     },
     "metadata": {},
     "output_type": "display_data"
    },
    {
     "data": {
      "application/json": {
       "ascii": false,
       "bar_format": null,
       "colour": null,
       "elapsed": 0.007391691207885742,
       "initial": 0,
       "n": 0,
       "ncols": null,
       "nrows": null,
       "postfix": null,
       "prefix": "Downloading builder script",
       "rate": null,
       "total": 7546,
       "unit": "B",
       "unit_divisor": 1000,
       "unit_scale": true
      },
      "application/vnd.jupyter.widget-view+json": {
       "model_id": "0772148f71d64706a12d015e2cce70b7",
       "version_major": 2,
       "version_minor": 0
      },
      "text/plain": [
       "Downloading builder script:   0%|          | 0.00/7.55k [00:00<?, ?B/s]"
      ]
     },
     "metadata": {},
     "output_type": "display_data"
    },
    {
     "data": {
      "application/json": {
       "ascii": false,
       "bar_format": null,
       "colour": null,
       "elapsed": 0.005974769592285156,
       "initial": 0,
       "n": 0,
       "ncols": null,
       "nrows": null,
       "postfix": null,
       "prefix": "Downloading builder script",
       "rate": null,
       "total": 7363,
       "unit": "B",
       "unit_divisor": 1000,
       "unit_scale": true
      },
      "application/vnd.jupyter.widget-view+json": {
       "model_id": "bb42c0ba3f7446bd81dbfedbeb19c7ac",
       "version_major": 2,
       "version_minor": 0
      },
      "text/plain": [
       "Downloading builder script:   0%|          | 0.00/7.36k [00:00<?, ?B/s]"
      ]
     },
     "metadata": {},
     "output_type": "display_data"
    },
    {
     "data": {
      "text/plain": [
       "{'accuracy': 0.6666666666666666,\n",
       " 'f1': 0.6666666666666666,\n",
       " 'precision': 1.0,\n",
       " 'recall': 0.5}"
      ]
     },
     "execution_count": 8,
     "metadata": {},
     "output_type": "execute_result"
    }
   ],
   "source": [
    "# 評価モジュールを組み合わせる\n",
    "clf_metrics = evaluate.combine([\"accuracy\", \"f1\", \"precision\", \"recall\"])\n",
    "clf_metrics.compute(predictions=[0, 1, 0], references=[0, 1, 1])"
   ]
  },
  {
   "cell_type": "code",
   "execution_count": 11,
   "id": "a6c589eb",
   "metadata": {},
   "outputs": [],
   "source": [
    "# パッケージのインストール\n",
    "!pip install transformers datasets --quiet\n",
    "!pip install evaluate[evaluator] --quiet"
   ]
  },
  {
   "cell_type": "code",
   "execution_count": 12,
   "id": "c9df6a50",
   "metadata": {},
   "outputs": [
    {
     "data": {
      "application/json": {
       "ascii": false,
       "bar_format": null,
       "colour": null,
       "elapsed": 0.007226705551147461,
       "initial": 0,
       "n": 0,
       "ncols": null,
       "nrows": null,
       "postfix": null,
       "prefix": "Downloading (…)lve/main/config.json",
       "rate": null,
       "total": 735,
       "unit": "B",
       "unit_divisor": 1000,
       "unit_scale": true
      },
      "application/vnd.jupyter.widget-view+json": {
       "model_id": "69734972fb144d4780431d579cb5e578",
       "version_major": 2,
       "version_minor": 0
      },
      "text/plain": [
       "Downloading (…)lve/main/config.json:   0%|          | 0.00/735 [00:00<?, ?B/s]"
      ]
     },
     "metadata": {},
     "output_type": "display_data"
    },
    {
     "data": {
      "application/json": {
       "ascii": false,
       "bar_format": null,
       "colour": null,
       "elapsed": 0.0072994232177734375,
       "initial": 0,
       "n": 0,
       "ncols": null,
       "nrows": null,
       "postfix": null,
       "prefix": "Downloading pytorch_model.bin",
       "rate": null,
       "total": 267860081,
       "unit": "B",
       "unit_divisor": 1000,
       "unit_scale": true
      },
      "application/vnd.jupyter.widget-view+json": {
       "model_id": "eca465ef916a483c988bf13c8f096ba7",
       "version_major": 2,
       "version_minor": 0
      },
      "text/plain": [
       "Downloading pytorch_model.bin:   0%|          | 0.00/268M [00:00<?, ?B/s]"
      ]
     },
     "metadata": {},
     "output_type": "display_data"
    },
    {
     "data": {
      "application/json": {
       "ascii": false,
       "bar_format": null,
       "colour": null,
       "elapsed": 0.007161617279052734,
       "initial": 0,
       "n": 0,
       "ncols": null,
       "nrows": null,
       "postfix": null,
       "prefix": "Downloading (…)okenizer_config.json",
       "rate": null,
       "total": 333,
       "unit": "B",
       "unit_divisor": 1000,
       "unit_scale": true
      },
      "application/vnd.jupyter.widget-view+json": {
       "model_id": "6577f4145f6645a691e54e722645b712",
       "version_major": 2,
       "version_minor": 0
      },
      "text/plain": [
       "Downloading (…)okenizer_config.json:   0%|          | 0.00/333 [00:00<?, ?B/s]"
      ]
     },
     "metadata": {},
     "output_type": "display_data"
    },
    {
     "data": {
      "application/json": {
       "ascii": false,
       "bar_format": null,
       "colour": null,
       "elapsed": 0.006851673126220703,
       "initial": 0,
       "n": 0,
       "ncols": null,
       "nrows": null,
       "postfix": null,
       "prefix": "Downloading (…)solve/main/vocab.txt",
       "rate": null,
       "total": 231508,
       "unit": "B",
       "unit_divisor": 1000,
       "unit_scale": true
      },
      "application/vnd.jupyter.widget-view+json": {
       "model_id": "de3f7205918544bb9e8184fff5688974",
       "version_major": 2,
       "version_minor": 0
      },
      "text/plain": [
       "Downloading (…)solve/main/vocab.txt:   0%|          | 0.00/232k [00:00<?, ?B/s]"
      ]
     },
     "metadata": {},
     "output_type": "display_data"
    },
    {
     "data": {
      "application/json": {
       "ascii": false,
       "bar_format": null,
       "colour": null,
       "elapsed": 0.006809711456298828,
       "initial": 0,
       "n": 0,
       "ncols": null,
       "nrows": null,
       "postfix": null,
       "prefix": "Downloading (…)/main/tokenizer.json",
       "rate": null,
       "total": 466132,
       "unit": "B",
       "unit_divisor": 1000,
       "unit_scale": true
      },
      "application/vnd.jupyter.widget-view+json": {
       "model_id": "1a669d8e3e4b41f98c2bc53ab2c76c7a",
       "version_major": 2,
       "version_minor": 0
      },
      "text/plain": [
       "Downloading (…)/main/tokenizer.json:   0%|          | 0.00/466k [00:00<?, ?B/s]"
      ]
     },
     "metadata": {},
     "output_type": "display_data"
    },
    {
     "data": {
      "application/json": {
       "ascii": false,
       "bar_format": null,
       "colour": null,
       "elapsed": 0.005999088287353516,
       "initial": 0,
       "n": 0,
       "ncols": null,
       "nrows": null,
       "postfix": null,
       "prefix": "Downloading (…)cial_tokens_map.json",
       "rate": null,
       "total": 112,
       "unit": "B",
       "unit_divisor": 1000,
       "unit_scale": true
      },
      "application/vnd.jupyter.widget-view+json": {
       "model_id": "c656469c28494632a3a0a88e4fc67465",
       "version_major": 2,
       "version_minor": 0
      },
      "text/plain": [
       "Downloading (…)cial_tokens_map.json:   0%|          | 0.00/112 [00:00<?, ?B/s]"
      ]
     },
     "metadata": {},
     "output_type": "display_data"
    },
    {
     "data": {
      "application/json": {
       "ascii": false,
       "bar_format": null,
       "colour": null,
       "elapsed": 0.00677490234375,
       "initial": 0,
       "n": 0,
       "ncols": null,
       "nrows": null,
       "postfix": null,
       "prefix": "Downloading builder script",
       "rate": null,
       "total": 4314,
       "unit": "B",
       "unit_divisor": 1000,
       "unit_scale": true
      },
      "application/vnd.jupyter.widget-view+json": {
       "model_id": "2a842e117f0e43719f1305484427abd9",
       "version_major": 2,
       "version_minor": 0
      },
      "text/plain": [
       "Downloading builder script:   0%|          | 0.00/4.31k [00:00<?, ?B/s]"
      ]
     },
     "metadata": {},
     "output_type": "display_data"
    },
    {
     "data": {
      "application/json": {
       "ascii": false,
       "bar_format": null,
       "colour": null,
       "elapsed": 0.006147623062133789,
       "initial": 0,
       "n": 0,
       "ncols": null,
       "nrows": null,
       "postfix": null,
       "prefix": "Downloading metadata",
       "rate": null,
       "total": 2166,
       "unit": "B",
       "unit_divisor": 1000,
       "unit_scale": true
      },
      "application/vnd.jupyter.widget-view+json": {
       "model_id": "f32f5d37cbc74827ab98df519871866b",
       "version_major": 2,
       "version_minor": 0
      },
      "text/plain": [
       "Downloading metadata:   0%|          | 0.00/2.17k [00:00<?, ?B/s]"
      ]
     },
     "metadata": {},
     "output_type": "display_data"
    },
    {
     "data": {
      "application/json": {
       "ascii": false,
       "bar_format": null,
       "colour": null,
       "elapsed": 0.006247997283935547,
       "initial": 0,
       "n": 0,
       "ncols": null,
       "nrows": null,
       "postfix": null,
       "prefix": "Downloading readme",
       "rate": null,
       "total": 7590,
       "unit": "B",
       "unit_divisor": 1000,
       "unit_scale": true
      },
      "application/vnd.jupyter.widget-view+json": {
       "model_id": "c1bcaff8c6e747188c0c355a08192db9",
       "version_major": 2,
       "version_minor": 0
      },
      "text/plain": [
       "Downloading readme:   0%|          | 0.00/7.59k [00:00<?, ?B/s]"
      ]
     },
     "metadata": {},
     "output_type": "display_data"
    },
    {
     "name": "stdout",
     "output_type": "stream",
     "text": [
      "Downloading and preparing dataset imdb/plain_text to /home/ec2-user/.cache/huggingface/datasets/imdb/plain_text/1.0.0/d613c88cf8fa3bab83b4ded3713f1f74830d1100e171db75bbddb80b3345c9c0...\n"
     ]
    },
    {
     "data": {
      "application/json": {
       "ascii": false,
       "bar_format": null,
       "colour": null,
       "elapsed": 0.006911039352416992,
       "initial": 0,
       "n": 0,
       "ncols": null,
       "nrows": null,
       "postfix": null,
       "prefix": "Downloading data",
       "rate": null,
       "total": 84125825,
       "unit": "B",
       "unit_divisor": 1000,
       "unit_scale": true
      },
      "application/vnd.jupyter.widget-view+json": {
       "model_id": "8c4ff926935e421cae6a241de0d1c05d",
       "version_major": 2,
       "version_minor": 0
      },
      "text/plain": [
       "Downloading data:   0%|          | 0.00/84.1M [00:00<?, ?B/s]"
      ]
     },
     "metadata": {},
     "output_type": "display_data"
    },
    {
     "data": {
      "application/json": {
       "ascii": false,
       "bar_format": null,
       "colour": null,
       "elapsed": 0.006645917892456055,
       "initial": 0,
       "n": 0,
       "ncols": null,
       "nrows": null,
       "postfix": null,
       "prefix": "Generating train split",
       "rate": null,
       "total": 25000,
       "unit": " examples",
       "unit_divisor": 1000,
       "unit_scale": false
      },
      "application/vnd.jupyter.widget-view+json": {
       "model_id": "",
       "version_major": 2,
       "version_minor": 0
      },
      "text/plain": [
       "Generating train split:   0%|          | 0/25000 [00:00<?, ? examples/s]"
      ]
     },
     "metadata": {},
     "output_type": "display_data"
    },
    {
     "data": {
      "application/json": {
       "ascii": false,
       "bar_format": null,
       "colour": null,
       "elapsed": 0.0065157413482666016,
       "initial": 0,
       "n": 0,
       "ncols": null,
       "nrows": null,
       "postfix": null,
       "prefix": "Generating test split",
       "rate": null,
       "total": 25000,
       "unit": " examples",
       "unit_divisor": 1000,
       "unit_scale": false
      },
      "application/vnd.jupyter.widget-view+json": {
       "model_id": "",
       "version_major": 2,
       "version_minor": 0
      },
      "text/plain": [
       "Generating test split:   0%|          | 0/25000 [00:00<?, ? examples/s]"
      ]
     },
     "metadata": {},
     "output_type": "display_data"
    },
    {
     "data": {
      "application/json": {
       "ascii": false,
       "bar_format": null,
       "colour": null,
       "elapsed": 0.006725788116455078,
       "initial": 0,
       "n": 0,
       "ncols": null,
       "nrows": null,
       "postfix": null,
       "prefix": "Generating unsupervised split",
       "rate": null,
       "total": 50000,
       "unit": " examples",
       "unit_divisor": 1000,
       "unit_scale": false
      },
      "application/vnd.jupyter.widget-view+json": {
       "model_id": "",
       "version_major": 2,
       "version_minor": 0
      },
      "text/plain": [
       "Generating unsupervised split:   0%|          | 0/50000 [00:00<?, ? examples/s]"
      ]
     },
     "metadata": {},
     "output_type": "display_data"
    },
    {
     "name": "stdout",
     "output_type": "stream",
     "text": [
      "Dataset imdb downloaded and prepared to /home/ec2-user/.cache/huggingface/datasets/imdb/plain_text/1.0.0/d613c88cf8fa3bab83b4ded3713f1f74830d1100e171db75bbddb80b3345c9c0. Subsequent calls will reuse this data.\n",
      "{'accuracy': 0.939, 'total_time_in_seconds': 10.316356958006509, 'samples_per_second': 96.93344308175587, 'latency_in_seconds': 0.010316356958006508}\n"
     ]
    }
   ],
   "source": [
    "from transformers import pipeline\n",
    "from datasets import load_dataset\n",
    "from evaluate import evaluator\n",
    "import evaluate\n",
    "\n",
    "# モデルとデータセットとメトリクスの準備\n",
    "pipe = pipeline(\"text-classification\", model=\"lvwerra/distilbert-imdb\", device=0)\n",
    "data = load_dataset(\"imdb\", split=\"test\").shuffle().select(range(1000))\n",
    "metric = evaluate.load(\"accuracy\")\n",
    "\n",
    "# Evaluatorの準備\n",
    "eval = evaluator(\"text-classification\")\n",
    "\n",
    "# スコアの計算\n",
    "results = eval.compute(\n",
    "    model_or_pipeline=pipe, \n",
    "    data=data, metric=metric,\n",
    "    label_mapping={\"NEGATIVE\": 0, \"POSITIVE\": 1},\n",
    ")\n",
    "print(results)"
   ]
  }
 ],
 "metadata": {
  "kernelspec": {
   "display_name": "conda_pytorch_p39",
   "language": "python",
   "name": "conda_pytorch_p39"
  },
  "language_info": {
   "codemirror_mode": {
    "name": "ipython",
    "version": 3
   },
   "file_extension": ".py",
   "mimetype": "text/x-python",
   "name": "python",
   "nbconvert_exporter": "python",
   "pygments_lexer": "ipython3",
   "version": "3.9.15"
  }
 },
 "nbformat": 4,
 "nbformat_minor": 5
}
