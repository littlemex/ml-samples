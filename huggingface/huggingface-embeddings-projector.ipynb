{
 "cells": [
  {
   "cell_type": "code",
   "execution_count": 1,
   "id": "987a1843",
   "metadata": {},
   "outputs": [],
   "source": [
    "!pip install transformers langchain faiss-gpu sentence_transformers --quiet"
   ]
  },
  {
   "cell_type": "code",
   "execution_count": 2,
   "id": "ee0b545f",
   "metadata": {},
   "outputs": [
    {
     "data": {
      "application/json": {
       "ascii": false,
       "bar_format": null,
       "colour": null,
       "elapsed": 0.008353471755981445,
       "initial": 0,
       "n": 0,
       "ncols": null,
       "nrows": null,
       "postfix": null,
       "prefix": "Loading checkpoint shards",
       "rate": null,
       "total": 2,
       "unit": "it",
       "unit_divisor": 1000,
       "unit_scale": false
      },
      "application/vnd.jupyter.widget-view+json": {
       "model_id": "297e9d65960f40bba2aa6f4a3937fad0",
       "version_major": 2,
       "version_minor": 0
      },
      "text/plain": [
       "Loading checkpoint shards:   0%|          | 0/2 [00:00<?, ?it/s]"
      ]
     },
     "metadata": {},
     "output_type": "display_data"
    }
   ],
   "source": [
    "from transformers import AutoTokenizer, AutoModelForCausalLM\n",
    "\n",
    "\n",
    "model_name = \"cerebras/Cerebras-GPT-13B\"\n",
    "cache_dir = \"/home/ec2-user/SageMaker/tmp\"\n",
    "tokenizer = AutoTokenizer.from_pretrained(model_name, cache_dir=cache_dir)\n",
    "model = AutoModelForCausalLM.from_pretrained(model_name, cache_dir=cache_dir)"
   ]
  },
  {
   "cell_type": "code",
   "execution_count": 3,
   "id": "6b06627f",
   "metadata": {},
   "outputs": [],
   "source": [
    "# ラベル\n",
    "labels = [\n",
    "  \"後藤ひとり\",\n",
    "  \"伊地知虹夏\",\n",
    "  \"山田リョウ\",\n",
    "  \"喜多郁代\",\n",
    "  \"ギターヒーローの正体は？\",\n",
    "]\n",
    "\n",
    "# データ\n",
    "data = [\n",
    "  \"秀華高校に通う女子。桃色の髪を無造作に伸ばし、いつもジャージを身につけている。...\",\n",
    "  \"下北沢高校に通う女子。後藤ひとりより1学年上。ライトイエロー色の髪をサイドテールにセットし、派手目のファッションを好んで着ている。...\",\n",
    "  \"下北沢高校に通う女子。後藤ひとりより1学年上。中性的な雰囲気を漂わせた麗人で、青色の髪をボブにセットしている。...\",\n",
    "  \"秀華高校に通う女子。後藤ひとりとは同学年。ウェーブの入った赤い髪をセミロングに伸ばした美少女で、社交的な性格をしている。...\",\n",
    "  \"ギターヒーローの正体は？\",\n",
    "]"
   ]
  },
  {
   "cell_type": "code",
   "execution_count": 4,
   "id": "e351f02f",
   "metadata": {},
   "outputs": [],
   "source": [
    "from langchain.embeddings import HuggingFaceEmbeddings\n",
    "\n",
    "# ・embed_query() : 単一のテキストを埋め込みに変換。\n",
    "# ・embed_documents() : 複数のテキストを埋め込みに変換。\n",
    "\n",
    "# HuggingFaceによる埋め込み生成\n",
    "embeddings = HuggingFaceEmbeddings()\n",
    "vectors = embeddings.embed_documents(data)"
   ]
  },
  {
   "cell_type": "code",
   "execution_count": 5,
   "id": "5c1c449c",
   "metadata": {},
   "outputs": [],
   "source": [
    "import io\n",
    "\n",
    "# ファイルに保存\n",
    "out_v = io.open(\"vectors.tsv\", \"w\", encoding=\"utf-8\")\n",
    "out_m = io.open(\"metadata.tsv\", \"w\", encoding=\"utf-8\")\n",
    "for index, label in enumerate(labels):\n",
    "    vector = vectors[index]\n",
    "    out_v.write(\"\\t\".join([str(x) for x in vector]) + \"\\n\")\n",
    "    out_m.write(label + \"\\n\")\n",
    "out_v.close()\n",
    "out_m.close()"
   ]
  },
  {
   "cell_type": "code",
   "execution_count": null,
   "id": "b9b7ec53",
   "metadata": {},
   "outputs": [],
   "source": [
    "# open https://projector.tensorflow.org/"
   ]
  },
  {
   "cell_type": "code",
   "execution_count": 6,
   "id": "d25e6d44",
   "metadata": {},
   "outputs": [],
   "source": [
    "labels = [\n",
    " \"リンゴ\",\n",
    " \"梨\",\n",
    " \"桃\",\n",
    " \"犬\",\n",
    " \"猫\",\n",
    " \"ウサギ\",\n",
    " \"Apple\",\n",
    " \"Pear\",\n",
    " \"Peach\",\n",
    " \"Dog\",\n",
    " \"Cat\",\n",
    " \"Rabbit\",\n",
    "]\n",
    "\n",
    "data = [\n",
    "  \"バラ科リンゴ属の落葉高木、またはその果実のこと。...\",\n",
    "  \"バラ科ナシ属の植物、もしくは果物として食用にされるその果実のこと。主なものとして、...\",\n",
    "  \"バラ科スモモ属の落葉小高木。また、その果実や花のこと。...\",\n",
    "  \"食肉目・イヌ科・イヌ属に分類される哺乳類の一種である。 ...\",\n",
    "  \"狭義には食肉目ネコ科ネコ属に分類されるリビアヤマネコ（ヨーロッパヤマネコ）が...\",\n",
    "  \"最も広義には兎形目、狭義にはウサギ科、さらに狭義にはウサギ亜科もしくはノウサギ亜科...\",\n",
    "  \"A deciduous tall tree belonging to the genus Malus of the Rosaceae family,...\",\n",
    "  \"A plant belonging to the genus Pear of the family Rosaceae, ...\",\n",
    "  \"A deciduous small tree of the Rosaceae family Plum. ...\",\n",
    "  \"It is a mammal classified under the order Carnivora, ...\",\n",
    "  \"In a narrow sense, the Libyan wildcat (European wildcat), ...\",\n",
    "  \"A general term for the Lagomorpha in the broadest sense, ...\",\n",
    "]"
   ]
  },
  {
   "cell_type": "code",
   "execution_count": 7,
   "id": "3f16dbef",
   "metadata": {},
   "outputs": [],
   "source": [
    "vectors2 = embeddings.embed_documents(data)\n",
    "\n",
    "import io\n",
    "\n",
    "# ファイルに保存\n",
    "out_v = io.open(\"vectors2.tsv\", \"w\", encoding=\"utf-8\")\n",
    "out_m = io.open(\"metadata2.tsv\", \"w\", encoding=\"utf-8\")\n",
    "for index, label in enumerate(labels):\n",
    "    vector = vectors2[index]\n",
    "    out_v.write(\"\\t\".join([str(x) for x in vector]) + \"\\n\")\n",
    "    out_m.write(label + \"\\n\")\n",
    "out_v.close()\n",
    "out_m.close()"
   ]
  },
  {
   "cell_type": "code",
   "execution_count": 8,
   "id": "012af432",
   "metadata": {},
   "outputs": [],
   "source": [
    "from PIL import Image\n",
    "\n",
    "img = Image.open('img.png')"
   ]
  },
  {
   "cell_type": "code",
   "execution_count": 9,
   "id": "3844bd13",
   "metadata": {},
   "outputs": [
    {
     "data": {
      "image/png": "[encoded data removed]",
      "text/plain": [
       "<PIL.PngImagePlugin.PngImageFile image mode=RGBA size=703x742>"
      ]
     },
     "execution_count": 9,
     "metadata": {},
     "output_type": "execute_result"
    }
   ],
   "source": [
    "img"
   ]
  },
  {
   "cell_type": "code",
   "execution_count": null,
   "id": "45e47c80",
   "metadata": {},
   "outputs": [],
   "source": []
  }
 ],
 "metadata": {
  "kernelspec": {
   "display_name": "conda_pytorch_p39",
   "language": "python",
   "name": "conda_pytorch_p39"
  },
  "language_info": {
   "codemirror_mode": {
    "name": "ipython",
    "version": 3
   },
   "file_extension": ".py",
   "mimetype": "text/x-python",
   "name": "python",
   "nbconvert_exporter": "python",
   "pygments_lexer": "ipython3",
   "version": "3.9.15"
  }
 },
 "nbformat": 4,
 "nbformat_minor": 5
}
