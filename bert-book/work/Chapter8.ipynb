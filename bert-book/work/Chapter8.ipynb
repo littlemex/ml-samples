{
 "cells": [
  {
   "cell_type": "markdown",
   "metadata": {
    "id": "ON6jU-cos5E1"
   },
   "source": [
    "# 8章\n",
    "- 以下で実行するコードには確率的な処理が含まれていることがあり、コードの出力結果と本書に記載されている出力例が異なることがあります。"
   ]
  },
  {
   "cell_type": "code",
   "execution_count": 1,
   "metadata": {
    "id": "r6r9ATFJImOU"
   },
   "outputs": [
    {
     "name": "stdout",
     "output_type": "stream",
     "text": [
      "mkdir: cannot create directory ‘chap8’: File exists\n",
      "/home/root/work/chap8\n"
     ]
    }
   ],
   "source": [
    "# 8-1\n",
    "!mkdir chap8\n",
    "%cd ./chap8"
   ]
  },
  {
   "cell_type": "code",
   "execution_count": 2,
   "metadata": {
    "id": "0hJ-pXOwXBzH"
   },
   "outputs": [
    {
     "name": "stdout",
     "output_type": "stream",
     "text": [
      "Requirement already satisfied: transformers==4.18.0 in /usr/local/lib/python3.8/dist-packages (4.18.0)\n",
      "Requirement already satisfied: fugashi==1.1.0 in /usr/local/lib/python3.8/dist-packages (1.1.0)\n",
      "Requirement already satisfied: ipadic==1.0.0 in /usr/local/lib/python3.8/dist-packages (1.0.0)\n",
      "Requirement already satisfied: pytorch-lightning==1.6.1 in /usr/local/lib/python3.8/dist-packages (1.6.1)\n",
      "Requirement already satisfied: packaging>=20.0 in /usr/local/lib/python3.8/dist-packages (from transformers==4.18.0) (21.3)\n",
      "Requirement already satisfied: requests in /usr/local/lib/python3.8/dist-packages (from transformers==4.18.0) (2.27.1)\n",
      "Requirement already satisfied: sacremoses in /usr/local/lib/python3.8/dist-packages (from transformers==4.18.0) (0.0.49)\n",
      "Requirement already satisfied: pyyaml>=5.1 in /usr/local/lib/python3.8/dist-packages (from transformers==4.18.0) (5.4.1)\n",
      "Requirement already satisfied: regex!=2019.12.17 in /usr/local/lib/python3.8/dist-packages (from transformers==4.18.0) (2022.3.15)\n",
      "Requirement already satisfied: filelock in /usr/local/lib/python3.8/dist-packages (from transformers==4.18.0) (3.6.0)\n",
      "Requirement already satisfied: numpy>=1.17 in /usr/local/lib/python3.8/dist-packages (from transformers==4.18.0) (1.21.5)\n",
      "Requirement already satisfied: huggingface-hub<1.0,>=0.1.0 in /usr/local/lib/python3.8/dist-packages (from transformers==4.18.0) (0.5.1)\n",
      "Requirement already satisfied: tokenizers!=0.11.3,<0.13,>=0.11.1 in /usr/local/lib/python3.8/dist-packages (from transformers==4.18.0) (0.12.1)\n",
      "Requirement already satisfied: tqdm>=4.27 in /usr/local/lib/python3.8/dist-packages (from transformers==4.18.0) (4.64.0)\n",
      "Requirement already satisfied: torch>=1.8.* in /usr/local/lib/python3.8/dist-packages (from pytorch-lightning==1.6.1) (1.11.0)\n",
      "Requirement already satisfied: torchmetrics>=0.4.1 in /usr/local/lib/python3.8/dist-packages (from pytorch-lightning==1.6.1) (0.8.2)\n",
      "Requirement already satisfied: typing-extensions>=4.0.0 in /usr/local/lib/python3.8/dist-packages (from pytorch-lightning==1.6.1) (4.1.1)\n",
      "Requirement already satisfied: pyDeprecate<0.4.0,>=0.3.1 in /usr/local/lib/python3.8/dist-packages (from pytorch-lightning==1.6.1) (0.3.2)\n",
      "Requirement already satisfied: tensorboard>=2.2.0 in /usr/local/lib/python3.8/dist-packages (from pytorch-lightning==1.6.1) (2.8.0)\n",
      "Requirement already satisfied: fsspec[http]!=2021.06.0,>=2021.05.0 in /usr/local/lib/python3.8/dist-packages (from pytorch-lightning==1.6.1) (2022.3.0)\n",
      "Requirement already satisfied: aiohttp in /usr/local/lib/python3.8/dist-packages (from fsspec[http]!=2021.06.0,>=2021.05.0->pytorch-lightning==1.6.1) (3.8.1)\n",
      "Requirement already satisfied: pyparsing!=3.0.5,>=2.0.2 in /usr/local/lib/python3.8/dist-packages (from packaging>=20.0->transformers==4.18.0) (3.0.7)\n",
      "Requirement already satisfied: wheel>=0.26 in /usr/lib/python3/dist-packages (from tensorboard>=2.2.0->pytorch-lightning==1.6.1) (0.34.2)\n",
      "Requirement already satisfied: tensorboard-data-server<0.7.0,>=0.6.0 in /usr/local/lib/python3.8/dist-packages (from tensorboard>=2.2.0->pytorch-lightning==1.6.1) (0.6.1)\n",
      "Requirement already satisfied: google-auth-oauthlib<0.5,>=0.4.1 in /usr/local/lib/python3.8/dist-packages (from tensorboard>=2.2.0->pytorch-lightning==1.6.1) (0.4.6)\n",
      "Requirement already satisfied: grpcio>=1.24.3 in /usr/local/lib/python3.8/dist-packages (from tensorboard>=2.2.0->pytorch-lightning==1.6.1) (1.43.0)\n",
      "Requirement already satisfied: protobuf>=3.6.0 in /usr/local/lib/python3.8/dist-packages (from tensorboard>=2.2.0->pytorch-lightning==1.6.1) (3.20.0)\n",
      "Requirement already satisfied: google-auth<3,>=1.6.3 in /usr/local/lib/python3.8/dist-packages (from tensorboard>=2.2.0->pytorch-lightning==1.6.1) (2.6.2)\n",
      "Requirement already satisfied: absl-py>=0.4 in /usr/local/lib/python3.8/dist-packages (from tensorboard>=2.2.0->pytorch-lightning==1.6.1) (1.0.0)\n",
      "Requirement already satisfied: tensorboard-plugin-wit>=1.6.0 in /usr/local/lib/python3.8/dist-packages (from tensorboard>=2.2.0->pytorch-lightning==1.6.1) (1.8.1)\n",
      "Requirement already satisfied: werkzeug>=0.11.15 in /usr/local/lib/python3.8/dist-packages (from tensorboard>=2.2.0->pytorch-lightning==1.6.1) (2.1.1)\n",
      "Requirement already satisfied: markdown>=2.6.8 in /usr/local/lib/python3.8/dist-packages (from tensorboard>=2.2.0->pytorch-lightning==1.6.1) (3.3.6)\n",
      "Requirement already satisfied: setuptools>=41.0.0 in /usr/lib/python3/dist-packages (from tensorboard>=2.2.0->pytorch-lightning==1.6.1) (45.2.0)\n",
      "Requirement already satisfied: charset-normalizer~=2.0.0 in /usr/local/lib/python3.8/dist-packages (from requests->transformers==4.18.0) (2.0.12)\n",
      "Requirement already satisfied: idna<4,>=2.5 in /usr/local/lib/python3.8/dist-packages (from requests->transformers==4.18.0) (3.3)\n",
      "Requirement already satisfied: certifi>=2017.4.17 in /usr/local/lib/python3.8/dist-packages (from requests->transformers==4.18.0) (2021.10.8)\n",
      "Requirement already satisfied: urllib3<1.27,>=1.21.1 in /usr/local/lib/python3.8/dist-packages (from requests->transformers==4.18.0) (1.26.9)\n",
      "Requirement already satisfied: click in /usr/local/lib/python3.8/dist-packages (from sacremoses->transformers==4.18.0) (8.1.2)\n",
      "Requirement already satisfied: six in /usr/local/lib/python3.8/dist-packages (from sacremoses->transformers==4.18.0) (1.16.0)\n",
      "Requirement already satisfied: joblib in /usr/local/lib/python3.8/dist-packages (from sacremoses->transformers==4.18.0) (1.1.0)\n",
      "Requirement already satisfied: pyasn1-modules>=0.2.1 in /usr/local/lib/python3.8/dist-packages (from google-auth<3,>=1.6.3->tensorboard>=2.2.0->pytorch-lightning==1.6.1) (0.2.8)\n",
      "Requirement already satisfied: rsa<5,>=3.1.4 in /usr/local/lib/python3.8/dist-packages (from google-auth<3,>=1.6.3->tensorboard>=2.2.0->pytorch-lightning==1.6.1) (4.8)\n",
      "Requirement already satisfied: cachetools<6.0,>=2.0.0 in /usr/local/lib/python3.8/dist-packages (from google-auth<3,>=1.6.3->tensorboard>=2.2.0->pytorch-lightning==1.6.1) (5.0.0)\n",
      "Requirement already satisfied: requests-oauthlib>=0.7.0 in /usr/local/lib/python3.8/dist-packages (from google-auth-oauthlib<0.5,>=0.4.1->tensorboard>=2.2.0->pytorch-lightning==1.6.1) (1.3.1)\n",
      "Requirement already satisfied: importlib-metadata>=4.4 in /usr/local/lib/python3.8/dist-packages (from markdown>=2.6.8->tensorboard>=2.2.0->pytorch-lightning==1.6.1) (4.11.3)\n",
      "Requirement already satisfied: attrs>=17.3.0 in /usr/local/lib/python3.8/dist-packages (from aiohttp->fsspec[http]!=2021.06.0,>=2021.05.0->pytorch-lightning==1.6.1) (21.4.0)\n",
      "Requirement already satisfied: aiosignal>=1.1.2 in /usr/local/lib/python3.8/dist-packages (from aiohttp->fsspec[http]!=2021.06.0,>=2021.05.0->pytorch-lightning==1.6.1) (1.2.0)\n",
      "Requirement already satisfied: async-timeout<5.0,>=4.0.0a3 in /usr/local/lib/python3.8/dist-packages (from aiohttp->fsspec[http]!=2021.06.0,>=2021.05.0->pytorch-lightning==1.6.1) (4.0.2)\n",
      "Requirement already satisfied: yarl<2.0,>=1.0 in /usr/local/lib/python3.8/dist-packages (from aiohttp->fsspec[http]!=2021.06.0,>=2021.05.0->pytorch-lightning==1.6.1) (1.7.2)\n",
      "Requirement already satisfied: frozenlist>=1.1.1 in /usr/local/lib/python3.8/dist-packages (from aiohttp->fsspec[http]!=2021.06.0,>=2021.05.0->pytorch-lightning==1.6.1) (1.3.0)\n",
      "Requirement already satisfied: multidict<7.0,>=4.5 in /usr/local/lib/python3.8/dist-packages (from aiohttp->fsspec[http]!=2021.06.0,>=2021.05.0->pytorch-lightning==1.6.1) (6.0.2)\n",
      "Requirement already satisfied: zipp>=0.5 in /usr/local/lib/python3.8/dist-packages (from importlib-metadata>=4.4->markdown>=2.6.8->tensorboard>=2.2.0->pytorch-lightning==1.6.1) (3.8.0)\n",
      "Requirement already satisfied: pyasn1<0.5.0,>=0.4.6 in /usr/local/lib/python3.8/dist-packages (from pyasn1-modules>=0.2.1->google-auth<3,>=1.6.3->tensorboard>=2.2.0->pytorch-lightning==1.6.1) (0.4.8)\n",
      "Requirement already satisfied: oauthlib>=3.0.0 in /usr/local/lib/python3.8/dist-packages (from requests-oauthlib>=0.7.0->google-auth-oauthlib<0.5,>=0.4.1->tensorboard>=2.2.0->pytorch-lightning==1.6.1) (3.2.0)\n",
      "\u001b[33mWARNING: Running pip as the 'root' user can result in broken permissions and conflicting behaviour with the system package manager. It is recommended to use a virtual environment instead: https://pip.pypa.io/warnings/venv\u001b[0m\u001b[33m\n",
      "\u001b[0m"
     ]
    }
   ],
   "source": [
    "# 8-2\n",
    "!pip install transformers==4.18.0 fugashi==1.1.0 ipadic==1.0.0 pytorch-lightning==1.6.1"
   ]
  },
  {
   "cell_type": "code",
   "execution_count": 3,
   "metadata": {
    "id": "WWsBlMRNhnnx"
   },
   "outputs": [],
   "source": [
    "# 8-3\n",
    "import itertools\n",
    "import random\n",
    "import json\n",
    "from tqdm import tqdm\n",
    "import numpy as np\n",
    "import unicodedata\n",
    "\n",
    "import torch\n",
    "from torch.utils.data import DataLoader\n",
    "from transformers import BertJapaneseTokenizer, BertForTokenClassification\n",
    "import pytorch_lightning as pl\n",
    "\n",
    "# 日本語学習済みモデル\n",
    "MODEL_NAME = 'cl-tohoku/bert-base-japanese-whole-word-masking'"
   ]
  },
  {
   "cell_type": "code",
   "execution_count": 4,
   "metadata": {
    "id": "ilBB1q6zPvww"
   },
   "outputs": [
    {
     "name": "stdout",
     "output_type": "stream",
     "text": [
      "ＡＢＣ -> ABC\n",
      "ABC -> ABC\n",
      "１２３ -> 123\n",
      "123 -> 123\n",
      "アイウ -> アイウ\n",
      "ｱｲｳ -> アイウ\n"
     ]
    }
   ],
   "source": [
    "# 8-4\n",
    "normalize = lambda s: unicodedata.normalize(\"NFKC\",s)\n",
    "print(f'ＡＢＣ -> {normalize(\"ＡＢＣ\")}' )  # 全角アルファベット\n",
    "print(f'ABC -> {normalize(\"ABC\")}' )        # 半角アルファベット\n",
    "print(f'１２３ -> {normalize(\"１２３\")}' )  # 全角数字\n",
    "print(f'123 -> {normalize(\"123\")}' )        # 半角数字\n",
    "print(f'アイウ -> {normalize(\"アイウ\")}' )  # 全角カタカナ\n",
    "print(f'ｱｲｳ -> {normalize(\"ｱｲｳ\")}' )        # 半角カタカナ"
   ]
  },
  {
   "cell_type": "code",
   "execution_count": 5,
   "metadata": {
    "id": "OnK2OiMKhmt0"
   },
   "outputs": [],
   "source": [
    "# 8-5\n",
    "class NER_tokenizer(BertJapaneseTokenizer):\n",
    "       \n",
    "    def encode_plus_tagged(self, text, entities, max_length):\n",
    "        \"\"\"\n",
    "        文章とそれに含まれる固有表現が与えられた時に、\n",
    "        符号化とラベル列の作成を行う。\n",
    "        \"\"\"\n",
    "        # 固有表現の前後でtextを分割し、それぞれのラベルをつけておく。\n",
    "        entities = sorted(entities, key=lambda x: x['span'][0])\n",
    "        splitted = [] # 分割後の文字列を追加していく\n",
    "        position = 0\n",
    "        for entity in entities:\n",
    "            start = entity['span'][0]\n",
    "            end = entity['span'][1]\n",
    "            label = entity['type_id']\n",
    "            # 固有表現ではないものには0のラベルを付与\n",
    "            splitted.append({'text':text[position:start], 'label':0}) \n",
    "            # 固有表現には、固有表現のタイプに対応するIDをラベルとして付与\n",
    "            splitted.append({'text':text[start:end], 'label':label}) \n",
    "            position = end\n",
    "        splitted.append({'text': text[position:], 'label':0})\n",
    "        splitted = [ s for s in splitted if s['text'] ] # 長さ0の文字列は除く\n",
    "\n",
    "        # 分割されたそれぞれの文字列をトークン化し、ラベルをつける。\n",
    "        tokens = [] # トークンを追加していく\n",
    "        labels = [] # トークンのラベルを追加していく\n",
    "        for text_splitted in splitted:\n",
    "            text = text_splitted['text']\n",
    "            label = text_splitted['label']\n",
    "            tokens_splitted = self.tokenize(text)\n",
    "            labels_splitted = [label] * len(tokens_splitted)\n",
    "            tokens.extend(tokens_splitted)\n",
    "            labels.extend(labels_splitted)\n",
    "\n",
    "        # 符号化を行いBERTに入力できる形式にする。\n",
    "        input_ids = self.convert_tokens_to_ids(tokens)\n",
    "        encoding = self.prepare_for_model(\n",
    "            input_ids, \n",
    "            max_length=max_length, \n",
    "            padding='max_length', \n",
    "            truncation=True\n",
    "        ) # input_idsをencodingに変換\n",
    "        # 特殊トークン[CLS]、[SEP]のラベルを0にする。\n",
    "        labels = [0] + labels[:max_length-2] + [0] \n",
    "        # 特殊トークン[PAD]のラベルを0にする。\n",
    "        labels = labels + [0]*( max_length - len(labels) ) \n",
    "        encoding['labels'] = labels\n",
    "\n",
    "        return encoding\n",
    "\n",
    "    def encode_plus_untagged(\n",
    "        self, text, max_length=None, return_tensors=None\n",
    "    ):\n",
    "        \"\"\"\n",
    "        文章をトークン化し、それぞれのトークンの文章中の位置も特定しておく。\n",
    "        \"\"\"\n",
    "        # 文章のトークン化を行い、\n",
    "        # それぞれのトークンと文章中の文字列を対応づける。\n",
    "        tokens = [] # トークンを追加していく。\n",
    "        tokens_original = [] # トークンに対応する文章中の文字列を追加していく。\n",
    "        words = self.word_tokenizer.tokenize(text) # MeCabで単語に分割\n",
    "        for word in words:\n",
    "            # 単語をサブワードに分割\n",
    "            tokens_word = self.subword_tokenizer.tokenize(word) \n",
    "            tokens.extend(tokens_word)\n",
    "            if tokens_word[0] == '[UNK]': # 未知語への対応\n",
    "                tokens_original.append(word)\n",
    "            else:\n",
    "                tokens_original.extend([\n",
    "                    token.replace('##','') for token in tokens_word\n",
    "                ])\n",
    "\n",
    "        # 各トークンの文章中での位置を調べる。（空白の位置を考慮する）\n",
    "        position = 0\n",
    "        spans = [] # トークンの位置を追加していく。\n",
    "        for token in tokens_original:\n",
    "            l = len(token)\n",
    "            while 1:\n",
    "                if token != text[position:position+l]:\n",
    "                    position += 1\n",
    "                else:\n",
    "                    spans.append([position, position+l])\n",
    "                    position += l\n",
    "                    break\n",
    "\n",
    "        # 符号化を行いBERTに入力できる形式にする。\n",
    "        input_ids = self.convert_tokens_to_ids(tokens) \n",
    "        encoding = self.prepare_for_model(\n",
    "            input_ids, \n",
    "            max_length=max_length, \n",
    "            padding='max_length' if max_length else False, \n",
    "            truncation=True if max_length else False\n",
    "        )\n",
    "        sequence_length = len(encoding['input_ids'])\n",
    "        # 特殊トークン[CLS]に対するダミーのspanを追加。\n",
    "        spans = [[-1, -1]] + spans[:sequence_length-2] \n",
    "        # 特殊トークン[SEP]、[PAD]に対するダミーのspanを追加。\n",
    "        spans = spans + [[-1, -1]] * ( sequence_length - len(spans) ) \n",
    "\n",
    "        # 必要に応じてtorch.Tensorにする。\n",
    "        if return_tensors == 'pt':\n",
    "            encoding = { k: torch.tensor([v]) for k, v in encoding.items() }\n",
    "\n",
    "        return encoding, spans\n",
    "\n",
    "    def convert_bert_output_to_entities(self, text, labels, spans):\n",
    "        \"\"\"\n",
    "        文章、ラベル列の予測値、各トークンの位置から固有表現を得る。\n",
    "        \"\"\"\n",
    "        # labels, spansから特殊トークンに対応する部分を取り除く\n",
    "        labels = [label for label, span in zip(labels, spans) if span[0] != -1]\n",
    "        spans = [span for span in spans if span[0] != -1]\n",
    "\n",
    "        # 同じラベルが連続するトークンをまとめて、固有表現を抽出する。\n",
    "        entities = []\n",
    "        for label, group \\\n",
    "            in itertools.groupby(enumerate(labels), key=lambda x: x[1]):\n",
    "            \n",
    "            group = list(group)\n",
    "            start = spans[group[0][0]][0]\n",
    "            end = spans[group[-1][0]][1]\n",
    "\n",
    "            if label != 0: # ラベルが0以外ならば、新たな固有表現として追加。\n",
    "                entity = {\n",
    "                    \"name\": text[start:end],\n",
    "                    \"span\": [start, end],\n",
    "                    \"type_id\": label\n",
    "                }\n",
    "                entities.append(entity)\n",
    "\n",
    "        return entities"
   ]
  },
  {
   "cell_type": "code",
   "execution_count": 6,
   "metadata": {
    "id": "qh07iizk9Onf"
   },
   "outputs": [
    {
     "name": "stderr",
     "output_type": "stream",
     "text": [
      "The tokenizer class you load from this checkpoint is not the same type as the class this function is called from. It may result in unexpected tokenization. \n",
      "The tokenizer class you load from this checkpoint is 'BertJapaneseTokenizer'. \n",
      "The class this function is called from is 'NER_tokenizer'.\n"
     ]
    }
   ],
   "source": [
    "# 8-6\n",
    "tokenizer = NER_tokenizer.from_pretrained(MODEL_NAME)"
   ]
  },
  {
   "cell_type": "code",
   "execution_count": 7,
   "metadata": {
    "id": "5704VNOVt8Yg"
   },
   "outputs": [
    {
     "name": "stdout",
     "output_type": "stream",
     "text": [
      "{'input_ids': [2, 10271, 28486, 5, 546, 10780, 2464, 13, 5, 1878, 2682, 9, 10750, 308, 10, 8, 3, 0, 0, 0], 'token_type_ids': [0, 0, 0, 0, 0, 0, 0, 0, 0, 0, 0, 0, 0, 0, 0, 0, 0, 0, 0, 0], 'attention_mask': [1, 1, 1, 1, 1, 1, 1, 1, 1, 1, 1, 1, 1, 1, 1, 1, 1, 0, 0, 0], 'labels': [0, 0, 0, 0, 1, 1, 1, 0, 0, 0, 0, 0, 0, 0, 0, 0, 0, 0, 0, 0]}\n"
     ]
    }
   ],
   "source": [
    "# 8-7\n",
    "text = '昨日のみらい事務所との打ち合わせは順調だった。'\n",
    "entities = [\n",
    "    {'name': 'みらい事務所', 'span': [3,9], 'type_id': 1}\n",
    "]\n",
    "\n",
    "encoding = tokenizer.encode_plus_tagged(\n",
    "    text, entities, max_length=20\n",
    ")\n",
    "print(encoding)"
   ]
  },
  {
   "cell_type": "code",
   "execution_count": 8,
   "metadata": {
    "id": "PDik0FRIL38J"
   },
   "outputs": [
    {
     "name": "stdout",
     "output_type": "stream",
     "text": [
      "# encoding\n",
      "{'input_ids': tensor([[    2,     1, 26280,     5,  1543,   125,     9,  6749, 28550,  2953,\n",
      "         28550, 28566, 21202, 28683, 14050, 12475,    12,    31,     8,     3]]), 'token_type_ids': tensor([[0, 0, 0, 0, 0, 0, 0, 0, 0, 0, 0, 0, 0, 0, 0, 0, 0, 0, 0, 0]]), 'attention_mask': tensor([[1, 1, 1, 1, 1, 1, 1, 1, 1, 1, 1, 1, 1, 1, 1, 1, 1, 1, 1, 1]])}\n",
      "# spans\n",
      "[[-1, -1], [0, 1], [1, 2], [2, 3], [3, 5], [5, 6], [6, 7], [7, 9], [9, 10], [10, 12], [12, 13], [13, 14], [15, 18], [18, 19], [19, 23], [24, 27], [27, 28], [28, 30], [30, 31], [-1, -1]]\n"
     ]
    }
   ],
   "source": [
    "# 8-8\n",
    "text = '騰訊の英語名はTencent Holdings Ltdである。'\n",
    "encoding, spans = tokenizer.encode_plus_untagged(\n",
    "    text, return_tensors='pt'\n",
    ")\n",
    "print('# encoding')\n",
    "print(encoding)\n",
    "print('# spans')\n",
    "print(spans)"
   ]
  },
  {
   "cell_type": "code",
   "execution_count": 9,
   "metadata": {
    "id": "YHS30W_woM-E"
   },
   "outputs": [
    {
     "name": "stdout",
     "output_type": "stream",
     "text": [
      "[{'name': '騰訊', 'span': [0, 2], 'type_id': 1}, {'name': 'Tencent Holdings Ltd', 'span': [7, 27], 'type_id': 1}]\n"
     ]
    }
   ],
   "source": [
    "# 8-9\n",
    "labels_predicted = [0,1,1,0,0,0,0,1,1,1,1,1,1,1,1,1,0,0,0,0]\n",
    "entities = tokenizer.convert_bert_output_to_entities(\n",
    "    text, labels_predicted, spans\n",
    ")\n",
    "print(entities)"
   ]
  },
  {
   "cell_type": "code",
   "execution_count": 10,
   "metadata": {
    "id": "Jo45M23hSL_-"
   },
   "outputs": [
    {
     "name": "stderr",
     "output_type": "stream",
     "text": [
      "The tokenizer class you load from this checkpoint is not the same type as the class this function is called from. It may result in unexpected tokenization. \n",
      "The tokenizer class you load from this checkpoint is 'BertJapaneseTokenizer'. \n",
      "The class this function is called from is 'NER_tokenizer'.\n",
      "Some weights of the model checkpoint at cl-tohoku/bert-base-japanese-whole-word-masking were not used when initializing BertForTokenClassification: ['cls.predictions.transform.LayerNorm.bias', 'cls.predictions.transform.dense.weight', 'cls.predictions.transform.dense.bias', 'cls.predictions.bias', 'cls.seq_relationship.weight', 'cls.seq_relationship.bias', 'cls.predictions.transform.LayerNorm.weight', 'cls.predictions.decoder.weight']\n",
      "- This IS expected if you are initializing BertForTokenClassification from the checkpoint of a model trained on another task or with another architecture (e.g. initializing a BertForSequenceClassification model from a BertForPreTraining model).\n",
      "- This IS NOT expected if you are initializing BertForTokenClassification from the checkpoint of a model that you expect to be exactly identical (initializing a BertForSequenceClassification model from a BertForSequenceClassification model).\n",
      "Some weights of BertForTokenClassification were not initialized from the model checkpoint at cl-tohoku/bert-base-japanese-whole-word-masking and are newly initialized: ['classifier.weight', 'classifier.bias']\n",
      "You should probably TRAIN this model on a down-stream task to be able to use it for predictions and inference.\n"
     ]
    }
   ],
   "source": [
    "# 8-10\n",
    "tokenizer = NER_tokenizer.from_pretrained(MODEL_NAME)\n",
    "bert_tc = BertForTokenClassification.from_pretrained(\n",
    "    MODEL_NAME, num_labels=4\n",
    ")\n",
    "bert_tc = bert_tc.cuda()"
   ]
  },
  {
   "cell_type": "code",
   "execution_count": 11,
   "metadata": {
    "id": "t344Ak2_0C2c"
   },
   "outputs": [
    {
     "name": "stdout",
     "output_type": "stream",
     "text": [
      "[{'name': 'AさんはB', 'span': [0, 5], 'type_id': 1}, {'name': '大学', 'span': [5, 7], 'type_id': 3}, {'name': 'に', 'span': [7, 8], 'type_id': 1}, {'name': '入学', 'span': [8, 10], 'type_id': 3}, {'name': 'し', 'span': [10, 11], 'type_id': 1}, {'name': 'た', 'span': [11, 12], 'type_id': 3}, {'name': '。', 'span': [12, 13], 'type_id': 1}]\n"
     ]
    }
   ],
   "source": [
    "# 8-11\n",
    "text = 'AさんはB大学に入学した。'\n",
    "\n",
    "# 符号化を行い、各トークンの文章中での位置も特定しておく。\n",
    "encoding, spans = tokenizer.encode_plus_untagged(\n",
    "    text, return_tensors='pt'\n",
    ") \n",
    "encoding = { k: v.cuda() for k, v in encoding.items() } \n",
    "\n",
    "# BERTでトークン毎の分類スコアを出力し、スコアの最も高いラベルを予測値とする。\n",
    "with torch.no_grad():\n",
    "    output = bert_tc(**encoding)\n",
    "    scores = output.logits\n",
    "    labels_predicted = scores[0].argmax(-1).cpu().numpy().tolist()\n",
    "\n",
    "# ラベル列を固有表現に変換\n",
    "entities = tokenizer.convert_bert_output_to_entities(\n",
    "    text, labels_predicted, spans\n",
    ")\n",
    "print(entities)"
   ]
  },
  {
   "cell_type": "code",
   "execution_count": 24,
   "metadata": {
    "id": "QmFZVpb208CK"
   },
   "outputs": [
    {
     "data": {
      "text/plain": [
       "tensor(0.7445, device='cuda:0', grad_fn=<NllLossBackward0>)"
      ]
     },
     "execution_count": 24,
     "metadata": {},
     "output_type": "execute_result"
    }
   ],
   "source": [
    "# 8-12\n",
    "data = [\n",
    "    {\n",
    "        'text': 'AさんはB大学に入学した。',\n",
    "        'entities': [\n",
    "            {'name': 'A', 'span': [0, 1], 'type_id': 2},\n",
    "            {'name': 'B大学', 'span': [4, 7], 'type_id': 1}\n",
    "        ]\n",
    "    },\n",
    "    {\n",
    "        'text': 'CDE株式会社は新製品「E」を販売する。',\n",
    "        'entities': [\n",
    "            {'name': 'CDE株式会社', 'span': [0, 7], 'type_id': 1},\n",
    "            {'name': 'E', 'span': [12, 13], 'type_id': 3}\n",
    "        ]\n",
    "    }\n",
    "]\n",
    "\n",
    "# 各データを符号化し、データローダを作成する。\n",
    "max_length=32\n",
    "dataset_for_loader = []\n",
    "for sample in data:\n",
    "    text = sample['text']\n",
    "    entities = sample['entities']\n",
    "    encoding = tokenizer.encode_plus_tagged(\n",
    "        text, entities, max_length=max_length\n",
    "    )\n",
    "    encoding = { k: torch.tensor(v) for k, v in encoding.items() }\n",
    "    dataset_for_loader.append(encoding)\n",
    "dataloader = DataLoader(dataset_for_loader, batch_size=len(data))\n",
    "\n",
    "# ミニバッチを取り出し損失を得る。\n",
    "for batch in dataloader:\n",
    "    batch = { k: v.cuda() for k, v in batch.items() } # GPU\n",
    "    output = bert_tc(**batch) # BERTへ入力\n",
    "    loss = output.loss # 損失\n",
    "\n",
    "loss"
   ]
  },
  {
   "cell_type": "code",
   "execution_count": 13,
   "metadata": {
    "id": "1-4aEmfGf9qT"
   },
   "outputs": [
    {
     "name": "stdout",
     "output_type": "stream",
     "text": [
      "fatal: destination path 'ner-wikipedia-dataset' already exists and is not an empty directory.\r\n"
     ]
    }
   ],
   "source": [
    "# 8-13\n",
    "!git clone --branch v2.0 https://github.com/stockmarkteam/ner-wikipedia-dataset "
   ]
  },
  {
   "cell_type": "code",
   "execution_count": 14,
   "metadata": {
    "id": "HpwR_RXZlX80"
   },
   "outputs": [],
   "source": [
    "# 8-14\n",
    "# データのロード\n",
    "dataset = json.load(open('ner-wikipedia-dataset/ner.json','r'))\n",
    "\n",
    "# 固有表現のタイプとIDを対応付る辞書 \n",
    "type_id_dict = {\n",
    "    \"人名\": 1,\n",
    "    \"法人名\": 2,\n",
    "    \"政治的組織名\": 3,\n",
    "    \"その他の組織名\": 4,\n",
    "    \"地名\": 5,\n",
    "    \"施設名\": 6,\n",
    "    \"製品名\": 7,\n",
    "    \"イベント名\": 8\n",
    "}\n",
    "\n",
    "# カテゴリーをラベルに変更、文字列の正規化する。\n",
    "for sample in dataset:\n",
    "    sample['text'] = unicodedata.normalize('NFKC', sample['text'])\n",
    "    for e in sample[\"entities\"]:\n",
    "        e['type_id'] = type_id_dict[e['type']]\n",
    "        del e['type']\n",
    "\n",
    "# データセットの分割\n",
    "random.shuffle(dataset)\n",
    "n = len(dataset)\n",
    "n_train = int(n*0.6)\n",
    "n_val = int(n*0.2)\n",
    "dataset_train = dataset[:n_train]\n",
    "dataset_val = dataset[n_train:n_train+n_val]\n",
    "dataset_test = dataset[n_train+n_val:]"
   ]
  },
  {
   "cell_type": "code",
   "execution_count": 15,
   "metadata": {
    "id": "MDGDvIPIlX-s"
   },
   "outputs": [
    {
     "name": "stderr",
     "output_type": "stream",
     "text": [
      "The tokenizer class you load from this checkpoint is not the same type as the class this function is called from. It may result in unexpected tokenization. \n",
      "The tokenizer class you load from this checkpoint is 'BertJapaneseTokenizer'. \n",
      "The class this function is called from is 'NER_tokenizer'.\n"
     ]
    }
   ],
   "source": [
    "# 8-15\n",
    "def create_dataset(tokenizer, dataset, max_length):\n",
    "    \"\"\"\n",
    "    データセットをデータローダに入力できる形に整形。\n",
    "    \"\"\"\n",
    "    dataset_for_loader = []\n",
    "    for sample in dataset:\n",
    "        text = sample['text']\n",
    "        entities = sample['entities']\n",
    "        encoding = tokenizer.encode_plus_tagged(\n",
    "            text, entities, max_length=max_length\n",
    "        )\n",
    "        encoding = { k: torch.tensor(v) for k, v in encoding.items() }\n",
    "        dataset_for_loader.append(encoding)\n",
    "    return dataset_for_loader\n",
    "\n",
    "# トークナイザのロード\n",
    "tokenizer = NER_tokenizer.from_pretrained(MODEL_NAME)\n",
    "\n",
    "# データセットの作成\n",
    "max_length = 128\n",
    "dataset_train_for_loader = create_dataset(\n",
    "    tokenizer, dataset_train, max_length\n",
    ")\n",
    "dataset_val_for_loader = create_dataset(\n",
    "    tokenizer, dataset_val, max_length\n",
    ")\n",
    "\n",
    "# データローダの作成\n",
    "dataloader_train = DataLoader(\n",
    "    dataset_train_for_loader, batch_size=32, shuffle=True\n",
    ")\n",
    "dataloader_val = DataLoader(dataset_val_for_loader, batch_size=256)"
   ]
  },
  {
   "cell_type": "code",
   "execution_count": 16,
   "metadata": {
    "id": "446u47Os_Arh"
   },
   "outputs": [
    {
     "name": "stderr",
     "output_type": "stream",
     "text": [
      "GPU available: True, used: True\n",
      "TPU available: False, using: 0 TPU cores\n",
      "IPU available: False, using: 0 IPUs\n",
      "HPU available: False, using: 0 HPUs\n",
      "Some weights of the model checkpoint at cl-tohoku/bert-base-japanese-whole-word-masking were not used when initializing BertForTokenClassification: ['cls.predictions.transform.LayerNorm.bias', 'cls.predictions.transform.dense.weight', 'cls.predictions.transform.dense.bias', 'cls.predictions.bias', 'cls.seq_relationship.weight', 'cls.seq_relationship.bias', 'cls.predictions.transform.LayerNorm.weight', 'cls.predictions.decoder.weight']\n",
      "- This IS expected if you are initializing BertForTokenClassification from the checkpoint of a model trained on another task or with another architecture (e.g. initializing a BertForSequenceClassification model from a BertForPreTraining model).\n",
      "- This IS NOT expected if you are initializing BertForTokenClassification from the checkpoint of a model that you expect to be exactly identical (initializing a BertForSequenceClassification model from a BertForSequenceClassification model).\n",
      "Some weights of BertForTokenClassification were not initialized from the model checkpoint at cl-tohoku/bert-base-japanese-whole-word-masking and are newly initialized: ['classifier.weight', 'classifier.bias']\n",
      "You should probably TRAIN this model on a down-stream task to be able to use it for predictions and inference.\n",
      "/usr/local/lib/python3.8/dist-packages/pytorch_lightning/callbacks/model_checkpoint.py:608: UserWarning: Checkpoint directory /home/root/work/chap8/model exists and is not empty.\n",
      "  rank_zero_warn(f\"Checkpoint directory {dirpath} exists and is not empty.\")\n",
      "LOCAL_RANK: 0 - CUDA_VISIBLE_DEVICES: [0]\n",
      "\n",
      "  | Name    | Type                       | Params\n",
      "-------------------------------------------------------\n",
      "0 | bert_tc | BertForTokenClassification | 110 M \n",
      "-------------------------------------------------------\n",
      "110 M     Trainable params\n",
      "0         Non-trainable params\n",
      "110 M     Total params\n",
      "440.135   Total estimated model params size (MB)\n"
     ]
    },
    {
     "data": {
      "application/vnd.jupyter.widget-view+json": {
       "model_id": "",
       "version_major": 2,
       "version_minor": 0
      },
      "text/plain": [
       "Sanity Checking: 0it [00:00, ?it/s]"
      ]
     },
     "metadata": {},
     "output_type": "display_data"
    },
    {
     "name": "stderr",
     "output_type": "stream",
     "text": [
      "/usr/local/lib/python3.8/dist-packages/pytorch_lightning/trainer/connectors/data_connector.py:240: PossibleUserWarning: The dataloader, val_dataloader 0, does not have many workers which may be a bottleneck. Consider increasing the value of the `num_workers` argument` (try 4 which is the number of cpus on this machine) in the `DataLoader` init to improve performance.\n",
      "  rank_zero_warn(\n",
      "/usr/local/lib/python3.8/dist-packages/pytorch_lightning/trainer/connectors/data_connector.py:240: PossibleUserWarning: The dataloader, train_dataloader, does not have many workers which may be a bottleneck. Consider increasing the value of the `num_workers` argument` (try 4 which is the number of cpus on this machine) in the `DataLoader` init to improve performance.\n",
      "  rank_zero_warn(\n"
     ]
    },
    {
     "data": {
      "application/vnd.jupyter.widget-view+json": {
       "model_id": "2f40507467804439bbc0ceaa45bfd93b",
       "version_major": 2,
       "version_minor": 0
      },
      "text/plain": [
       "Training: 0it [00:00, ?it/s]"
      ]
     },
     "metadata": {},
     "output_type": "display_data"
    },
    {
     "data": {
      "application/vnd.jupyter.widget-view+json": {
       "model_id": "",
       "version_major": 2,
       "version_minor": 0
      },
      "text/plain": [
       "Validation: 0it [00:00, ?it/s]"
      ]
     },
     "metadata": {},
     "output_type": "display_data"
    },
    {
     "data": {
      "application/vnd.jupyter.widget-view+json": {
       "model_id": "",
       "version_major": 2,
       "version_minor": 0
      },
      "text/plain": [
       "Validation: 0it [00:00, ?it/s]"
      ]
     },
     "metadata": {},
     "output_type": "display_data"
    },
    {
     "data": {
      "application/vnd.jupyter.widget-view+json": {
       "model_id": "",
       "version_major": 2,
       "version_minor": 0
      },
      "text/plain": [
       "Validation: 0it [00:00, ?it/s]"
      ]
     },
     "metadata": {},
     "output_type": "display_data"
    },
    {
     "data": {
      "application/vnd.jupyter.widget-view+json": {
       "model_id": "",
       "version_major": 2,
       "version_minor": 0
      },
      "text/plain": [
       "Validation: 0it [00:00, ?it/s]"
      ]
     },
     "metadata": {},
     "output_type": "display_data"
    },
    {
     "data": {
      "application/vnd.jupyter.widget-view+json": {
       "model_id": "",
       "version_major": 2,
       "version_minor": 0
      },
      "text/plain": [
       "Validation: 0it [00:00, ?it/s]"
      ]
     },
     "metadata": {},
     "output_type": "display_data"
    }
   ],
   "source": [
    "# 8-16\n",
    "# PyTorch Lightningのモデル\n",
    "class BertForTokenClassification_pl(pl.LightningModule):\n",
    "        \n",
    "    def __init__(self, model_name, num_labels, lr):\n",
    "        super().__init__()\n",
    "        self.save_hyperparameters()\n",
    "        self.bert_tc = BertForTokenClassification.from_pretrained(\n",
    "            model_name,\n",
    "            num_labels=num_labels\n",
    "        )\n",
    "        \n",
    "    def training_step(self, batch, batch_idx):\n",
    "        output = self.bert_tc(**batch)\n",
    "        loss = output.loss\n",
    "        self.log('train_loss', loss)\n",
    "        return loss\n",
    "        \n",
    "    def validation_step(self, batch, batch_idx):\n",
    "        output = self.bert_tc(**batch)\n",
    "        val_loss = output.loss\n",
    "        self.log('val_loss', val_loss)\n",
    "        \n",
    "    def configure_optimizers(self):\n",
    "        return torch.optim.Adam(self.parameters(), lr=self.hparams.lr)\n",
    "\n",
    "checkpoint = pl.callbacks.ModelCheckpoint(\n",
    "    monitor='val_loss',\n",
    "    mode='min',\n",
    "    save_top_k=1,\n",
    "    save_weights_only=True,\n",
    "    dirpath='model/'\n",
    ")\n",
    "\n",
    "trainer = pl.Trainer(\n",
    "    gpus=1,\n",
    "    max_epochs=5,\n",
    "    callbacks=[checkpoint]\n",
    ")\n",
    "\n",
    "# ファインチューニング\n",
    "model = BertForTokenClassification_pl(\n",
    "    MODEL_NAME, num_labels=9, lr=1e-5\n",
    ")\n",
    "trainer.fit(model, dataloader_train, dataloader_val)\n",
    "best_model_path = checkpoint.best_model_path"
   ]
  },
  {
   "cell_type": "code",
   "execution_count": 25,
   "metadata": {
    "id": "9OU3oPuxCEWz"
   },
   "outputs": [
    {
     "name": "stderr",
     "output_type": "stream",
     "text": [
      "The tokenizer class you load from this checkpoint is not the same type as the class this function is called from. It may result in unexpected tokenization. \n",
      "The tokenizer class you load from this checkpoint is 'BertJapaneseTokenizer'. \n",
      "The class this function is called from is 'NER_tokenizer'.\n",
      "Some weights of the model checkpoint at cl-tohoku/bert-base-japanese-whole-word-masking were not used when initializing BertForTokenClassification: ['cls.predictions.transform.LayerNorm.bias', 'cls.predictions.transform.dense.weight', 'cls.predictions.transform.dense.bias', 'cls.predictions.bias', 'cls.seq_relationship.weight', 'cls.seq_relationship.bias', 'cls.predictions.transform.LayerNorm.weight', 'cls.predictions.decoder.weight']\n",
      "- This IS expected if you are initializing BertForTokenClassification from the checkpoint of a model trained on another task or with another architecture (e.g. initializing a BertForSequenceClassification model from a BertForPreTraining model).\n",
      "- This IS NOT expected if you are initializing BertForTokenClassification from the checkpoint of a model that you expect to be exactly identical (initializing a BertForSequenceClassification model from a BertForSequenceClassification model).\n",
      "Some weights of BertForTokenClassification were not initialized from the model checkpoint at cl-tohoku/bert-base-japanese-whole-word-masking and are newly initialized: ['classifier.weight', 'classifier.bias']\n",
      "You should probably TRAIN this model on a down-stream task to be able to use it for predictions and inference.\n",
      "  1%|          | 11/1070 [00:00<00:10, 104.84it/s]"
     ]
    },
    {
     "name": "stdout",
     "output_type": "stream",
     "text": [
      "2019年、世界中の全ての国または地域に1つの系外惑星系を命名する機会を提供する「IAU100 Name ExoWorldsプロジェクト」において、HAT-P-14とHAT-P-14bはオーストリア共和国に割り当てられる系外惑星系となった。\n",
      "1648年、ロシア人セミヨン・デジニョフが本海峡に到達したがアメリカ大陸を隔てる海峡とは認識しなかったため、1728年に海峡を通過し二つの大陸を隔てる海峡であることを発見したロシア人ヴィトゥス・ベーリングの名が付けられている。\n",
      "その後1955年の選挙で道議に返り咲き、1957年1月9日に労農党道本部と社会党道連が合同したのに伴い社会党に入党した。\n",
      "バスケットボール部に入部し、全日本実業団選手権連覇に貢献。\n",
      "俳優以外では、ルイ・ド・フュネスは常連の監督や脚本家と共同作業をした。\n",
      "株式会社ナムコに入社し、ファミスタ'88等の作曲を手掛ける。\n",
      "また、2015年3月のホームページリニューアル以降、バスラインナップで車両紹介がなされている。\n",
      "大熊良樹は、日本の社会教育家、生命尊重活動家、武道家、絵本作家。\n",
      "2009年1月にはアメリカ合衆国のポートランド・ティンバーズに加入。\n",
      "新聞記者であったこともあり、「堀内浩庵」というペンネームで執筆活動を行っている。\n",
      "reparto corse製造または組み立てのモデルには「Hand made in Italy」というデカールまたはステッカーが貼られている。\n",
      "フェラーリは2017年8月23日に、同年9月に開催される予定のフランクフルトモーターショーにて、カリフォルニアTの後継車にあたる、ポルトフィーノをワールドプレミアすると発表した。\n",
      "蕎麦屋からの転業が多かったため、スープは、鰹節や煮干しといった魚介系スープが基本の和風で、濃口醤油を使用した濃い色のスープが特徴である。\n",
      "正応5年に68歳で崩じ、粟田山陵に葬られた他、聖徳太子の墓所がある叡福寺内に分骨されて宝篋印塔が建てられた。\n",
      "2020年のオーストラリア国立会計監査局によると、2016年に試算された500億豪ドルを現在の為替レート換算した場合、897億豪ドルになると指摘した。\n",
      "補償に充てていた1/4が新規債券の割増金支払に使えれば割増金を引き上げられたが、オスマン債務管理局は経費の1/4を債券回収に用いると決定した。\n",
      "その後、5月2日のケンタッキーダービーに出走を予定していたが、レース当日朝に左前脚に故障が見つかり、出走取消となった。\n",
      "2013年2月19日、高知県高知市春野で行われた東京ヴェルディとの練習試合中、ペ・デウォンから受けた接触プレイにより、右足関節開放性脱臼骨折の重傷を負う。\n",
      "日活テレビ映画芸術学院として映画会社の日活が経営し、1975年に日活撮影所内の一角に設立された。\n",
      "2010年1月からはNPO法人「森吉山」が運営を引き継いでいる。\n",
      "第一次世界大戦中の1915年に第2次大隈内閣が袁世凱大総統に最後通牒をもって行った対華二十一カ条の要求は、ドイツが中国に持っていた利権の譲渡だけでなく中華民国政府の内政全般にわたる介入を要求するものであったため、中国における抗日活動・反帝国主義運動である五四運動の原因となった。\n",
      "さくらカードは、JCBカード事業の存続会社として運営されたが、2016年4月1日セディナと合併した。\n",
      "小前亮は、日本の歴史学者、小説家。\n"
     ]
    },
    {
     "name": "stderr",
     "output_type": "stream",
     "text": [
      "  3%|▎         | 36/1070 [00:00<00:08, 119.03it/s]"
     ]
    },
    {
     "name": "stdout",
     "output_type": "stream",
     "text": [
      "これらの作品は、1995年にポーランド財務省が、対外債務管理会社との調停の末に取得した約4000点のグリーンコレクションの一部である。\n",
      "本商品の製造・販売元である那智黒総本舗の本社・工場は東牟婁郡太地町に所在する。\n",
      "その後のリオドセは、BOVESPAに上場し、さらにはニューヨーク証券取引所にも外国預託証券という形式で上場を達成した。\n",
      "観測にはすばる望遠鏡が用いられ、2004年12月12日から2007年3月21日にかけての観測で得られたデータ中から発見された。\n",
      "また、「あいち国際女性映画祭2002」にて上映された。\n",
      "2006年から2008年まで所属していたFCガンジュ岩手では主将で、選手兼コーチを務めた。\n",
      "1995年5月の大統領選挙でシラクにジョスパンが敗北し下野したが、日程を繰り上げて行なわれた1997年6月の国民議会総選挙では、選挙前の予想に反して第一党となり、共産党や緑の党などとともに左翼連合政権を発足させ、リオネル・ジョスパンが首相に就任した。\n",
      "ダック・テストは帰納法の一種である。\n",
      "囲碁・将棋とも、講座とプロ棋戦の解説が多く放送され、棋界の最新情報を紹介する番組もある。\n",
      "2014年6月2日、VfBシュトゥットガルトへ2018年までの4年契約で完全移籍した。\n",
      "物語はこの学兵部隊の1つに配置された、速水厚志少年の視点から描かれることになる。\n",
      "1979年南アフリカグランプリは、1979年F1世界選手権の第3戦として、1979年3月3日にキャラミで開催された。\n",
      "ムバンダカ空港は、コンゴ民主共和国赤道州ムバンダカにある空港。\n",
      "症状の重さを示す重症などとは異なる概念である。\n",
      "2010年代の若手にはタンスマン国際作曲コンクールを制したオンジェイ・アダメクと、チェコ国際現代音楽祭のディレクターを務めたペトラ・バクラが輩出されており、前者はアルディッティ弦楽四重奏団が取り上げるなど、活動範囲を大きく広げる逸材として期待されている。\n",
      "中古車は1991年に神奈川中央交通の車両を購入したのが最初だったが、譲受車の導入はJRバスの中でも最も早かった。\n",
      "深澳漁港は、台湾新北市瑞芳区に存在する漁港である。\n",
      "第二次世界大戦でドイツ軍がオランダとベルギーで初めて使い、ノルマンディー上陸作戦で連合国軍が多用した。\n",
      "また、マヌエル・ノイアー、アリエン・ロッベンを抑えて2014年のUEFA欧州最優秀選手賞も受賞した。\n",
      "2010年1月4日に、東海東京フィナンシャル・ホールディングス株式会社に譲渡され、同社の完全子会社となる。\n",
      "1908年ロンドンオリンピックの110mハードルはアメリカ人4人による決勝となり、フォレスト・スミスソンに次ぎ15.7秒の記録で銀メダルを獲得。\n",
      "第19回国民体育大会バレーボール競技は、1964年6月に新潟県で開催された第19回国民体育大会のバレーボール競技大会である。\n",
      "藤井健一は、日本のプロレスラー。\n",
      "1年のブランクを経て現場復帰することとなった。\n",
      "キンレイの公式サイトでも、6食セットを1セット3,980円で販売している。\n",
      "アニメでは「宇宙戦艦ヤマト」「アルプスの少女ハイジ」「未来少年コナン」「機動戦士ガンダム」などの作品を好み、漫画は大友克洋の「童夢」などをよく読んでいたという。\n",
      "1978年、第8回アジア大会では3000m障害物で金メダル。\n"
     ]
    },
    {
     "name": "stderr",
     "output_type": "stream",
     "text": [
      "  6%|▌         | 64/1070 [00:00<00:07, 126.85it/s]"
     ]
    },
    {
     "name": "stdout",
     "output_type": "stream",
     "text": [
      "2009年、三菱原子燃料に出資、株式の30%を保有している。\n",
      "カリフォルニア州サンラファエルのドミニカン大学のキャンパス内の語学学校に留学。\n",
      "独立後のラテンアメリカ諸国はどこも自由党と保守党の争いが続いたが、大統領は1880年に自由主義憲法を制定し、直接選挙の実施が保証された。\n",
      "元々は北海道東海大学の旭川キャンパス。\n",
      "第67回ヴェネツィア国際映画祭のコンペティション部門で上映され、銀獅子賞と金オゼッラ賞を受賞した。\n",
      "1764年10月のブクサールの戦いでイギリスが勝利し、東インド会社は3州で租税徴収権を獲得した。\n",
      "1564年フィリッポ・ネリは、フィオレンティーニの洗礼者ヨハネ教会の主任司祭に着任する。\n",
      "「ペコロジー」は同社登録商標で、キリンビバレッジも商標登録している。\n",
      "ロンドン交通局とその前身機関の業務書類はロンドン交通関係文書局が保管するが、初期の書類の一部はロンドン文書保管局にある。\n",
      "章孝厳は2005年3月改姓し「蔣孝厳」となった。\n",
      "ロシア共和国最高会議は翌11日、政治的手段が必要として非常事態宣言を不承認とする決議を行った。\n",
      "2014年11月まで同作品に出演した。\n",
      "官房長官秘書・福本邦雄の依頼を受け、長官官舎でペンを執った。\n",
      "鳥山は当初、自称天才科学者の則巻千兵衛を主役にしようと考えていたが、鳥嶋のアドバイスを受け、少女アンドロイドの則巻アラレを主役にし、千兵衛は脇役にした。\n",
      "さらにバイオガス施設はE.ONヴェストファーレン・ヴェーザーが運営するものが中心市区に1つあり、3つ目はヘーフィンゲンにもある。\n",
      "サンヨーホームズ株式会社は、大阪市を拠点に戸建住宅やマンションの設計・販売・施工を行っている住宅メーカーである。\n",
      "並行する他社線や官営鉄道との差別化のため、阪神急行電鉄神戸線や愛知電気鉄道、阪和電気鉄道などがカーブの少ない線形を活かして特急・超特急列車などを走らせ、高速運転を行った。\n",
      "ただし、SDN48にチーム制はなく、STU48、AKB48 Team SH、SGO48、DEL48ではチームが結成されたことはない。\n",
      "番組ではサンチェス兄弟へのインタビューや、CGによる洞窟の全体像が放送された。\n",
      "第2次大陸会議における1775年6月14日の決議に基づいて発足し、グレートブリテン王国の支配に対して反乱を起こした13植民地の軍事行動について連携を図ることを目的とした。\n",
      "bjリーグドラフト会議全体3位指名で新潟アルビレックスBBに入団し、2012-13シーズンまでの3シーズン在籍。\n",
      "4-クロロフェノキシ酢酸やクロキシホナックは、トマトやナスの着果を促す植物成長調整剤として使用されている。\n",
      "1999年にビクターエンタテインメントよりマキシシングル「眠る魚」でデビュー。\n",
      "1998年12月と1999年1月の2回に渡り国際連合の輸送機がUNITAにより撃墜されている。\n",
      "韓国政府はこれらの社会主義国に対する政策を「北方政策」「北方外交」と位置付けて推進した。\n",
      "2017年から第5代メタルワン代表取締役社長を務め、2018年には住友商事との間で国内鋼管事業統合により新会社住商メタルワン鋼管の設立を行うことなどで合意した。\n",
      "1895年5月、台湾総督府が設置され、その民政局に財務部が設置された。\n"
     ]
    },
    {
     "name": "stderr",
     "output_type": "stream",
     "text": [
      "  9%|▊         | 92/1070 [00:00<00:07, 130.40it/s]"
     ]
    },
    {
     "name": "stdout",
     "output_type": "stream",
     "text": [
      "1979年東京大学法学部卒業、環境庁入庁、長官官房秘書課配属。\n",
      "1938年に音楽学校を卒業後は、オクラホマ市フィルハーモニー管弦楽団の首席指揮者となった。\n",
      "2005年1月の全日本卓球選手権では女子シングルスでベスト4に入った。\n",
      "南原城の戦いとは、慶長の役で日本軍が南原城を攻略した戦い。\n",
      "双子の1人は1日ポット3杯のコーヒーを、別の1人は1日ポット3杯の茶を、死ぬまで毎日飲むこととされた。\n",
      "東映東京撮影所製作、東映配給。\n",
      "帝国陸軍における歩兵連隊の軍隊符号はi。\n",
      "1956年メルボルンオリンピックのインド選手団は、1956年11月22日から12月8日にかけてオーストラリアのメルボルンで開催された1956年メルボルンオリンピックのインド選手団、およびその競技結果。\n",
      "執行委員長は鈴木剛である。\n",
      "2001年10月1日にケイディディ・ネットワークシステムズ株式会社と国際テレコメット株式会社が合併、株式会社Kソリューションに社名を変更し発足した。\n",
      "通常、グルコースの長さが3から19の混合物として得られる。\n",
      "また、公職として社団法人日本レコード協会の会長を2007年7月から2011年5月にかけて務めた。\n",
      "今大会は金メダル1個を獲得した。\n",
      "2017年3月、FC町田ゼルビアへ期限付き移籍。\n",
      "原子炉の立地審査や核実験による放射性降下物や原子力事故などの重大事故の評価等に使われる。\n",
      "2015年3月にMTAは2015年夏に開業すると発表し、最終的な開業日は2015年9月13日になった。\n",
      "その直後に江華島事件が発生、その結果日朝修好条規を締結することになる。\n",
      "2002年の文科省の発表では、ロサンゼルス補習校、サンフランシスコ補習校、サンディエゴ補習校の3校は生徒数において、世界187校のうち上位10校に入る規模である。\n",
      "小鯛雀寿司という商品があるが、大阪市の株式会社小鯛雀鮨鮨萬とは無関係である。\n",
      "しかし銀行としてはその後も存続し、1917年1月には熊本県に移転して「毛利銀行」と改称、1928年6月に安田銀行に買収された。\n",
      "この発言が出た時、時刻は午後7時を少し回っていたが、それから4分後にはロイター通信・ドイツ通信・AP通信の各通信社は速報を出した。\n",
      "ビジャレアルCF時代にはUEFAチャンピオンズリーグに出場し、グループリーグでは得点も挙げた。\n",
      "2016-17シーズン、レガネスは初めてスペイン最高峰のカテゴリーでの戦いに挑み、目標の残留を17位という成績で達成した。\n",
      "これにより、第5軍団の戦力はかなり削減されたことから、第5軍団としての組織を解体して、これらの旅団級部隊は欧州陸軍の直轄下とすることも検討された。\n",
      "アルカテル・ルーセントは、かつて存在したフランスを本拠とする通信システム・装置メーカー。\n",
      "最終階級はドイツ国防軍装甲兵大将、ドイツ連邦軍中将。\n",
      "本作はまず2018年4月に小澤廉主演、B2takes!総出演の映画であるとアナウンスされ、5月に小澤とダブル主演をつとめるのが寺坂であると明かされた。\n"
     ]
    },
    {
     "name": "stderr",
     "output_type": "stream",
     "text": [
      " 11%|█         | 120/1070 [00:00<00:07, 130.90it/s]"
     ]
    },
    {
     "name": "stdout",
     "output_type": "stream",
     "text": [
      "自身のルーツとなる曲を聞かれて、斉藤はザ・ビートルズの「I Am the Walrus」、沢田研二の「カサブランカダンディ」、LOUDNESSの「LONELY PLAYER」をあげている。\n",
      "電波銀河からの電波の放出は、非常に滑らかで帯域が広く偏光も強いため、シンクロトロン放射であると推定される。\n",
      "書き始めたのは寛政2年だが、それ以前の句も含む句日記「軽挙館句藻」を晩年まで記し続け、抱一の芸術を語る上で大きな柱となっている。\n",
      "ISRI-ファーレンジツェは、イスリングハウゼンGmbH & Co.を通じて、トラック、バス、有用車両の製造を行っている。\n",
      "小林製薬は「日本の伝統薬の一つである「七ふく」の歴史をその理念・製品と共に引継ぎ守っていきます」とコメントしている。\n",
      "丸亀平井美術館は、香川県丸亀市にある美術館。\n",
      "1996年アトランタオリンピックの卓球競技は、1996年7月23日から7月29日までの競技日程で実施された。\n",
      "ベット・ミドラーはあるヴァージョンを彼女の映画\"フォー・ザ・ボーイズ\"のサウンドトラックのために録音した。\n",
      "「J-SHIPS」は日本の船舶雑誌。\n",
      "アップルは2015年にTomTomと契約を更新した。\n",
      "父親の薬師寺嘉兵衛は、常陸国新治郡牛渡村出身で江戸に出て材木店「遠州屋」の手代となった。\n",
      "「クイズダービー」では1981年10月より、女優の長山藍子の後を受け継いで6代目の2枠レギュラー解答者として、約2年間出演した。\n",
      "研究所の予算の大部分はアメリカ航空宇宙局ゴダード宇宙飛行センターとの協定により確保されているが、このほかにジェット推進研究所や欧州宇宙機関から資金を得た事業も行っている。\n",
      "開発はナムコが行い、音楽は川田宏行が担当している。\n",
      "低酸素下における呼吸応答、高所トレーニングの効果等についても多くの研究成果を残す。\n",
      "この結果を受け、9月に数々の功績を残した池田和夫が相談役を退任した。\n",
      "ベーシールは1977年に発売されたロッテの「ビックリマン」に同封されたシールに似たクリアタイプの素材を使ったシールであったが台紙には何も印刷されなかったこともあって、トレーディングカードの流れには認識されていない。\n",
      "しかし、2014年7月22日のサム・ランシー=フン・セン会談により、救国党の議会復帰が合意される。\n",
      "コロンビア・プロサッカーリーグのオンセ・カルダスに在籍していた2004年にはインターコンチネンタルカップに出場し、FCポルトとの試合でPKを決めたが、PK戦の末に敗れている。\n",
      "西武鉄道は、改めて別ルートでの都心乗り入れを目指し、1925年には井荻-高田馬場間、1926年には高田馬場-早稲田間の免許を得て、1927年4月16日に東村山駅-高田馬場駅間を村山線として複線・電化で開業するに至った。\n",
      "委員長は樺山資紀内相、副委員長は枢密顧問官田中不二麿であり、委員には小村壽太郎、金子堅太郎、目賀田種太郎をはじめとする各省局長・次官クラスの官僚その他計22名が任命された。\n",
      "日産にとっては約20年ぶりのFIA世界選手権シリーズへの参加となる。\n",
      "2008年、コンサドーレ札幌U-18に昇格。\n",
      "国連総会にオブザーバー資格を持ち、国連本部にも常設の事務所をもつ。\n",
      "イングランド代表としては4試合に出場し、1970 FIFAワールドカップにも招集された。\n",
      "指導教授の紹介と原煕推挙によって、同年明治神宮造営局に奉職。\n",
      "トラクスタンは死後クライスト・チャーチ墓地に埋葬された。\n"
     ]
    },
    {
     "name": "stderr",
     "output_type": "stream",
     "text": [
      " 14%|█▍        | 148/1070 [00:01<00:07, 131.50it/s]"
     ]
    },
    {
     "name": "stdout",
     "output_type": "stream",
     "text": [
      "クルゼイロ航空は、ブラジルの航空会社。\n",
      "アユタヤ歴史公園は、タイのアユタヤにあるアユタヤ王朝の遺跡群。\n",
      "世界選手権自転車競技大会トラックレース1994は、1994年8月、イタリア、パレルモで行われた。\n",
      "対してカナダ空軍は40人を救助し捜索・医療にも貢献したが、救助された当事者以外からの評価は乏しかった。\n",
      "第4回大会の1987年アジア選手権に初出場を果たした。\n",
      "1997年10月14日、アーク・エンタテインメント、コントレイルとともに、SCEIの100%子会社として法人化。\n",
      "三人が幼い頃ユン・ピョウの20セントを巡って二人が殴り合いの喧嘩をし、サモ・ハンが勝利したことがあるとユン・ピョウがインタビューしている。\n",
      "2008年、アルベマール・ヘルスはグリーンビルを本拠とするバイダント・ヘルスの日々管理下に入ったが、所有権と執行決定権は郡の下に留まっている。\n",
      "東北の農村を舞台に、少女と馬とのふれあいが、山本嘉次郎が得意としたセミドキュメンタリーの手法で描かれている。\n",
      "彼は、2002年まで1996年アトランタオリンピックの金メダリストであるアレン・ジョンソンの練習パートナーであった。\n",
      "2019年8月16日、SC相模原に育成型期限付きで移籍で加入。\n",
      "1960年代〜1990年代の日米間で、通産省および国産メーカーと、米国の間で一連の対立が発生した。\n",
      "秋にはそれらはすべて死滅し、雄バチと翌年の女王バチだけが残る。\n",
      "モードとしては、コンピュータが操る1台の車と勝負をする「KING BATTLE」、タイムの記録に挑戦する「TIME ATTACK」、2Pと対戦できる「2PLAYERS」、「STORY」、土屋圭市監修のドラテクの基礎が学べる「SCHOOL」などのモードが用意されている。\n",
      "ベン・ヤングスは、プレミアシップレスター・タイガースに所属するラグビー選手。\n",
      "但し耳川の戦いの頃に穆左は嫡子の規久に任せ、自身は大隅の堅利に住んだ。\n",
      "フジグラン北島が完成したことにより四国4県への完全出店を達成する。\n",
      "小澤廉は、日本の俳優・タレント。\n",
      "2006年に出版されたオリヴィエの伝記で、「風と共に去りぬ」撮影中のリーの躁病じみた言動への苦情に対して、オリヴィア・デ・ハヴィランドがリーを弁護していたという記述がある。\n",
      "かつてはDynamixでゲーム開発を、マイクロソフトではWindows NTの開発に携わっていた。\n",
      "なお、1800年に致道館の設置が許可されているが、こちらは庄内藩の藩校であり、光丘が目指していたものとは異なる。\n",
      "これらの法令群の概念を総称して律令法という。\n",
      "生産活動においては、その規模が拡大するにつれてその費用が低下するという費用逓減の傾向が見られるが、その要因を、アルフレッド・マーシャルは、個々の企業の自助努力によるものと、産業全体の規模の拡大がその産業全体の環境を改善することによるものとに分けて考え、前者を内部経済、後者を外部経済と名づけた。\n",
      "稀勢の里の後援会会員でもあるコアミックスの堀江信彦社長がなかなか芽の出ない稀勢の里に「横綱になったら」と約束したもので、「北斗の拳の、ラオウがいい」と希望したのは稀勢の里本人であった。\n",
      "1863年に大分県出身の初代渡邉熊四郎が長崎県から箱館に渡り、1869年、大町に金森森屋洋物店を開業した。\n",
      "2012年5月22日に、遺灰がスペースX社製の「ファルコン9」ロケットで宇宙船「ドラゴン」と共に打ち上げらた。\n",
      "さらに原告側へは一切の謝罪がなく、「浅井氏の姿勢には、全く「反省」が窺われず、「誠意をもって対応」していると評価することはできない」「私たちの声に耳を傾けることより、形式的な「謝罪」を対外的に示すことを優先させた」と痛烈に批判した。\n"
     ]
    },
    {
     "name": "stderr",
     "output_type": "stream",
     "text": [
      " 16%|█▋        | 176/1070 [00:01<00:06, 131.54it/s]"
     ]
    },
    {
     "name": "stdout",
     "output_type": "stream",
     "text": [
      "2010年9月28日に開催された朝鮮労働党第3回党代表者会で、朝鮮労働党中央検査委員会委員に選任された。\n",
      "機関車は主にジャワ島で使用中だったものが分解され、連合国の攻撃をかいくぐり、船でペカンバルに搬入され、そこで組み立てられた。\n",
      "チャレンジャー号爆発事故によってこの計画も中止されたため、緊急着陸地のリストから外された。\n",
      "ウォルターズの自伝によると、女性解放運動前のこの時代について、世の中の誰もが女性が深刻なニュースを報じることなど考え付かなかった。\n",
      "以来、東京モーターショーなどの企業イベントのほか、コミックマーケットを始めとする同人誌即売会などの開催地として使われた。\n",
      "2014年9月5日、ACルメッツァン戦でデビュー。\n",
      "1999年航空集団司令部幕僚長、2001年海上幕僚監部監察官等を歴任し、2003年に海将として第29代航空集団司令官を務めた。\n",
      "周璇の2度目に公になったロマンスはとのものだったが、すぐに別れたという。\n",
      "4月26日にマット・アダムスの故障者リスト入りに伴ってメジャー初昇格し、翌27日のピッツバーグ・パイレーツ戦でメジャーデビューを果たす。\n",
      "オランダ軍の指示により、オランダ側はドイツ人遭難者の救助を意図的に行わず見殺しにした。\n",
      "互いに何事もなかったことがわかり、上司と部下として仕事を続ける中、後輩の新人OL・伊藤容子が新商品開発部に配属される。\n",
      "その後、TBSサービス代表取締役社長、同社取締役会長やTBSグロウディア取締役副会長を歴任。\n",
      "また10月19日には、イオンクレジットサービスがイオン銀行の銀行代理店業許可を取得した。\n",
      "2018年1月1日から、近鉄に代わって養老線管理機構が第三種鉄道事業者となり、養老鉄道が第二種鉄道事業者として引き続き運行を担う体制に移行している。\n",
      "先述の通り、2016年5月31日に海外向け定額制データ通信サービス「世界データ定額」のサービス開始が発表されたのに伴い、同日付で名称を「au世界サービス」に改称した。\n",
      "1936年ガルミッシュ・パルテンキルヘンオリンピックのフィギュアスケート競技は、1936年2月9日から2月15日までの競技日程で実施された。\n",
      "1982年2月8日、福岡高裁は、成蹊大学教授の江守一郎に鑑定を依頼した。\n",
      "現在、大手企業では三井化学、住友化学、ダイキン工業、東洋紡、日本ゼオンなどがダイセル方式を取り入れている。\n",
      "また、三井住友海上社外取締役、日本国際連合学会理事、特定非営利活動法人国際ボランティア学生協会特別顧問、模擬国連四ツ谷研究会顧問のほか、日本政府の有識者会議や国際会議の委員として、政策提言やアドバイザーなども務めている。\n",
      "2013年4月には安倍晋三内閣総理大臣がサウジアラビアを訪問、サルマーン皇太子及びアブドゥッラー国王との会談の後「日本とサウジアラビアとの間の包括的パートナーシップの強化に関する共同声明」を発表、その後中東政策演説を行った。\n",
      "2008年10月28日、GoogleとAGおよびAAPとの間で和解案の合意に達したと発表された。\n",
      "1882年には「条約改正予備会議」が発足、民法編纂事業にも影響を与えたと推測され、拙速主義を危惧したボアソナードの提案により、草案が再検討される。\n",
      "このためイギリス東インド会社は、バンテンに代わる拠点として1685年にベンクーレンという名前でこの地に拠点を建設した。\n",
      "その後、日本と韓国の間において最終的な調整を進めた結果、NPBは2010年8月23日、前年に引き続き日韓クラブチャンピオンシップが11月13日に東京ドームで開催されることが決まり、また、同年11月4・5日、韓国シリーズ優勝チームと台湾シリーズ優勝チームが2試合対戦する韓国・台湾クラブチャンピオンシップが、台湾・台中インターコンチネンタルスタジアムで開催された。\n",
      "マネージメントはテイクシンクinc.に所属し、数多くの番組にコメンテーターとして出演するとともに、株式会社ジェイフィールファウンダーも務める。\n",
      "建物内に捕らわれた人質を救出、または妨害するゲームモード。\n",
      "スポンサーは、総合格闘技団体「パンクラス」の公式スポンサーだったサミー。\n"
     ]
    },
    {
     "name": "stderr",
     "output_type": "stream",
     "text": [
      " 19%|█▉        | 204/1070 [00:01<00:06, 131.87it/s]"
     ]
    },
    {
     "name": "stdout",
     "output_type": "stream",
     "text": [
      "コンチネンタル製の水平対向エンジンを搭載した改良型のもう1つの派生型ヴィルガ 32が少量輸出され、このモデルはインドネシアでゲラティックとしても生産された。\n",
      "これまでの公演を撮影した写真や映像がインターネットに流出したことが理由で、毎年恒例となっている東京ドームシティアトラクションズ・スカイシアターの公演では変身前の役者が出る回に限り、公演の模様を撮影・録音をする行為が全面的に禁止された。\n",
      "VIA Apollo P4X266は2001年8月にVIA Technologiesが発表した同社初のPentium 4プラットフォーム向けチップセットである。\n",
      "当初の軍の要求に3t以内の重量という条件があったが、試作車両のいずれもこれをオーバーしてしまっており、しかもエンジンの出力が重量に対して不足していた。\n",
      "逃げ去ろうとして彼は当局に捕えられ、裁判官ウィリアム・L・マギニスによって在監18ヶ月の判決を言い渡された。\n",
      "1927年、ニューヨークの映画プロデューサーで配給業者でもあるユニバーサル・スタジオのチャールズ・ミンツが「オズワルド・ザ・ラッキー・ラビット」の制作をウォルト・ディズニーへ指示する。\n",
      "ベルリンはプロイセン王国の首都であり、19世紀初頭のプロイセンは宰相シュタインとハルデンベルクによる自由主義的なを試みるなど一時は開明的な近代化政策を模索していたが、改革が一定の成果を上げると一転、1840年には王権神授説を信奉するフリードリヒ・ヴィルヘルム4世が即位して反動的な権威主義へと逆行していた。\n",
      "2013年、LOENエンターテインメントの子会社化。\n",
      "元々は前作「The Apples」のアウトテイクをまとめてリリースする予定だったが、東北地方太平洋沖地震やその影響下行われたツアーを経て、吉井の心境や状況が変わり、ほとんどが新録曲となった。\n",
      "郵政改革に伴い、内容証明郵便の実施に必要となった郵便認証司の資格制度を設けた上、信書便での郵便物の集配送達「ユニバーサルサービス」として日本郵便株式会社に義務を課している事を定めているが、信書を含む集配送達の事業への、他社・民間企業の参入は妨げていない。\n",
      "ホーナングはその後ラッフルズから離れ、1911年2月には「カメラの悪魔」を出した。\n",
      "「復活篇」はグリーンバニーからの発売となっている。\n",
      "同時に1954年の1800系以来59年にわたって続いた京阪電気鉄道のテレビカーの歴史に幕を閉じることとなった。\n",
      "ホーナー社のメロディカは、日本でも1959年3月に娯楽雑誌の記事で紹介され、1960年初頭から輸入販売が始まった。\n",
      "学生募集は2000年度まで。\n",
      "日本では、インテリジャパンが2001年にIJ IntelliCADとして国産初の互換CADを発売。\n",
      "また、「ロスタイムが長すぎる」と執拗な抗議を行ったC大阪GKキム・ジンヒョンが退場処分を受けている。\n",
      "「エデン」は、Aqua Timezの16枚目のシングル。\n",
      "2010年2月からシェフィールド・ユナイテッドFCへレンタル移籍。\n",
      "Farrisはブリティッシュコロンビア大学で起業家コースを教えており、Roseは同大学でPh.Dを取得し、Zagoskinは博士研究員だった。\n",
      "「ラテラリティ」は、日本の女性シンガーソングライター・やなぎなぎの3枚目のシングル。\n",
      "2019年4月15日に始まり約10日間続いた「インターナショナル・レベリオン」期間の間、女優エマ・トンプソンによるデモ現地参加と公衆スピーチ、地球温暖化に対する児童ストライキ指導者のグレタ・トゥーンベリによるイギリス訪問、元NASA科学者のジェームズ・ハンセンや、言語学者で活動家のノアム・チョムスキーからの支援メッセージなど、様々な分野の著名人から直接的・間接的な形でXRの活動に対する多くの支持が表明された。\n",
      "2009年10月10日から10月12日にかけて静岡県浜松市内で連節バスの運行実験が行なわれた際には、神奈川中央交通の連節バスが乗務員込みで貸し出された。\n",
      "デイル・アダム・ダイは、アメリカ合衆国の俳優、司会者、実業家であり、ベトナム戦争で戦闘に参加した退役海兵隊員である。\n",
      "しかし監督が関根潤三から野村克也に変わると状況は一変、1990年は一軍登板無しに終わり、1991年は1A・サリナス・スパーズに野球留学した。\n",
      "同国への寄付などで金正日総書記の絶大な信頼を獲得したとされる。\n",
      "長瀬産業の買収後は、長瀬玲二は3年、森下治は3年という短期政権が続いている。\n"
     ]
    },
    {
     "name": "stderr",
     "output_type": "stream",
     "text": [
      " 22%|██▏       | 232/1070 [00:01<00:06, 132.25it/s]"
     ]
    },
    {
     "name": "stdout",
     "output_type": "stream",
     "text": [
      "新TENEXがリリースされるとDECはKI-10の低コスト版であるKL-10の開発を開始した。\n",
      "日本の模型メーカーではタミヤやハセガワを初めとする多くの模型メーカーが、レーシングカーや航空機の記念塗装機の塗装を再現するために、カルトグラフ製デカールを採用することが多い。\n",
      "後に日産ディーゼルの手でレストアされ、第36回東京モーターショーで展示された。\n",
      "「ラヴ・パレード」は、日本のミクスチャーバンド、ORANGE RANGEの通算10枚目のシングル。\n",
      "なお啓光学園高校時代、高校日本代表に選ばれ、第29回高校東西対抗試合に西軍で出場した。\n",
      "チャック・ノリス自身が歌った主題歌に至っては3年連続でBMI TVミュージック・アワードに輝いている。\n",
      "一方でRNFの元党員らを中心にネオ・ファシズム政党イタリア社会運動が結党され、イタリア国民運動、自由の人民、イタリアの同胞などを通じて現代でも思想は引き継がれている。\n",
      "この他、テニス雑誌「テニスクラシック・ブレーク」にてNO TENNIS NO LIFEを連載している。\n",
      "前作「河のほとりで」終了後1964年東京オリンピック中継を挟んで、次作「さぼてん」開始前のつなぎとして放送された、「ナショナル劇場」シリーズでわずか2回しか放送されてないバラエティ番組の一つ。\n",
      "1967年、会津博覧会の円谷プロ「怪獣館」において、怪獣の着ぐるみ、近くにいた自衛隊員、そして子供たちがコミュニケーションを取りながら進めるごっこ遊びあるいは寸劇が意図せずなされ、子供たちが興奮して参加した。\n",
      "下院は、ウズベキスタン国民議会の議院である。\n",
      "公開3週目となる12月7日、8日のミニシアターランキングで5位にランクイン。\n",
      "この時代のヨーク地方の人物で、繊維工業に産業革命をもたらした人物としてベンジャミン・ゴットが知られている。\n",
      "ルガーP08の開発で知られるゲオルグ・ルガーはDWM社の技師であった。\n",
      "しかしそのような方式のアニメ制作は定着せず、「鉄腕アトム」式のビジネスモデルが旧虫プロ以後の時代にも引き継がれた。\n",
      "2019年4月1日現在の世帯数と人口は以下の通りである。\n",
      "仙露鉄男が大きくかかわっている南関の大手民鉄「首都急行電鉄」と、社員である今井君子の関係者。\n",
      "国連の推定によると、アンゴラ全土に残されている地雷は数百万発であるといわれている。\n",
      "主に自動車用ブレーキを中心に生産し、トヨタ、日産や米GMを中心に各完成車メーカーへの供給を行っている。\n",
      "セカンド・アルバムの楽曲提供は作曲が井上ヨシマサ、高橋研、天野音彦、甲斐正人、根岸孝旨。\n",
      "橋誠は、日本の元プロレスラー。\n",
      "オールブラックス通算59キャップ、3トライ、15得点。\n",
      "1995年の Integrity S4000 は ServerNetを採用し、周辺機器なども NonStop シリーズと共通化するようになっていった。\n",
      "当時江戸幕府のお雇い外国人であったジュール・ブリュネが幕府を撤廃した事に同情し、維新政府軍に入隊する。\n",
      "現在は野鳥にとどまらず、生き物を含めた環境の撮影を進行中。\n",
      "久次米は無所属で立候補したため、県内で保守が真っ二つとなり、選挙戦は阿波戦争と呼ばれる熾烈なものとなった。\n",
      "統治機構の近代化により王朝を立て直すことに失敗、加えて義和団の乱後をめぐる清朝の醜態も加わり、1911年の辛亥革命への機運が高まる。\n"
     ]
    },
    {
     "name": "stderr",
     "output_type": "stream",
     "text": [
      " 24%|██▍       | 260/1070 [00:02<00:06, 132.57it/s]"
     ]
    },
    {
     "name": "stdout",
     "output_type": "stream",
     "text": [
      "1958年にサンフランシスコ・ジャイアンツにフリーエージェントで入団、1966年にクリーブランド・インディアンズでメジャーリーグに初出場し1968年まで在籍、1969年にシアトル・パイロッツに移籍、1971年には日本の西鉄ライオンズでプレイした。\n",
      "「コード・ブルー-ドクターヘリ緊急救命-」などを手がけ、特定の職業の内実を描く「職業モノ」ドラマに対するセンスを主演の小栗にも評価されている増本淳らのプロデュースによる作品である。\n",
      "この計画の中には、2009年までにルノー初のSUVを含む26車種の新型車の投入が含まれ、2007年内だけで初の本格的SUVであるコレオスやラグナ3、カングー2が新たに投入された。\n",
      "北房インターチェンジは、岡山県真庭市五名の中国自動車道のインターチェンジである。\n",
      "1979年に北見パルプと天塩川製紙が合併して発足した。\n",
      "たとえばサムスングループは新本部を江南駅付近に建設している。\n",
      "しかし製油所の名前はそのまま「富士石油」が踏襲された。\n",
      "2015年8月19日、広州市政府が黄大仙祠を文化遺産に昇格させた。\n",
      "しかし、探偵はそれを浮気の証拠と勘違いし、教授に報告。\n",
      "NECホームエレクトロニクスとヒューマンのゲームソフト開発子会社として設立、初期はPCエンジン作品の開発を行なっていた。\n",
      "2019年10月21日、カコックはレイカーズにウェイブされたが、その後下部組織であるサウスベイ・レイカーズに招待され契約した。\n",
      "形式や文法的に可能な範囲は言語により大きく異なる。\n",
      "また4月、ミレイユ・イーノスがブラッド・ピットの妻役にキャスティングされた。\n",
      "2013年、米国商務省長官直轄の米国製造業評議会政策顧問就任、2期務める。\n",
      "ただし一般向けの地図出版は自社ブランドでは行わず、スタンダード・オイルやSoconyといった石油会社と契約して、ガソリンスタンドで無料配布する道路地図の制作にあたっていた。\n",
      "南アフリカ航空は客室乗務員の教育にPLATOによるシミュレーションを採用した。\n",
      "「会長予定者」は、選出後の定時評議員会で理事に選出され、且つさらにその後に開催される理事会で会長に選定されるという手続きを経て、正式にJFA会長に就任する。\n",
      "この海軍の突然の申し出に陸軍が反対し、東京都芝の海軍水交社にて折衝を続けた結果、20日の昼に同船団の黒潮丸・東邦丸を指揮下に置く代わりに本土の海軍用燃料15,000キロリットルを一般用に放出することが取り決められた。\n",
      "バンダイの「Let's! TV プレイ」やコナミの「PLAY-POEMS」など、ほとんどのメーカーはメーカー独自の商標でプラグ&プレイ型ゲーム機を展開しているが、小売においては特に区別されておらず、全てひとまとめにして「TVゲーム機」または「プラグ&プレイ型ゲーム機」として扱われている。\n",
      "このアルバムの中には、ジェイク・ギレンホールについて書いた曲があるという。\n",
      "2006年には、文学座代表の戌井市郎や演出家の瓜生正美らとともにパラダイス一座を結成するなど、70歳を越えたあとも精力的に演劇活動を行なっていた。\n",
      "植竹正隆は日本の実業家。\n",
      "樺太證券はかつて樺太に存在した証券会社である。\n",
      "ムスカリンの含有量はベニテングタケのおよそ100倍ともいわれ、一部では猛毒キノコに分類されることもある。\n",
      "白山市立光野中学校は、石川県白山市にある市立中学校。\n",
      "2019年現在までアウディのワークスドライバーとして活躍。\n",
      "やがてタッガート大陸横断鉄道の従業員たちから真実を聞き出し、ダグニーこそが、ジョン・ゴールト線の開通時に自分が崇拝した英雄だったと知る。\n"
     ]
    },
    {
     "name": "stderr",
     "output_type": "stream",
     "text": [
      " 27%|██▋       | 288/1070 [00:02<00:05, 132.08it/s]"
     ]
    },
    {
     "name": "stdout",
     "output_type": "stream",
     "text": [
      "配給をメインに映画の企画・配給・宣伝などを主な事業とする。\n",
      "ウサーマ・ビン・ラーディンはムハンマドの17番目の子であった。\n",
      "長崎ペンギン水族館では、前身の長崎水族館時代からペンギン飼育を継続している。\n",
      "2011年の帰国後は数多くのヴィジュアル系アーティストを中心としたバンドの英詞監修やコーラスなどを担う。\n",
      "尼子氏は、本拠地である月山富田城の防衛線として10の支城を築いて家臣団を配置した。\n",
      "同期にはジェイムズ・ロングストリート、D・H・ヒルおよびアブナー・ダブルデイのような著名な将来の将軍たちがいた。\n",
      "1998年には、我妻宏、岡崎稔らと共に、シナジージャパンの設立に参加し、同社の取締役に就任した。\n",
      "総選挙の結果、野田は選挙区で5選を果たし、佐藤も比例で復活当選した。\n",
      "ヘルマン・グロスマンは1939年8月末からブーヘンヴァルト収容所に配属された。\n",
      "一例として、仲谷明香、前島亜美などが挙げられる。\n",
      "大正11年、和歌山県海草郡亀川村にて父・種次郎、母・タマエの間に小野田家の四男として生まれる。\n",
      "山形県ではさくらんぼテレビジョンが同じくGIレース開催時のみネットしていたが、2006年5月14日のヴィクトリアマイル開催日は放送されなかった。\n",
      "中国企業連合会、中国企業家協会が2017年9月に発表した「中国企業トップ500」によれば、2016年の中国交通建設集団有限公司の収益合計は47,002,154万元であった。\n",
      "国鉄から中川運河沿いの用地を買収して建設された。\n",
      "ワンハンドレッドヒルズは、千葉県千葉市緑区あすみが丘六丁目で東急不動産が開発・分譲した宅地の名称である。\n",
      "マスコミは三井銀行の粉飾決算疑惑を取り上げて三井銀行を攻撃したが、その根拠は曖昧なものであった。\n",
      "また京都バスでは機械式AT車でアリソン製ATへ換装した車両がある。\n",
      "Jリーグ・AC長野パルセイロ所属。\n",
      "ここで蒸気自動車とガソリン自動車を製作していたが、カーターフリクションドライブを開発し1904年5月に特許を取得し、フリクションドライブ車を作るためにジャクソン社を抜け、1905年にカーターカーを創業した。\n",
      "有限会社コスモポリタン製菓は神戸市中央区に本店があった老舗洋菓子メーカー。\n",
      "公衆サービスは1968年7月1日に、東京23区で日本電信電話公社により150Mc帯の多周波信号方式で開始された。\n",
      "まずSTV-3をもとに開発されたのがテリアIであり、1949年12月より、初期試作版15発の引き渡しが開始されて、海軍兵器試験ステーションで試験発射に供された。\n",
      "17世紀の半ば、清教徒革命から王政復古の時期にかけてロンドンなどで社交場としてのコーヒー・ハウスが何軒も開店した。\n",
      "町内に同名神社が2社存する。\n",
      "未来検索ブラジル主催の「ネット流行語大賞2013」では銀賞であった。\n",
      "近年では、地元の小樽商科大学と提携して学生達のアイデアや行動力を借り、さくらまつりの開会式のテープカット代わりに100人分の海苔巻きをカットしたり、50mの流しそうめんを食べるイベントを開くなどソフト面での対策をとって集客に努めると共に、古いレンガ造りの残る町並みを生かして丸井今井の撤退の前年2004年7月14日におたる屋台村・レンガ横丁を開設したり、地元商人の協力で老舗金物店を廃業の危機から救うなど店舗数の維持・拡大を図っている。\n",
      "バンドによってはこの二つとも違う「ガテラルボイス」と呼ばれるこもった低い声で歌う場合もある。\n"
     ]
    },
    {
     "name": "stderr",
     "output_type": "stream",
     "text": [
      " 30%|██▉       | 316/1070 [00:02<00:05, 131.51it/s]"
     ]
    },
    {
     "name": "stdout",
     "output_type": "stream",
     "text": [
      "職員団体として、鉄道運輸機構労働組合がある。\n",
      "最寄りバス停は名鉄バスの「豊明中学校前」。\n",
      "シングル選手として、スイスフィギュアスケート選手権で5回優勝している。\n",
      "1990年9月30日、正道会館主催の第9回ノックダウンオープントーナメント全日本空手道選手権大会1回戦で、佐竹雅昭に延長の末判定負け。\n",
      "1719年にフランス人ベルナール・ド・ラ・ハルプが現在のプッシュマタハ郡となった地域を探検した。\n",
      "「歌の花籠」「ハーモニカの友」「アコーディオン」「ハーモニカ研究」の四大雑誌を用紙統制令に基づき統合し、国民音楽社の名前で出版。\n",
      "かつて真鶴道路が日本道路公団により運営・管理されていた時期にはパーキングエリアとして、供食施設を持つ「真鶴売店」が併設されていた。\n",
      "2005年RMAX TypeIIGをベースに開発された自律航行型・産業用無人ヘリコプターで、人の立ち入りの困難な火山や放射線の高い地域で使用される。\n",
      "キサンチドロールは、血流中の尿素濃度の測定に用いられる。\n",
      "中央図書館が耐震工事の為休館している間は直営であった内原図書館も中央の工事終了後の2018年4月1日より図書館流通センターが運営するようになった。\n",
      "1982年、1部1年目のブレーメンは、5位という好成績を残し、翌83年にはハンブルガーSVに次ぎ2位、そして84年5位、85年にも2位と優勝こそ出来なかったが、好成績を残した。\n",
      "続いて11月3日には河北省淶源県の八路軍晋察冀軍区第一分区との戦闘を計画した。\n",
      "有道出人は、アメリカ合衆国カリフォルニア州出身の日本国籍取得者、英会話教師、人権活動家、作家。\n",
      "国旗団は第一次世界大戦に出征した退役軍人の連合会でもあった。\n",
      "このほかに支店が秋葉原ラジオセンター裏の秋葉原野村ビルにあったが、2012年7月31日に閉店した。\n",
      "DHLはエアボーンの地上業務を引き継ぎ、航空事業はABXエアとして分社化した。\n",
      "東京都の自宅でネイルサロンを営む主婦の高森杏寿は、夫の純平と娘の七香と幸せな家庭を築いていた。\n",
      "アメリカ合衆国国勢調査局の挙げる7.8平方マイルがより正確な数字である。\n",
      "白倉伸一郎は、日本のテレビドラマ・映画プロデューサー。\n",
      "高等法院の弁護士資格まで取得したようだが、法廷に立った記録はない。\n",
      "VxWorksは、バージョン6から、Tornadoを捨てEclipseベースのWorkbenchと呼ばれる統合開発環境に移行した。\n",
      "同日、アメリカ国務長官のヒラリー・クリントンは、簡潔な声明を発行した。\n",
      "これは、高速コンピュータに適した世界初の高周波トランジスタであり、1953年にPhilcoによって開発された。\n",
      "2015年1月にデトロイト・モーターショーにてコンセプトモデルである「Q60コンセプト」を発表した。\n",
      "2020年、文部科学省に大学院総合福祉学研究科社会福祉学専攻、発達支援学専攻の設置認可申請を行い、同年4月8日、文部科学大臣から大学設置・学校法人審議会へ諮問された。\n",
      "1993年に、土井ヶ浜遺跡人類学ミュージアム館長となる。\n",
      "BMCが企業再編で1966年にブリティッシュ・モーター・ホールディングス、さらに1968年にブリティッシュ・レイランドとなっても、FX4シリーズはタクシー業界の固定需要と、基本的な完成度・信頼性の高さによって生産が続行され、同車はイギリス全土で標準型タクシーとして広く普及した。\n"
     ]
    },
    {
     "name": "stderr",
     "output_type": "stream",
     "text": [
      " 32%|███▏      | 344/1070 [00:02<00:05, 131.97it/s]"
     ]
    },
    {
     "name": "stdout",
     "output_type": "stream",
     "text": [
      "1960年江崎グリコが板チョコの生産技術を生かし、ブロックごとに割って量を加減できる「グリコワンタッチカレー」を発売した。\n",
      "この他にマン島で行われる公道レースの「マン島TTレース」でも勝者となった。\n",
      "小田原城址公園は、神奈川県小田原市城内に位置する都市公園である。\n",
      "静岡県立下田北高等学校、蓮台寺温泉のホテルや旅館などがある。\n",
      "2013年、ランド・マクナリーのアメリカで最良の小さな町リストで、コーニングンは最終選考に残った町の中でも「最も楽しい」町に挙げられた。\n",
      "特撮監督は築地米三郎。\n",
      "事故当時の気象は雲高1,000フィート、ところどころに雲の切れ間があり、視界は1マイル、小雨模様で少し霧がかかっており、好天とは言えないまでも米軍規則による「雲高250フィート以上、視界0.5マイル以上」の基準はクリアしていた。\n",
      "東日本大震災心理支援センターは、東京都文京区本郷二丁目40番14号山崎ビル401号室に事務局を置く東日本大震災被災者支援機関である。\n",
      "1993年4月に最高裁判事に就任。\n",
      "完了したのは1990年代初め、リトアニア当局の手によってであった。\n",
      "ブランドのロゴは、フェラーラ地方の地主であったフェリージ家の紋章である。\n",
      "チャンピオンズリーグ改称後では5回目の優勝となり、昨シーズン4回目の優勝を達成して並んでいたバルセロナを再び引き離し単独首位に立った。\n",
      "同年11月9日に後楽園ホールで南出仁とGOD'S LEFTバンタム級トーナメント準決勝を行い、1回2分34秒TKO勝ちで決勝進出。\n",
      "ネブルは1986年から1995年までアメリカ鉱業評議委員会会長を務めた。\n",
      "キャラクターデザインは甲斐智久が担当。\n",
      "東京都立大泉高等学校を経て、早稲田大学政治経済学部卒業後の1963年、東海テレビに入社。\n",
      "本項目は、日本女子プロ野球機構の京都フローラに所属する選手の一覧。\n",
      "地球防衛軍は、アニメ「宇宙戦艦ヤマトシリーズ」に登場する架空の軍隊。\n",
      "クロベンケイガニ、学名Chiromantes dehaaniは、十脚目ベンケイガニ科に分類される。\n",
      "2013年には1番人気のアメリカンフットボールに対し、3倍近いポイント差をつけられている。\n",
      "幼少期から救世軍のブラスバンドでコルネットとトロンボーンを学び、また教会の大聖堂のオルガニスト、ピアニストを目指していたこともあって、音楽教育としてはオルガン、ピアノを始めとし、対位法や作曲理論を学んでいる。\n",
      "2011年11月30日に米国連邦航空局よりユナイテッド航空の単独運航許可が認可されたことにより、約550の航空機がユナイテッド・エクスプレスとして運航するようになった。\n",
      "同年の第45回衆議院議員総選挙では小選挙区で民主党元職の小林に3万票余りの差をつけられ敗北。\n",
      "1942年初め、第7戦車軍団長に任命され、6月末、第7戦車軍団は第5戦車軍に配属された。\n",
      "永山は犯行に適する場所を求め、運転手の被害者Cに対し七飯町へ行くよう指示し、事件現場の路上までタクシーを走行させると、同日23時13分ごろに事件現場路上でタクシーを停車させ、隠し持っていた拳銃を取り出した。\n",
      "伊勢電は、参急とほぼ同時期に伊勢への進出を果たし、将来名古屋へ延伸するための免許を既に有していた。\n",
      "大文字の場合は文字の真上ではなく左斜め上に描かれることが多いが、同じ記号である。\n"
     ]
    },
    {
     "name": "stderr",
     "output_type": "stream",
     "text": [
      " 35%|███▍      | 372/1070 [00:02<00:05, 132.30it/s]"
     ]
    },
    {
     "name": "stdout",
     "output_type": "stream",
     "text": [
      "ダーウィンとフィッツロイ船長によると、ロス一家はニッパ屋根の非常に粗末な小屋に住んでいたと言う。\n",
      "芸能プロダクションとしてのマネジメント業務の一方で、複数のレコード会社と共同で独自レーベルを立ち上げ、新人アーティストの育成などを行っている。\n",
      "しかし、同年7月、資金不足に陥ったレラティビティ・メディアは、本作の全米公開日を2016年2月26日に延期すると発表した。\n",
      "ドイツでは分離が鉄製容器の中で行われており、ピールはこの方法がプラチナの容器で行うよりも安いことに注目したが、プラチナの法を好み、1834年12月には鉄を使うことが「時には当惑させるような損失に繋がる」と記した。\n",
      "ピート・ドハーティに渡したデモがきっかけでベイビーシャンブルズのツアーをサポートし、プライマル・スクリーム、アンダートーンズなどのオープニングアクトを務め、シーンに躍り出る事になる。\n",
      "2016年1月29日、スコティッシュ・プレミアシップのセルティックFCに1年半の期限付き移籍をすることで合意したことが発表された。\n",
      "チュイルリー宮殿に伴われ、皇帝に接見したファ-ブルは、ナポレオン三世の皇子の家庭教師に推された。\n",
      "2011年選挙では統一左翼が得票率73%で9議席、スペイン社会労働党のアンダルシア州支部であるアンダルシア社会党が2議席を獲得した。\n",
      "東側には新潟漁協本所や荷捌場、食堂などを内包する「新潟県水産会館」が併設されている。\n",
      "なお、第11作「悪魔の手毬唄」では等々力警部のほかに藤岡琢也が演じる磯川警部も登場する。\n",
      "1年後大映が金星スターズを買収し、急映から手を引くとこれに従った。\n",
      "アンドリュー・ハンディサイドは、19世紀にイギリスのダービーに存在した鉄鋼関連の企業である。\n",
      "1998年の第18回参議院議員通常選挙で埼玉県選挙区から自由民主党公認で立候補したが落選。\n",
      "アメリカ軍は1813年にデトロイトを取り戻し、マキナック砦は1815年に戦争が終わったときにアメリカに返還された。\n",
      "2014年3月20日、リニューアルオープン。\n",
      "UEFAカップウィナーズカップは、かつて欧州サッカー連盟の主催で行われていた、クラブチームによるサッカーの国際大会である。\n",
      "任天堂が制作した店頭用プロモーションビデオでも、「SOUND STAFF VOL.10」のジングル・効果音を中心にサウンドファクトリー楽曲の使用事例がある。\n",
      "Jリーグ・ジュビロ磐田所属。\n",
      "2010年12月25日、大阪松下IMPホールでマサ竹蔵に判定負け。\n",
      "MZ-80Aに続き、MZ-700も欧州を中心に海外でも販売された。\n",
      "その後、1972年-1973年は南海のコーチを務めた。\n",
      "度重なる嵐や大波で砂丘地が削られ、麓に鎮座していた元々の大野湊神社は海中へ没したといわれる。\n",
      "翌12月21日午前2時頃、約2000人の一揆隊は小川町から山田に突入、八日市場町の農社に放火したのを皮切りに、山田師範学校・三重県山田支庁・小学校・三井銀行の支店・病院などの新政府と関係のある施設を襲った。\n",
      "周辺には住宅や事業所が集まり、川沿いは石崎川プロムナードとして整備されている。\n",
      "学生達は6月2日、この提案について話し合うために教育省に集まった。\n",
      "なお愛媛県の民放あいテレビとは当然何の関係も無い。\n",
      "地域にはノースカロライナ大学の海洋科学研究所、ノースカロライナ州立大学海洋科学技術センター、デューク大学海洋研究室など、世界に通用する研究組織がある。\n"
     ]
    },
    {
     "name": "stderr",
     "output_type": "stream",
     "text": [
      " 37%|███▋      | 400/1070 [00:03<00:05, 132.42it/s]"
     ]
    },
    {
     "name": "stdout",
     "output_type": "stream",
     "text": [
      "また呉土建業者協会会長及び呉商工会議所会頭に就任した。\n",
      "1970年、フランティシェク・リントによる納骨堂装飾の完成より100年にあたり、チェコ人の芸術家で映画監督のヤン・シュヴァンクマイエルが納骨堂のドキュメンタリー映画の撮影を請け負った。\n",
      "偕成証券に勤務し、運動不足解消に当時開業して間もない宮田ジムの門を叩く。\n",
      "性能不足な面がありながらも、本砲は日中戦争・ノモンハン事件・太平洋戦争において、極寒の北満州から広大なノモンハンの平原、中国大陸の急峻な山岳地帯、そして南方に至る様々な場面で常に主力歩兵砲として歩兵の傍にあった。\n",
      "WWEが株式上場する以前は、「シナリオなど存在しない」という建前であったが、株式上場の際、事業内容を公開するにあたってシナリオの存在を公式に認めた。\n",
      "1機のSNC-1はフロリダ州ペンサコーラにあるアメリカ海軍の国立海軍航空博物館に展示されている。\n",
      "「THUNDERBIRD 〜JAM Project BEST COLLECTION XII〜」は、JAM Projectの12枚目のベストアルバム。\n",
      "しかしジェームズ・ブキャナン大統領は逆に、ミネソタ川に沿った彼らの保留地の北半分を没収し、スー族がパイプを作る伝統的な採石場があるミネソタ州パイプストーンの採石権まで奪った。\n",
      "1981年から1982年にかけて、埼玉県大宮市にあった後楽園グループのドイツレストラン「ラインゴールド」大宮店にて特技のピアノとシャンソンを中心とした弾き語りもしていた。\n",
      "この彗星は20世紀にはどの惑星にも1天文単位の所まで近付くことはなかったが、2036年7月17日に小惑星ベスタから0.04天文単位の所を通過する。\n",
      "事実を認識するための資料をもたらす有形物であり、裁判官による証拠調べの対象となる人や物そのものをいい、日常用語として目の前に出せる物としての「証拠」という用語法に近い意味を持つ。\n",
      "典型的には硫酸プラントで捕集される。\n",
      "西昌ジャンクションは大韓民国仁川広域市南洞区にある嶺東高速道路と第二京仁高速道路を接続するジャンクション兼インターチェンジである。\n",
      "埋蔵文化財保護機関の調査により、ローマ人の荘園別荘が発掘された。\n",
      "2017年2月21日に後日発表選手とのトレードで、ボルチモア・オリオールズへ移籍した。\n",
      "ただ、同じく公共テレビ局であったTF1に大きく視聴率で水を開けられた上、1987年にTF1が民営化を果たすと経営難に陥る。\n",
      "この時の船長はアーサー・ロストロンである。\n",
      "「遊☆戯☆王」は、高橋和希による日本の漫画および、それを原作としたメディアミックス作品。\n",
      "医術を用いて病人を無報酬で助け、信仰と祈祷の力によって癒していった人々がこの称号で呼ばれる。\n",
      "桐蔭横浜大学から2018年にJFLのHonda FCに加入した。\n",
      "2014年6月26日、2014年のNBAドラフトでフィラデルフィア・76ersから54位指名を受けた当日、交渉権はサンアントニオ・スパーズにトレードされた。\n",
      "決勝ではスタートにて2台のGT-R勢のコースアウトに巻き込まれそうになるも首位をキープ、終盤に大嶋がトムスの中嶋一貴に追い上げられるも凌ぎきり、チームにとって2003年第3戦SUGO以来9年ぶりの勝利を獲得した。\n",
      "1942年4月14日よりバターン半島南端の砲列から海を挟んで約10,000m先のコレヒドール島アメリカ極東陸軍要塞やフライレ島などに対し連日砲撃を実施し、対するアメリカ軍の30cmクラス大口径要塞砲との間で砲撃戦が行われたが、同月19日に24cm砲弾のコレヒドール要塞弾薬庫への命中、36cm砲の撃破などによりこの砲撃戦に勝利、フィリピン作戦の勝利に寄与した。\n",
      "2013年10月、事務所の分社により、エイベックス・ヴァンガードに所属する。\n",
      "その他、東京高等工芸学校講師、立教大学講師、武蔵高等工業学校講師、聖徳学園保姆養成所所長、日米文化りばてい塾長などを務めた。\n",
      "母体大阪産業大学の設備は古いままながら、学校法人の資金を大阪桐蔭に集中させ、吹奏楽部員200人超が練習できる「シンフォニックホール」や、収容3000人の体育館「桐蔭アリーナ」など豪華施設も建設された。\n",
      "本曲のヒットにより布施は1967年の「第18回NHK紅白歌合戦」に初出場を果たし、本曲を歌唱した。\n"
     ]
    },
    {
     "name": "stderr",
     "output_type": "stream",
     "text": [
      "\r",
      " 39%|███▊      | 414/1070 [00:03<00:04, 132.62it/s]"
     ]
    },
    {
     "name": "stdout",
     "output_type": "stream",
     "text": [
      "ドイツ・ブンデスリーガ、SCフライブルク所属。\n",
      "長谷川健太が初めて監督に就任。\n",
      "オーバーホール終了後、8月6日に真珠湾に向かったが、途中で終戦を迎えて引き返し、メア・アイランド海軍造船所にて現役のまま保管された。\n",
      "2枚のアルバムと1枚のシングルを発売したが1回もライブを行うことなく、その後まもなく各自のソロ活動によりユニットとしての活動を停止した。\n",
      "1997年にFIFA国際審判員の資格を取得、2010年まで国際審判員として活動し、AFCチャンピオンズリーグやAFCカップ、AFCプレジデンツカップで主審を務めた。\n",
      "「甲陽軍鑑」に拠れば、信盛は天正3年の長篠の戦いに参加するが、戦わず逃走したとも伝えられる。\n",
      "改革の父、フランコ・バザーリアの筆頭格の協力者で、バザーリアがパルマ県立コロルノ精神病院の院長だった1970年ころから親交があり、バザーリアがトリエステに迎えられた1971年からトリエステ県立サンジョヴァンニ病院院長を辞める1979年まで、行動を共にした。\n",
      "木幡山伏見城の廃城による代替として幕府が松平定綱に命じて築かせた。\n",
      "2019年現在、日本の航空会社では日本航空、全日本空輸、AIRDOの3社で使用されている。\n",
      "以下の2組合は2006年2月に統合し、林野労組へ移行した。\n",
      "スカイウエストは1963年にCarnarvon Air Taxisとしてサービスをはじめた。\n",
      "これら三島は火山活動によってできた島である。\n",
      "1940年3月、汪兆銘が南京国民政府を樹立すると、夏粛初は考試院銓叙部常務次長に任ぜられる。\n",
      "そして音吉ら3人はチャールズ・ギュツラフと協力し、現存する世界初の日本語訳聖書「ギュツラフ訳聖書」を完成させる。\n",
      "その後建物は購入され、新たな所有者となったイギリスの小さな不動産会社、グレイコート社は建物が42階あることから名称を「タワー42」と正式に改称したのである。\n",
      "部の備品としては釣りに必要な道具のほか、「釣ったら食べる」がモットーのため、調理用具や加熱用のカセットコンロ、七輪なども揃っている。\n",
      "初期はピアノ科出身のピアニストとして活躍し、テノール歌手・藤原義江の専属伴奏者として世界演奏旅行をしたという華々しい経歴を持ち、作曲においても1942年の第11回日本音楽コンクールで第1位を受賞している。\n",
      "1937年9月、馬歩青は陸軍騎兵第5軍軍長に昇進し、さらに甘新公路督弁公署督弁も兼任した。\n",
      "1985年のMTV Video Music Awardsで最優秀振り付け賞にノミネートされた。\n",
      "「ザ・グレイト・ロックンロール・スウィンドル」は、パンク・ロックバンド、セックス・ピストルズのドキュメンタリー映画。\n",
      "1987年、「ブラック・ダリア事件」を題材にした「ブラック・ダリア」で注目を浴びる。\n",
      "株式会社十印は、ローカライズを中心とした翻訳会社である。\n",
      "しかし、同社はオランダ西インド会社のような貿易独占権はなかった。\n",
      "チームは開幕からナビスコ杯を含めた公式戦8戦未勝利と不振に陥り、4月9日、アーノルド監督が退任。\n",
      "徳富蘇峰は「我ら明治聖代にその半生を送りたる者には、十一月三日は、実に言葉に語り尽くしがたき床しさ、なつかしさを感じる」と語っている。\n",
      "2013年11月に発売されたLSI SandForce SF3700 コント ローラーファミリーもNVMeをサポートしている。\n",
      "UTC+12と同じ時刻だが、日付が1日遅れる。\n"
     ]
    },
    {
     "name": "stderr",
     "output_type": "stream",
     "text": [
      " 41%|████▏     | 442/1070 [00:03<00:04, 132.94it/s]"
     ]
    },
    {
     "name": "stdout",
     "output_type": "stream",
     "text": [
      "寧和城際軌道交通は、中華人民共和国江蘇省南京市雨花台区の南京南駅から浦口区の高家沖駅、将来、東は紫東エリアの仙林まで、西は安徽省和県まで延伸する南京地下鉄の路線である。\n",
      "デジタル出力のフォーマットも一般的なI2Sに改められた。\n",
      "10月22日を過ぎてダグラス社に問い合わせたところ、「雨が降ったので測定できなかった」旨の回答を得たのみで、騒音証明の見通しも得られなかった。\n",
      "121は自然数、また整数において、120の次で122の前の数である。\n",
      "慶長18年、イギリス東インド会社のジョン・セーリスと会見。\n",
      "1848年2月、パリで選挙法の改正とギゾー首相の退陣を要求した民衆の運動が1848年のフランス革命へと発展、国王ルイ・フィリップは退位してフランスは再び共和国となる。\n",
      "フォトクロミズムは光によって引き起こされるクロミズムである。\n",
      "ダム建設が契機となってアイヌ民族の悲願が成就したが、萱野・貝澤を始めとしたアイヌ関係者や二風谷ダム建設関係者の血のにじむような苦労がこの陰には潜んでいる。\n",
      "スー・エレンは4人の世話に悩み、母親が帰ってくるまで自分たちの力で夏休みを過ごすことを決意、年齢を偽ってアパレル会社に就職。\n",
      "2007年のワールド・ソーラー・チャレンジに参加する為に設計された。\n",
      "ワゴン・リ社は1884年に「南北急行」の構想を発表した。\n",
      "渥美半島を供給地域とした豊橋電気とは直接の関係はないが、本稿で記述する豊橋電気の経営者の一部が改めて1921年に設立した会社が豊橋電気信託である。\n",
      "イレブンまでのレーシングカー販売によって充分な資金を調達したロータスは、次のステップである国際格式レースへ参戦と本格的な市販車の製造販売に歩みを進める。\n",
      "ダラスでクリス・アダムスの指導を受け、1989年に本名のスティーブ・ウィリアムスの名でデビュー。\n",
      "郷里の隣町の小野出身で野口弥三という第一銀行の重役の世話で、辻新次の書生をしてなんとか食いつないで過ごす。\n",
      "セオドア・ルーズベルト大統領はY.M.C.A.建設のための最初のレンガを置く為にプエブロ陸軍陸軍補給所を訪れ、またコロラドの水源を調査した。\n",
      "後にROMANSというユニット名でデビューも果たす。\n",
      "カナダ枢密院の現役のメンバーの中で、フィリップ王配に先んじて在籍歴が最も長い。\n",
      "後に居城の改築と士分の増員について江戸幕府の詰問を受けた。\n",
      "社名の「鍋林」の由来は、当主の林右衛門・林蔵が金物鋳造業の屋号「鍋屋」と名乗ったことから省略されて呼ばれていたものを用いたものである。\n",
      "1955年にイギリスに渡り、ミルフィード・パブリック・スクールに学ぶ。\n",
      "船田一雄は大正、昭和期の日本の実業家。\n",
      "そのころ、徳田弁護士も別ルートで再鑑定を引き受けてくれる専門家をあたっていた。\n",
      "2014年7月26日、レアル・マドリード・バロンセストと2年契約を結ぶ。\n",
      "吉川ひなのへの提供曲「ホットミルク」は、東宝映画「ドラえもん のび太の南海大冒険」の主題歌に採用された。\n",
      "同年のSBSカップ・国際ユースサッカートーナメントおよび仙台カップ国際ユースサッカー大会では双方とも史上初となる全敗による最下位。\n",
      "原美術館は、財団法人アルカンシェール美術財団を母体として昭和54年に開館した。\n"
     ]
    },
    {
     "name": "stderr",
     "output_type": "stream",
     "text": [
      " 44%|████▍     | 470/1070 [00:03<00:04, 131.98it/s]"
     ]
    },
    {
     "name": "stdout",
     "output_type": "stream",
     "text": [
      "このようにモディは安倍と個人的な信頼関係があり、また、様々な点で安倍と共通点を有することから、モディが首相に就任した際、プレジデント社はWebサイト「PRESIDENT Online」の記事でモディについて「インドで誕生した「安倍派」の新首相」と表現している。\n",
      "後にフェルプスはこれを黄金律の定理とよんでいる。\n",
      "また、大岡昇平の著書「俘虜記」においても、レイテ島の捕虜収容所の給食としてコンビーフを混ぜた粥が提供されている。\n",
      "1948年ロンドンオリンピックの三段跳に出場。\n",
      "2004年のモナコGPでは、ワーナー・ブラザースのスポンサーにより映画「オーシャンズ12」カラーのマシンを走らせた。\n",
      "従来、京都市西京区の洛西ニュータウンおよび桂坂地区からJR京都線方面へのアクセスは京都市交通局、京阪京都交通などが運行する京都駅までのバス路線が主力であったが、1時間ほどの所要時間があった。\n",
      "タイトルは、デズモンド・モリスの「裸のサル」をパロディにしたものだが、その後、正高信男によって、さらなるパロディ的タイトルの新書「ケータイを持ったサル」が出た。\n",
      "コーフ・リヴァーがセイオシンに送ったデモにはアコースティックバージョンの\"Mookie's Last Christmas\"が収録されており、その他には\"Seven Years\"と\"3rd Measurement in C\"が収録されていたと思われる。\n",
      "船は氷に挟まれたまま数か月間漂流し、最終的に11月21日に沈んだ。\n",
      "送電が50Hzの場合では49-51Hzを阻止する。\n",
      "第4回ジャパンフットボールリーグは、1995年度に開催されたジャパンフットボールリーグのリーグ戦である。\n",
      "千鳥屋総本家株式会社は、東京都豊島区に本社を置く製菓業者。\n",
      "1970年に始まったニューオーリンズ・ジャズ&ヘリテッジ・フェスティバルは、初期の二回の会場として、コンゴ・スクウェア、並びに同じパーク内にある市営講堂を使用した。\n",
      "ミナスジェライス州のベロオリゾンテで生まれたが、幼くしてポルトガルに移住し、スポルティング・クルーベ・デ・ポルトゥガルの下部組織に14歳で加入した。\n",
      "また発表時に生産台数がアナウンスされた上で、フェラーリ本社と各国の現地法人、もしくは正規ディーラーが選択した、F1クリエンティやXXプログラム、フェラーリ・チャレンジに参加しているオーナーやワンオフモデルのオーナー、または過去に正規ディーラーから限定生産モデルを含む複数台数を購入したことがあるような、身元がはっきりした優良顧客に対してのみ生産開始前に案内、販売されるケースが多い。\n",
      "選考委員の高千穂遥、瀬名秀明は日本SF作家クラブ会長としての参加。\n",
      "そのほか、人員輸送、航空撮影、レーザー計測などの航空事業や、企業所有機、個人所有機の受託運航も行っている。\n",
      "制作体制としては、社内に制作部、創作部、システム開発部門を擁し、映像編集をエディッツが務める。\n",
      "Amazonが発送する在庫のある商品の注文時、一定の料金を支払うことで商品の配達日時を指定できるサービスである。\n",
      "CMLL、AAAといったメキシコのプロレス団体ではマルコ・コルレオーネのリングネームで活動している事で知られる。\n",
      "au以外は撤退も多く、お膝元の名古屋トヨペットや首都圏のトヨタ部品神奈川共販などはソフトバンクの扱いを既に終了した。\n",
      "建設局長として高知市の戦災復興都市計画に着手に加え、翌年1946年12月に起きた南海大地震による震災復興も併せて担当。\n",
      "国民政府では、1927年5月2日に福建省政府委員に任命された。\n",
      "関西テレビとイーストの共同製作。\n",
      "この時点でのメンバーは、アンダーソン、スクワイア、バンクス、ボブ・ハガーの4人である。\n",
      "Google Summer of Code Project in 2005の一環としてFreeBSDに移植された。\n",
      "この機関は、夏季・冬季の各大会と国際オリンピック委員会総会ごとに設けられる国際放送センターを構築し、テレビ・ラジオによるオリンピック放送の国際信号を制作し、オリンピック中継を行う権利を持つ各国の放送事業者に向けて配信する。\n"
     ]
    },
    {
     "name": "stderr",
     "output_type": "stream",
     "text": [
      " 47%|████▋     | 498/1070 [00:03<00:04, 131.79it/s]"
     ]
    },
    {
     "name": "stdout",
     "output_type": "stream",
     "text": [
      "けれども文学少女の頃より、ゴーリキーやチェーホフ、あるいはドストエフスキーやゴーゴリのロシア文学や、我が国のプロレタリア文学に親しんだ畔柳が、やはり本当に書きたかったのは佐多稲子が評した「「限りなき困惑」級の作品」だったように信ずる。\n",
      "STUDIO4°Cにて「鉄コン筋クリート」や「デトロイト・メタル・シティ」のアニメ制作を務めた望月重孝が、2013年11月にデジタルアニメーション撮影の会社として設立した。\n",
      "ところがカウエンは閣僚に選ばれたにもかかわらず、連立を組んでいた進歩民主党に対して厳しい態度をとっていた。\n",
      "「滝の沢」バス停留所から神奈川中央交通の路線バスで町田バスセンター行き、鶴川駅行き、淵野辺駅北口行き、橋本駅北口行きなどがある。\n",
      "太陽よりもいくらか大きくて重い。\n",
      "サービスの開始時期については、サービス提供元の国際通信社に確認した。\n",
      "1984年から1986年まで国際開発庁において、開発における女性の役割向上を目的としたラテンアメリカ担当のエコノミストとして勤務。\n",
      "1976年に、ソニー株式会社が設立したメーカー系のリース・信販会社である。\n",
      "「からむし会」はまず実物の3分の1の縮小模型を製作して丸木舟の性能を検討し、次いで輸入材を私費により購入。\n",
      "副駅名となっている東元大学校は5km以上離れており、むしろ隣駅の新屯陶芸村駅のほうが近い。\n",
      "北野建設が湯島天満宮に奉納した社殿で、境内には長野オリンピックの折に高円宮殿下・同妃殿下とIOCのサマランチ会長夫妻が植樹した白梅がある。\n",
      "2016年11月16日、リパブリックエアウェイズ・ホールディングズは2017年第1四半期中にリパブリック航空を第11章適用下から脱却させるための再編計画を提出した。\n",
      "しかしこれらの多くは餃子の王将を運営する王将フードサービスに寄せられ、同社はCMに関わっていないにもかかわらず風評被害に遭ってしまうという事態になった。\n",
      "以下は合併直前のデータである。\n",
      "1877年ごろ、ウィリアム・ヘンリー・ヴァンダービルトとジェイ・グールドの二人の偉大な鉄道開発者達は五大湖の南に鉄道の敷設を構想した。\n",
      "フジテレビのアナウンサー試験を受験し、最終4人まで残るも不合格となるも、アナウンサーオタクを自称する父が「お前はいつかセント・フォースに入る」と語り、思い直した。\n",
      "会場は基本的に国立代々木競技場第2体育館を中心とする関東圏のアリーナが使用されているが、大阪市、名古屋市、福岡市など地方都市で開催されたこともある。\n",
      "会場はオーガスタ・カントリークラブであり、マスターズの会場で有名なオーガスタ・ナショナルGCとは隣接しているが異なるコースであった。\n",
      "日本音楽事業者協会に加盟している。\n",
      "PDEAセミナーでは主に、SiCデバイス等の次世代パワーデバイスの技術的動向や、アプリケーション、信頼性などを取り上げている。\n",
      "その他の論文でLester T. W. Hoとオルガー・クラウセンは干渉を軽減するためにフェムトセル出力レベルを自動設定するための前提条件を示している。\n",
      "守備側は、相手に得点を与えないように打者をアウトにする。\n",
      "やがて母子の連絡は途絶えてしまう。\n",
      "チャンネル13で2007年3月12日から10月1日まで放送された。\n",
      "これはアメリカ独立戦争の時代にこの地域に入植した白人とダニエル・ブーンの貢献を描くものである。\n",
      "リーグ・アンのFCロリアン所属。\n",
      "2月15日にはUEFAカップのRCランス戦に出場し、ギリシャのクラブ所属で欧州カップ戦に出場した最年少の選手となった。\n"
     ]
    },
    {
     "name": "stderr",
     "output_type": "stream",
     "text": [
      " 49%|████▉     | 526/1070 [00:04<00:04, 131.96it/s]"
     ]
    },
    {
     "name": "stdout",
     "output_type": "stream",
     "text": [
      "死後、パリルラの教会に埋葬されたが、後にベオグラードの天使首ミハイル大聖堂へ改葬された。\n",
      "2016年1月30日、幕張メッセで、ニコニコ闘会議2016内にて開催された。\n",
      "タムロン・ホールはニュース・アンカーやオレンジ・ルーム・アンカーの代役を務めることがあり、ホダ・コビーがまれにニュース・アンカーまたは共同アンカーの代役を務めることがある。\n",
      "日本では、1989年の香港電影祭にて「モンコク・カルメン」の邦題で上映された後、1991年に「いますぐ抱きしめたい」の邦題で劇場公開された。\n",
      "同年満州国を訪れ、一橋の後輩である満州中央銀行の呉金川の仲人となっている。\n",
      "1921年に東京菓子株式会社から発売され、宣伝にはハロルド・ロイドが起用された。\n",
      "2014-15シーズンはミルトン・キーンズ・ドンズFCにレンタル移籍。\n",
      "西武監督時代、2002年オフに放出した鈴木健がヤクルトスワローズに移籍した翌2003年のシーズンに大活躍。\n",
      "この方針転換について、荒賀泰太薬務局長は課の方針ではないとしたが、菅は衆議院厚生委員会で「転換理由を判断できる資料はなく不可解」と答弁した。\n",
      "そこで、当時の西大寺町長、山口誠孝が有志とはかり、西大寺軽便鉄道の敷設を計画、1911年に観音-長岡間が開業した。\n",
      "後にビルの名称を「パシフィックスクエア横浜みなとみらい」に改称して完成を待つばかりであったが、2009年3月にパシフィックホールディングスが会社更生法の適用を申請、これにより、同社が開発に参加するみなとみらい新港地区のホテルは計画が白紙となったものの、大部分が完成していた当ビルについては開発が継続された。\n",
      "治山正史は、日本の実業家。\n",
      "輪島バイパスは、石川県輪島市に計画されている、市街地を迂回する全長約5kmの国道249号バイパスである。\n",
      "しかし、1967年4月の終日放送の再開と番組編成の大幅改定でこの時間帯のニュースから撤退した。\n",
      "1949年12月2日、ミネソタ大学において、ウィリアム・プリムローズのヴィオラ、 アンタル・ドラティ指揮ミネアポリス交響楽団による。\n",
      "昭和62年の蜷川幸雄演出による「王女メディア」の主役は、国内はもとより海外公演でも高く評価され、徳三郎生涯の当たり役となった。\n",
      "しかし、1995年の阪神・淡路大震災によって、火災に対して空中から散水があれば被害を縮小できたのではないかという疑問が示された。\n",
      "雲南省と日本国とは複数の航空会社が運航する航空路線で結ばれており、本拠地とする中国東方航空や雲南祥鵬航空により、省内中心都市昆明市の空の玄関口である昆明長水国際空港から日本の三大都市圏の国際空港との間で定期国際便が運航されている。\n",
      "ボランティア活動については、帯広図書館友の会をはじめとするボランティア団体のほか個人単位での参加もあり、2007年時点での参加者は100人を超える。\n",
      "板橋区立中根橋小学校でPTA会長を務めたことがある。\n",
      "これを踏まえて、厚生労働省が2016年に実施した実態調査で、日本国内の精神科医師のうち数10人が、患者の診療歴を偽るなどの手口で、精神保健指定医の資格を不正取得していた疑いがあることが判明している。\n",
      "2007年は、甲府からFWバレーが加入したこともあり、スーパーサブとしての起用が多くなるが、マグノ・アウベス・バレー不在時にはスタメンをはり、ゴールをあげつづけた。\n",
      "三徳は、高級食材を中心に扱う一方、自前でベーカリーやシェフワールドといった自社の惣菜製造工場を持つなど商品の品揃えに特徴がある。\n",
      "イギリスでは、トーマス・パーシバルが最初の現代の医療倫理規定を作成し、1794年にそれをパンフレットにし、1803年に拡張版を書いた。\n",
      "1973年、バターン州を代表して\"Miss Republic of the Philippines 1973\"に出場。\n",
      "他の白亜紀魚類と共に中生代の終わりに絶滅したため、カジキとの類似は収斂進化によるものと考えられる。\n",
      "武部グループに参加していながら、他派閥にも参加していた議員もおり、そもそも武部自身も山崎派に籍を置いたまま活動していたため、原則二重在籍を認められない従来の派閥とは一線を画していたといえる。\n"
     ]
    },
    {
     "name": "stderr",
     "output_type": "stream",
     "text": [
      " 52%|█████▏    | 554/1070 [00:04<00:03, 131.68it/s]"
     ]
    },
    {
     "name": "stdout",
     "output_type": "stream",
     "text": [
      "1592年、ヴィジャヤナガル王ヴェンカタ2世がペヌコンダからチャンドラギリに遷都したことにより、チャンドラギリ城が使用されるようになった。\n",
      "1968年ごろに発売されたヒューレット・パッカードの計算機は、マイクロプロセッサを使用せず、TTLを用いて設計されていたが、マイクロコンピュータと呼べるほどのさまざまなプログラム能力の水準を含んでいた。\n",
      "長崎精機の長崎造船所との合併後、大橋・茂里町の両工場は閉鎖され、人員は長崎造船所に引き継がれた。\n",
      "同高校サッカー班では前述の面々の他、大島治男、桑原楽之、溝手顕正、川瀬隆弘らともプレーした。\n",
      "竣工届は、1922年11月16日で、東濃鉄道での番号は4であった。\n",
      "2010年8月に一旦国内線の運航を停止し、金浦国際空港と金海国際空港から日本の対馬空港まで運航する国際路線のみ定期で運航していた。\n",
      "広島を4度の優勝に導いた古葉竹識を監督に迎えるが、5位、4位、最下位と3年間で1度もAクラス入り出来ないなど成績は振るわず、1989年にシーズン5年ぶりの最下位の責任をとり監督を辞任した。\n",
      "2015年1月、FCファドゥーツに1年半のレンタルで加入。\n",
      "その翌年の1972年にアタリ社がゲームシステム「ポン」を発表し、これが大ヒットしたことから「ポン」が「業務用ゲーム」の元祖と呼ばれている。\n",
      "1980年代以降、キューバ国内では新興レコード会社が出現したが、現在に至るまで、エグレムは国内最大規模の音楽レーベルとして機能し続けている。\n",
      "日本ハムがクジを当てた時に「俺は運の無い男だ」とボヤき、入団交渉にあたって条件として住宅を要求したと伝えられたことも話題となった。\n",
      "その存在は2020年2月9日に開催された第92回アカデミー賞の広告で初めて正式に明らかにされ、2020年2月11日にアメリカ・サンフランシスコで開催された「Galaxy UNPACKED 2020」にて、Galaxy S20|S20+|S20 Ultraなどとともに正式発表された。\n",
      "天保初期には名代が大田屋佐平次から朝倉屋猪三郎に交代し、1873年-1874年頃には吉田常芝居が朝倉座と命名された。\n",
      "2001年韓国のエヌシーソフトとソフトバンク株式会社の共同出資によって設立。\n",
      "ウタスズメは、スズメ目ホオジロ科に分類される鳥類の一種。\n",
      "長野県道407号長瀬横倉停車場線は、長野県下水内郡栄村を走る一般県道。\n",
      "2008年、NHK「みんなのうた」で結成されたクリスタルズに参加。\n",
      "「テクノ・バイブル」は、1992年8月21日にリリースされたイエロー・マジック・オーケストラのCD-BOX。\n",
      "ビイレバーキングは、日新製薬株式会社が製造しクラシエ薬品が販売する栄養ドリンクである。\n",
      "曽我信之は日本の実業家。\n",
      "設立当初からアニオナは世界各国のファッションデザイナーに生地を提供してきた。\n",
      "モノフェノールモノオキシゲナーゼ遺伝子の突然変異は、17,000人に1人の割合で発症する遺伝病で、モノフェノールモノオキシゲナーゼが機能しなくなりタイプIの眼皮膚白皮症を引き起こす。\n",
      "「ひまわり」は、日本のシンガーソングライターである長渕剛の30枚目のシングルである。\n",
      "2012年には第22回世界少年野球大会の会場となり、開会式では王貞治が始球式を行った。\n",
      "1965年、日本競輪学校第21期生としていわき平競輪場でデビューし1着。\n",
      "コーヴァルチック社は軌道を撤去してスクラップとして売却する計画を2008年に発表した。\n",
      "2012年8月13日、サイン・アンド・トレードでロサンゼルス・レイカーズに移籍。\n"
     ]
    },
    {
     "name": "stderr",
     "output_type": "stream",
     "text": [
      " 54%|█████▍    | 582/1070 [00:04<00:03, 132.32it/s]"
     ]
    },
    {
     "name": "stdout",
     "output_type": "stream",
     "text": [
      "しかし、都会の北京に冷たさを感じ馴染めずにいるシャオミンは、大量生産され具も少ないビーフンにも距離を感じていた。\n",
      "1996年、句集「白鳥」にて第30回蛇笏賞を受賞。\n",
      "ライブ・アルバムの収録曲と同じ楽曲が収録されているものもあるが、一部は曲順や楽曲が異なっている。\n",
      "馬場信房、山県昌景、内藤昌豊の3人は天正3年の長篠の戦いにおいて討死しているが、高坂昌信は勝頼後期まで存命しており、近世初頭に成立した「甲陽軍鑑」は昌信の口述が原本になっているという。\n",
      "キャスティング協力はラベリテ・プロ。\n",
      "桃井直美高知県知事が赤間文三大阪府知事に「観光資源と種の保存のため」寄贈を依頼し、小美能号と若草号が贈呈され、高知に闘犬が蘇る。\n",
      "同年7月30日の第2回民主党公開討論会では、バーニー・サンダースに代表されるリベラル系候補と彼らに反論する候補の中で埋没してしまい、存在感を示すことができなかった。\n",
      "設計は村野・森建築事務所、施工は大林組が担当。\n",
      "海上自衛隊における愛称は「あおたか」。\n",
      "「ap bank fes '05」は、Bank Band with Great Artists & Mr.Childrenの映像作品。\n",
      "デバイスドライバやデバイスに対して、属性を作ることができる。\n",
      "同時期、斉藤ノヴのリーダー・バンド、Vibesにも立ち上げから参加するなどソロ活動が活発化する。\n",
      "1871年にはフィリップスバーグからウィルクスバリまでの全線をセントラル・レールロード・オブ・ニュージャージーが借り受けた。\n",
      "ブラックはこの論争を終結させるため、連邦最高裁判所での審理に向けて、エドウィン・スタントンを調査担当の長に指名した。\n",
      "中国大陸では、北京に続き南京放棄、上海陥落と国民政府軍の敗退は決定的になり、蔣介石国民党総裁は1949年7月24日、アモイから台湾に逃れてきた。\n",
      "8月の第80回都市対抗野球大会では準々決勝の対東芝戦で勝利投手となる。\n",
      "1階にある「ジーコ広場」には、鹿島アントラーズに所属していたジーコのブロンズ像や直筆の特大サイン、アントラーズに在籍したブラジル人選手のサイン寄せ書きが壁面に設置されている。\n",
      "2013年2月から自身の出演動画をネット上にアップし、2014年7-8月頃、映画「アナと雪の女王」の主題歌「Let it go」を25のディズニーキャラで演じ分けて歌う動画が話題になり、「スマホの歌姫」とも称された。\n",
      "1998年3月22日、愛知県体育館における新日本プロレスの興行で、引退試合を2週間後に控えたアントニオ猪木と公開スパースパーリングを行なった。\n",
      "ソフト制作はニホンクリエイト。\n",
      "特にロナルド・アクーニャ・ジュニアが昨年以上の活躍を見せるなど若手選手の活躍と、フレディ・フリーマンらベテラン勢の好調が上手く噛み合いチームは首位を守ったまま9月21日に2年連続で地区優勝を決めた。\n",
      "発売元は後にスペースシャワーネットワークを経て日販アイ・ピー・エスに移行した。\n",
      "このことからアーマー研究所は大幅に譲歩し、東通工とアーマー研究所は「技術援助契約」を結ぶことで和解した。\n",
      "ニックターンは、2000年から2006年にかけて、「ワン・ライフ・トゥ・リヴ」と「アズ・ザ・ワールド・ターンズ」における業績によって、ドラマ・シリーズの音楽監督および作曲の部門でデイタイム・エミー賞に合わせて10件ノミネートされた。\n",
      "東北新幹線が八戸駅-七戸十和田駅間で約800mではあるが当町を通過している。\n",
      "2007年8月19日、デルマー競馬場のメイドン競走でデビューし2着。\n",
      "2006年にパナソニックを退社後はフリーランスとなり、maximageに在籍の後、2008年に株式会社戯を創業。\n"
     ]
    },
    {
     "name": "stderr",
     "output_type": "stream",
     "text": [
      " 57%|█████▋    | 610/1070 [00:04<00:03, 132.44it/s]"
     ]
    },
    {
     "name": "stdout",
     "output_type": "stream",
     "text": [
      "広大な植民地を獲得したブラガンサ朝は、17世紀から18世紀にかけて植民地、特にブラジル経営を進めることによって繁栄を保とうとし、ヨーロッパの戦乱には中立を保ったが、産業基盤が脆弱だったポルトガルは1703年にイギリスと締結したメシュエン条約によって、同国との間に経済的な従属関係が成立した。\n",
      "その社役を務める僧侶である供僧が、八幡宮の北西に設けた二十五の住坊およびその住持職の総称を鶴岡二十五坊という。\n",
      "冷蔵庫会社ガーディアン・フリジェレーター・カンパニーを買収した。\n",
      "当時ミャンマー国内には日野自動車製3.5t/6.5tトラックをノックダウン生産する為の国営企業である「MYANMAR Automobile and Diesel Engine Industries」が設立されていたが、このMADIがB360国内販売終了後の1973年にマツダの生産設備の委譲を受け、B360/K360の現地生産に着手した。\n",
      "1950年に八尾市南太子堂に市立八尾市民病院として開院。\n",
      "また、ゲームズワークショップ社公式サイトから注文することもでき、英国の本社からロイヤルメールまたはDHLを介して届けられる。\n",
      "装置によって作られる水流の質や容量は各メーカーによって差があるため、ユーザーの目的や使い方によって最適なものを選ぶ必要がある。\n",
      "数少ない上記に当てはまらない例外として、アコムは一時ショッピング専用のクレジットカードも発行していた。\n",
      "黒人とアジア系アメリカ人の対立は、1992年のロサンゼルス暴動に始まり、現在も断続的に発生している。\n",
      "住民に対して、エクソンは十年間で九億ドルを払い、新たに発見された被害について一億ドルを払った。\n",
      "父は「侍ニッポン」や「ルンペン節」で有名な流行歌手徳山璉。\n",
      "オーストリア学派の経済学者、ルートヴィヒ・フォン・ミーゼスは、ランドの作品に堂々たるエリート主義を認め、称賛した。\n",
      "1995年と1996年にエディンバラ・フェスティバルに出演し、スタンダップ・コメディアンとしてのキャリアをスタートさせた。\n",
      "リベリアでは、2001年10月8日に教育省から認定を受けているが、2007年以降、教育及び学位授与は行っていない。\n",
      "オットーはブラウヴァイラー修道院に埋葬された。\n",
      "また、右岸側は同時期に竣工した長さ308.6メートルの古谷高架橋に接続された。\n",
      "1987年の全日本スポーツプロトタイプカー耐久選手権は、1987年4月12日に鈴鹿サーキットで開幕し、11月29日に富士スピードウェイで閉幕するまで全7戦が組まれたが、西仙台ラウンドが中止になり、実質全6戦で争われた。\n",
      "甲府西武の南側に位置する甲府中央商店街は駅からやや離れており、甲府西武は近くにあったトポス甲府店と合わせ駅と商店街を結ぶ建物でもあったが、甲府西武に続きトポス甲府店も翌1999年に閉鎖したことでその流れが断ち切れてしまい、中心部の空洞化を決定付ける要因となってしまった。\n",
      "エヴァニエによると、新しい経営陣はマーベル社の創作の担い手としてスタン・リーを高く評価する一方、カービーを含めて作画家は代替可能だと考えていた。\n",
      "なお、「織田」の読み方について、「寛永諸家系図伝」仮名本の振り仮名を根拠として当時には「をた」と読まれており、織田信長も生前は「\"おた\"のぶなが」と清音で読まれていた可能性があるとする橋本政宣の見解がある。\n",
      "アジア、アメリカ、ヨーロッパなどの26か国・地域で発売されており、国際オリンピック委員会、FIFAワールドカップの公式スポーツ飲料である。\n",
      "コクドはSEIBUプリンスラビッツに、ハルビンは北京市に移転して浩沙に、チチハルは長春市に移転して長春富奥に、それぞれチーム名を変更した。\n",
      "フジ・メディア・ホールディングスの子会社で、フジサンケイグループに属する。\n",
      "日本でもFC東京のサポーターズ・ソングとなっている。\n",
      "アルトゥーロ・メリノ・ベニテス国際空港は一部損壊し、一時閉鎖していた。\n",
      "例えばスタンリイ・G・ワインボウムの「火星のオデッセイ」はこの時期の作品である。\n",
      "李承晩政権期から朴正煕政権期の1970年前後まで、南側の大韓民国よりも北側の朝鮮民主主義人民共和国の方が経済的な体力では勝っていたのである。\n"
     ]
    },
    {
     "name": "stderr",
     "output_type": "stream",
     "text": [
      " 60%|█████▉    | 638/1070 [00:04<00:03, 132.62it/s]"
     ]
    },
    {
     "name": "stdout",
     "output_type": "stream",
     "text": [
      "は開幕一軍を勝ち取ると当初はビハインドの場面での投球が主だったが、防御率1点台をキープし続け9月頃から勝ちパターンの一角を任されるようになり、10月2日の千葉ロッテマリーンズ戦ではプロ初セーブを挙げた。\n",
      "フライング・バッファロー社が2011年に製作した「著名なゲームデザイナー」トランプで、スタフォードはハートのキングに選ばれた。\n",
      "シリンジポンプとは、点滴静脈注射を施行する際に利便性と安全性を高めるために使用される医療機器であり、輸液ポンプより少量で、より正確な輸注を必要とする際に使用する。\n",
      "アニメ化に際し「Anime Expo 2014」で公開されたティザーPVには原作者とされる白人男性二人が出演しているが、ピントがずらされており、はっきりとした人相は確認できない。\n",
      "2018年いすみ鉄道代表取締役社長。\n",
      "第三回中華民国立法委員選挙は、中華民国の立法府である中華民国立法院を構成する委員を選挙するために1995年12月に行われた選挙である。\n",
      "特に記述がある場合を除き、TOHOシネマズブランドの映画館で行われているサービスを示す。\n",
      "6月19日、第30節のトッテナム戦にて復帰、リーグ戦ではこれまでのキャリアで最高にしてチーム最多の17ゴールを決め、来季のチャンピオンズリーグ出場権獲得に貢献した。\n",
      "YZ400は1976年~1978年にかけて発売されていたモトクロス競技用車両である。\n",
      "設立メンバーには、ジョン・シンガー・サージェント、スタンホープ・フォーブスらがいた。\n",
      "新東宝で次の仕事の予定もあったが、説得され東宝撮影所に入社。\n",
      "同日新成人女性100人を集めテリー伊藤・壇蜜・岩井志麻子・内田春菊をゲストに迎えてオープン記念イベントを開催、ニコニコ生放送で配信された。\n",
      "てつ100%解散後は、高田エージと共にエージ&テツや、近藤ナツ子と共にDouble-Voice、Mooneyらと共にジャグバンドMAD-WORDSなどのユニットを結成し音楽活動を続けている。\n",
      "これは伊藤園が発売してきた歴代の紅茶ブランドの中でも初めての大台突破となった。\n",
      "「毛糸のカービィ」では、アミーボ・アモーレの制止を聞かず勝手に彼が持っていたトマトを吸い込んだのが物語の発端である。\n",
      "2014年アジア競技大会におけるラグビー競技は、9月30日から10月1日まで仁川南洞アジアードラグビー競技場にて男女7人制で実施された。\n",
      "日中戦争終結後、孫渡率いる第1集団軍は東北へ動員され、錦州に駐屯した。\n",
      "能代厚生医療センターは、秋田県能代市落合に所在する、秋田県厚生農業協同組合連合会が設置する病院である。\n",
      "国境警備から交通取締などの行政警察活動・治安維持、犯罪捜査、災害に際しての捜索救難など、平時から幅広く運用されている一方、戦時体制においては、軍隊や国防省の指揮系統に編入される場合や、ノルウェー沿岸警備隊の様に平時から軍隊の一部である場合もあり、軍隊と警察との中間的な位置づけで論じられることも多いものの、軍事力の構成要素としても決して小さいものと言えない。\n",
      "しかし、昨今のジェット燃料価格の高騰により採算性に大きな影響を生じているため、2007年から順次発電動力として出力11.2MWのヴァルチーラ製低公害型ディーゼル発電機一基を追加する工事を受けている。\n",
      "一方で日常の業務のほとんどは常務・副社長の民義が担当し、時折上京して福澤と連絡しつつ代行した。\n",
      "脱退の噂も飛び交っており、もしこの要求が無視されれば、この地域の合衆国からの脱退の怖れが出てきたが、和平の報せで沙汰止みとなった。\n",
      "その他、ラオス、カンボジアで固定携帯電話・通信・映像事業を行うほか、国内で子会社のCSロックスインフォ、DTVサービス社を通じてインターネットや映像関連事業も行う。\n",
      "アトラス・エンターテインメントは米国の映画ファイナンス及び製作企業。\n",
      "その後現場仲間と製作プロダクション、株式会社フェローピクチャーズを立ち上げたが映画「ノルウェイの森」製作途中で退社している。\n",
      "2001年に福岡市で行われた世界水泳選手権の100mバタフライで銅メダルを獲得した。\n",
      "隊員はローウェットの代理人と会い、イングランドに戻れという伝言を受け取った。\n"
     ]
    },
    {
     "name": "stderr",
     "output_type": "stream",
     "text": [
      " 62%|██████▏   | 666/1070 [00:05<00:03, 132.85it/s]"
     ]
    },
    {
     "name": "stdout",
     "output_type": "stream",
     "text": [
      "力道山のマネージャー時代に親交を結んだ梶原一騎の梶原プロダクションに籍を置き、役員兼用心棒のような役目も担っていた。\n",
      "理事長は株式会社宣伝会議代表取締役会長の東英弥。\n",
      "このうちボストンとフィラデルフィアには既にナショナルリーグのチームが存在していた。\n",
      "臼井亮人ら慶應義塾大学アイスホッケー部OBにより2019年5月発足。\n",
      "1995年10月に東ハトより販売が開始された。\n",
      "しかし、ブローニングの悪い評判はワシントンにまで届いており、フランク・ノックス海軍長官と合衆国艦隊司令長官兼海軍作戦部長アーネスト・キング大将は、太平洋艦隊司令長官チェスター・ニミッツ大将を通じ、ハルゼーに対してブローニングの更迭を要求。\n",
      "鹿児島空港前を通過したのち、さつま町の中心街を経て、紫尾山を越え、出水市野田町下名で国道3号に合流し、終点となる。\n",
      "マカフィー社のアンチウイルスソフトでも類似の事例がある。\n",
      "同年株式会社SSGを株式会社東京ベンチャーキャピタルに社名変更し、代表取締役会長就任。\n",
      "出演の他、振付や、ダンサーブッキング等も行う。\n",
      "戦後は電通に入社し、総務部長と関連会社電通映画社の常務を務めた。\n",
      "18話からは原作者の岸本斉史が執筆した「NARUTO-ナルト-外伝〜七代目火影と緋色の花つ月〜」を原作とした「うちはサラダ編」、39話では同じく岸本が執筆した「NARUTO-ナルト-外伝〜満ちた月が照らす道〜」、他にも「NARUTO-ナルト-」本編完結後に執筆された関連ノベライズ作品を原作としたストーリーが差し込まれている。\n",
      "なお、大阪マラソンについては、2014年10月26日の第4回、第5回大会にも出場。\n",
      "2006年7月に移籍金非公開でウェストハム・ユナイテッドFCと4年契約を締結すると、8月のチャールトン・アスレティックFC戦でロスタイムに途中出場してから僅か数秒で得点を挙げる衝撃的な初出場を飾った。\n",
      "Rysherの代表であるキース・サンプルズは「保障された予算の75%は海外からの売り上げだった」と話しており、残りの25%はアメリカでの売り上げということになり、プロデューサーたちは、放映権を得たことで、海外からの売り上げだけで1話あたり80万ドルの予算を組むことができ、この額は1992年から93年にかけて放送されたドラマの中でも最高の額であるとされている。\n",
      "保険業界は、1990年の後半から2000年代の前半にかけて中堅の生命保険会社の破綻が相次ぎ外資系保険会社による買収が相次ぎ、明治安田生命のように財閥の垣根を越えて経営統合が起きた。\n",
      "AKB48で同じく宝塚歌劇団のファンである後輩の小林茉里奈と「ヅカ部」活動をしていた時期もあり、2014年4月13日の全国握手会で行われたゆるゆるカラオケグランドチャンピオン大会でペアで優勝した。\n",
      "船橋市立馬込霊園は千葉県船橋市にある市営墓地。\n",
      "原作はフランシス・ホジソン・バーネットの「小公女」。\n",
      "ロシア国内軍第4連隊は、独立作戦任務師団の連隊の1つ。\n",
      "トーナメントでのプレーを続けながら、1952年8月にはLPGAの会長にも就任し、1955年7月までこの職を務めあげた。\n",
      "レッド・ツェッペリン解散後、プラントのソロ・ツアーでもしばしば演奏されている。\n",
      "「君たちに明日はない」は垣根涼介の小説、およびそれを題材にした漫画作品、テレビドラマである。\n",
      "国家地方警察滋賀県本部は、旧警察法時代に存在した滋賀県の都道府県国家地方警察で、自治体警察を設けない地域を管轄区域とする。\n",
      "外部から一定の間隔で力を与えることなどにより振動を引き起こすことを強制振動とよぶ。\n",
      "新入幕を果たした場所は春秋園事件によって中止となり、海光山は革新力士団に加入して日本相撲協会を脱退したが、1933年1月場所において幕内格別席で帰参した。\n",
      "ユダヤ人のガントマッハーは1914年、ウクライナからニューヨークに移民する。\n"
     ]
    },
    {
     "name": "stderr",
     "output_type": "stream",
     "text": [
      " 65%|██████▍   | 694/1070 [00:05<00:02, 133.15it/s]"
     ]
    },
    {
     "name": "stdout",
     "output_type": "stream",
     "text": [
      "父の吉村甚兵衛が始めた陸運元會社は現在の日本通運の前身である。\n",
      "改札・コンコースは地下化されており、入口は踏切を挟んで両側にある。\n",
      "2017年のグランプリ・デュッセルドルフでは決勝で渡名喜風南に横四方固で敗れるも2位になった。\n",
      "国民党は、1946年第22回衆議院議員総選挙後の9月25日、諸派・無所属議員を中心に笹森順造・早川崇・岡田勢一ら32名が結成した政党。\n",
      "町長はトビアス・デルフラーである。\n",
      "後に当社の一部となる「星野商店」は、1948年にプレス機を導入して当社に鋼材やボディー部品を納入するようになり、翌年の1949年には「トヨタ自動車工業」へプレス加工部品を納入し始め、トヨタグループとの取引が始まることになった。\n",
      "1903年には、ガイルドルフ西駅からコッハー川の渓谷沿いにウンターグレーニンゲンまでを結ぶオベーレ・コッハータール線がヴュルテンベルク鉄道会社により開通した。\n",
      "株式会社サンリオがおよそ1985年に社長室内に直轄組織の「新規事業開発室」を設置し開発及び運営と事業展開ノウハウの獲得に乗り出した事業展開の一つで、運営コンセプトは「夢が現実となる街」「いつも何か楽しいこと不思議なことが起きる街」の2点で、単なる商業施設の範疇ではなく物を売る現場から環境の楽しさや夢を売る場所としての新しい提案を含んだ「新商業空間のありかた」を提案した点が最大の特徴だった。\n",
      "当時はグリーン・デイやHi-Standardのコピーバンドでも活動していた。\n",
      "モリーの夫JJブラウンは妻のように社交界入りを夢見ることはなく、労働者としてのルーツを好んだため、二人の距離は広がり、最終的には別居することになった。\n",
      "参議院議員、参議院副議長、沖縄開発政務次官、労働政務次官、参議院環境特別委員長、青森県議会議員などを歴任した。\n",
      "椎名林檎は、日本のシンガーソングライター。\n",
      "2012年8月、アマゾンは安価なオンラインファイルストレージWebサービスであるAmazon Glacierを発表し、信頼性の高いデータアーカイブ、ストレージ、バックアップを提供している。\n",
      "したがってこれまでの結果をまとめると:階数がすべての自由\"R\"-加群に対して一意的に定義されることと、それがすべての有限生成自由\"R\"-加群に対して一意的に定義されることは同値である。\n",
      "琉球の尚寧王は家康を警戒したため、薩摩藩の島津忠恒は琉球への出兵を検討する。\n",
      "車吉章は、日本のフリーアナウンサー、ラジオパーソナリティ。\n",
      "全桐生にも参加し、都市対抗野球にも出場している。\n",
      "「ロッド・スチュワート」は、ロッド・スチュワートが1986年に発表したアルバム。\n",
      "9人兄弟の長男である。\n",
      "2016年6月22日、上方落語協会の副会長に就任し、外部公演と神戸新開地・喜楽館の責任者の役割を担う。\n",
      "2005年3月10日までの芦原ミュージック出演から1ヶ月後、自身のホームページで引退を明示したが、2006年8月11日池袋ミカド劇場で復帰し、現在に至る。\n",
      "日本では、アクアクララなどがウォーターサーバーのレンタル事業を積極的に展開をしている。\n",
      "在ソ連高麗人評論家のハン・ジンが「レーニンの旗幟」は在ソ連高麗人の生活を忠実に反映したために、多くの在ソ連高麗人に共感を与えた。\n",
      "イラク戦争での戦闘が一段落すると、アメリカ軍とUNMOVICによる大量破壊兵器の捜索が開始された。\n",
      "元J.C.STAFFのプロデューサーであり、映像製作会社・ガンジスのプロデューサーでもある川﨑とも子を代表取締役として、1998年に東京都三鷹市で設立。\n",
      "IBMはCDC 6600よりも高性能なSystem/360ファミリのマシンを発表したが、その時点で実物は全く存在していない。\n",
      "※自治体の名称は第40回衆議院議員総選挙時点のものである。\n"
     ]
    },
    {
     "name": "stderr",
     "output_type": "stream",
     "text": [
      " 67%|██████▋   | 722/1070 [00:05<00:02, 132.57it/s]"
     ]
    },
    {
     "name": "stdout",
     "output_type": "stream",
     "text": [
      "設計は、辰野片岡建築事務所。\n",
      "金斗鎔は、労働者独自の運動に戻り、「労働者は祖国を持たない」という「共産党宣言」に基づいて民族的闘争を放棄することを主張した。\n",
      "2017年4月6日にコパ・スダメリカーナ2017でトップチーム初出場するも、トップチームでの出場はこの試合のみであった。\n",
      "「SDガンダム外伝ナイトガンダム物語」は、1990年8月11日にバンダイから発売されたファミリーコンピュータ用ロールプレイングゲームソフト。\n",
      "2009年7月、期限付き移籍で湘南ベルマーレに加入。\n",
      "国際オリンピック委員会総会は、国際オリンピック委員会の全体会議であり、同委員会において最高機関の役割を果たす。\n",
      "また同年の全日本学生卓球選手権の女子シングルスで優勝、インカレでも優勝しMVPに選ばれた。\n",
      "このような解雇や合理化が続く中、労働組合の組織化を図り解雇や合理化に抵抗する動きも水面下で進められたが、大きな動きとなる前の段階で運動の中核となっていた人物が検挙されてしまい、温交会がしっかりと機能していたこともあって日立鉱山では労働運動は大きな動きとはならなかった。\n",
      "ユービーアイソフトの日本法人は、1994年にユービーアイソフト株式会社として設立された。\n",
      "周辺施設として岐阜県刃物会館や関鍛冶伝承館がある。\n",
      "中華民国経済部の監督下にて事業を行なっている。\n",
      "1936年ベルリンオリンピックの野球競技は、1936年8月12日、ベルリンのベルリン・オリンピアシュタディオンで公開競技として実施された。\n",
      "春に明るい青い花を咲かせ、切り花などとして人気があるblue lace flowerは、空色レース草などと呼ばれることがあるが、セリ科の植物で、この科とは類縁が遠い。\n",
      "オープニングテーマには序奏とアレグロが使用されている。\n",
      "だが、依然民主党の一党優位体制は維持され、党内では後に共和党員となるジョン・コナリー知事を中心とする保守派とリベラル派の対立が続いた。\n",
      "1917年にロイド・ジョージ挙国一致内閣で、1921年から商務庁長官に就任。\n",
      "車番については、4桁の数字で表され、千の位の数字は、新京成バスのうち松戸を表す「3」が用いられ、すべて3○○○という形で表現される。\n",
      "国道7号、平川沿いにあり、当地の南側はすべて南津軽郡大鰐町に接する。\n",
      "倒幕後、慶應4年閏4月14日、新政府は銅銭の海外流出、銅地金の高騰、さらに市場での相場の実態を踏まえて、太政官布告第306号により鉄一文銭に対する銅銭および真鍮銭の増歩をさらに引き上げ以下のよう定めた。\n",
      "トップリーグであるWNBAとの直接の関わりはなく、いわゆる独立リーグである。\n",
      "またバスケットボールのBリーグでもプロ化の方針に理解を示し、エントリー名をトヨタ自動車からアルバルク東京へと変えさせた。\n",
      "ベルギーの製薬会社であるJanssen Pharmaceutica社により1966年に発見された。\n",
      "またダウドが1901年に女学会を開いた後には、菊栄は退園生の入会を相談したりもしていた。\n",
      "1918年、パッツはエストニア=フィンランド間の身上連合を提案した。\n",
      "こうした姿勢は、人民党・社会党側とすれば「変節」と映り、次第に反発を強めていくこととなり、ついに1959年には社会党より除名処分を受ける。\n",
      "その言葉通りに翌2017年のレースに参加し、急勾配の山道を自転車で登りきった。\n",
      "この都市は、ネッカータール=オーデンヴァルト自然公園に属し、古城街道沿いに位置している。\n"
     ]
    },
    {
     "name": "stderr",
     "output_type": "stream",
     "text": [
      " 70%|███████   | 750/1070 [00:05<00:02, 131.55it/s]"
     ]
    },
    {
     "name": "stdout",
     "output_type": "stream",
     "text": [
      "面接審査や体力測定も含まれる。\n",
      "ケンブリッジ大学で歴史学を学んだあと、1993年にバーミンガム市交響楽団に入団、首席オーボエ奏者としてサイモン・ラトルの下で数々の演奏・録音に参加する。\n",
      "最初にこの地を訪れたヨーロッパ人はフアン・ロドリゲス・カブリリョであり、1542年に船で通り過ぎた。\n",
      "しかしこの証明書が提出されないということは、アハーンが国税庁との間で協議を行なっているということを示すものである。\n",
      "ヴァレンベリ家の投資会社であるインベストールが、株式の約3割を保有している。\n",
      "最終話で、真田、佐渡を含む16名が救命艇で地球へ帰還するが、古代は救命艇の発進直前に艇から飛び降りヤマトに残り、また、森雪もヤマトに残っていた。\n",
      "ルイ15世の時代になると、摂政オルレアン公は、ジョン・ローの大規模開発計画を取り入れた。\n",
      "ヨーロッパリーグではベスト32でFCシャフタール・ドネツクに2戦合計0-3で敗れた。\n",
      "2019年シーズンオフに、ボルチモア・レイブンズと3年$3000万で契約したと報じられるが、合意に至らず破談となった。\n",
      "うち1人はカーレンベルグと接触した元サッカー選手のペーター・マドセンである。\n",
      "4回表にソフトバンクが一気に4点を挙げた場面について、スポーツニッポンは4回表の内川の左前安打が試合の流れをソフトバンクに呼び込んだと指摘した。\n",
      "2013年9月7日のオーストラリア総選挙は、保守連合が過半数を獲得して労働党を下し、6年ぶりの政権交代が実現した。\n",
      "2007年に沖縄空手古武道連盟より十段位を授与される。\n",
      "1960年、カレロが脱退してニック・マッシが加入した。\n",
      "マークは、マッキンリーに惚れ込むようになり、政見についても多くの点で一致していた。\n",
      "2016年4月29日、BREATHEが活動終了。\n",
      "近くには百貨店など3つの大型商業ビルがあったが、いずれも閉店してマンションなどとなった。\n",
      "日本語版は、初版から30年後の2015年にヴィレッジブックスから出版された。\n",
      "2005年7月13日、サン・マイクロシステムズがタランテラを2500万ドルで買収した。\n",
      "ノースウェスト航空のハブ空港のひとつであるデトロイト・メトロポリタン・ウェイン・カウンティ空港を玄関口に持ち、3本の州間高速道路が交わるなど、州の交通の中心でもある。\n",
      "VRの他、AIの研究開発にも力を入れており、テンセントの囲碁プログラム「絶芸」はUEC杯や電聖戦など国際大会で優勝している。\n",
      "同年10月13日、新日本が主催するSUPER GRADE TAG LEAGUEにて藤波辰爾とのタッグで出場。\n",
      "このために1938年5月にガルボは、ジョーン・クロフォード、ノーマ・シアラー、マレーネ・ディートリヒ、キャサリン・ヘプバーン、メイ・ウエストらとともに、出演料が高額で人気もある割には興行成績に貢献しないスター女優として、雑誌で揶揄されたことがある。\n",
      "結果的にジェニファーが折れる形で1,200万ドルでの契約が成立したという。\n",
      "1959年朝鮮民主主義人民共和国最高人民会議補欠選挙は、1959年7月19日に朝鮮民主主義人民共和国で実施された、最高人民会議代議員の補欠選挙である。\n",
      "身長154センチメートル。\n",
      "ある初期のSFカタログには1881年ににより書かれたファンタジー\"Three Hundred Years Hence\"が取り上げられている。\n"
     ]
    },
    {
     "name": "stderr",
     "output_type": "stream",
     "text": [
      " 73%|███████▎  | 778/1070 [00:05<00:02, 131.64it/s]"
     ]
    },
    {
     "name": "stdout",
     "output_type": "stream",
     "text": [
      "ラス・アドフンタス駅からはさらに南に、ロステケス鉄道が走る。\n",
      "2009年のノートルダム・ジャパン・ボウル2009でアメリカンフットボール日本代表に初選出、2011年の第4回アメリカンフットボール・ワールドカップにも出場した。\n",
      "また、元WRONG SCALEの菊川正一が演奏に参加しており、解散以来の共演作で、大西と同じivory7 chordのメンバーでOCEANLANEの直江慶も参加。\n",
      "作画期は享和から文政の頃にかけてで、合巻の挿絵、役者絵、美人画を描いている。\n",
      "史上初の通信衛星、プロジェクト・スコアは1958年12月18日に打ち上げられ、アイゼンハワー大統領のクリスマス・メッセージを全世界に中継した。\n",
      "ラジオでアシスタントの青木佑磨と出演。\n",
      "UUUM株式会社と講談社が共同で運営している。\n",
      "また、周辺地区は都市景観100選に選定されている。\n",
      "グリューンベルクは1980年に「ヘッセンの日」の開催地となった。\n",
      "ゼファーサーフチームはベニスビーチのサーフショップ、が1971年に作ったチームだった。\n",
      "いわゆる「盲腸線」ではあるが、起点から先は町道となっていて、そこから先の厚沢部町清水にある北海道道67号八雲厚沢部線に間接接続している。\n",
      "さらに1893年には近在に別荘を持つジョン・ジェイコブ・アスター4世、ペリー・ベルモント、コーネリアス・ヴァンダービルト2世といった裕福な友人らの多くに声をかけて資金を集め、ロッキーファームが所有していた土地のうち140エーカーを80,000ドルで買い取り、ここにゴルフクラブを設立した。\n",
      "宇宙に送られた最初の人工物は、1957年に打ち上げられたソビエト連邦の\"スプートニク1号\"で、翌年1月4日まで地球を周回することに成功した。\n",
      "小学5年生時代の最後、2001年3月下旬に行われた小学生将棋名人戦西日本大会に大阪府代表として出場。\n",
      "2002年、ヤッパはイスラエルの3Di社を買収し、2003年にJavaベースのYAPPA 3D向けオーサリングツールであるYAPPA 3D Studioをリリースした。\n",
      "柳町光男監督の前作「十九歳の地図」同様に、内容が暗い、救いようがない、地味などと評され配給会社をたらいまわしになった挙句、1982年のベルリン国際映画祭に正式出品が決まってもダメで、結局買い手が付かず自主上映になった。\n",
      "Printfanはピクチャーパラダイスにも対応しており、これに対応するデジタルカメラで撮影した画像を取り込んで印刷したり、アルバムにまとめて管理するといった機能を持つ。\n",
      "この勝利はチリにとって、1962 FIFAワールドカップ以来となる本大会での勝利となった。\n",
      "旧客室フロアは簡易的な改装のうえ、京急イーエックスインが運営を行い、「京急EXイン品川駅前」として、2011年1月21日に予約開始、同年4月29日に開業した。\n",
      "2006年の珠海エアショーで模型が初公開された。\n",
      "2006年6月5日、フジテレビはDSEとの契約を全面解除し、番組の放送を取りやめることを発表。\n",
      "多くの場合、評議会では独立社民党が実権を握っていたが、共産党が優勢だった地域もある。\n",
      "2002年、ツクダオリジナルはバンダイの子会社となり、2003年3月には和久井が経営するワクイコーポレーションと経営統合してパルボックスとなった。\n",
      "大手新聞社・日政新聞の若手記者である主人公・谷一平が、大阪本社社会部の記者として様々な事件に遭遇しながら新聞記者として鍛えられ成長していく様を描いた作品。\n",
      "2010年8月9日に大宮アルディージャへ加入するも同年限りで退団。\n",
      "株式会社今井金箔は、石川県に本社を置く金箔メーカーである。\n",
      "この空港には3大航空会社が各社ハブ空港からの便を運航しているほか、USエアウェイズ、サウスウエスト航空、およびジェットブルー航空も就航している。\n"
     ]
    },
    {
     "name": "stderr",
     "output_type": "stream",
     "text": [
      "\r",
      " 74%|███████▍  | 792/1070 [00:06<00:02, 131.79it/s]"
     ]
    },
    {
     "name": "stdout",
     "output_type": "stream",
     "text": [
      "大阪芸術大での同級生にコンポーザー・ピアニストの天平がおり、彼のアルバム「火の鳥Vol.1」にも参加している。\n",
      "ゴンサレスは1986年の欧州諸共同体加盟や民主化の強化に大きな役割を果たした。\n",
      "cowsayはプログラミング言語のPerlで作成されている。\n",
      "10月8日、UCIのバイオロジカル・パスポートに携わっていたこともある、医学博士のマイケル・アシェンデンは「カリフォルニア・ウォッチ」のインタビューで、アームストロングが、2009年のツール・ド・フランスにおいても、ドーピング違反の疑いがあるとする話を述べた。\n",
      "1929年の第1回全日本スピードスケート選手権大会で優勝。\n",
      "ロッキー・ロメロは、キューバのプロレスラー。\n",
      "また、坂口安吾の作家生活は約24年間であるが、戦後10年間の後半生と、戦前14年間の前半生の経過が非常に似ていることが指摘されている。\n",
      "豊蔵の死後、会社は井上治兵衛が引き継ぎ、昭和11年丸石製薬株式会社となり現在に至っている。\n",
      "スポーツの団体競技において試合を開催する際のスターティングメンバーに定着した選手や、映画・ドラマ・テレビゲームなどにおいて主要なキャスト・キャラクターとして常連で出演し続けている人物・キャラクターを指す呼称としても用いられる。\n",
      "エルビット・システムズとタレスUKの合弁事業として設立された合弁会社U-Tacsが主契約社となり、2007年7月15日に54機を発注、2010年6月の就役を目指したが、初飛行が2010年4月14日にずれ込み、最終的に就役は2014年となった。\n",
      "その後、劇団道学先生20周年記念公演「梶山太郎氏の憂鬱と微笑」に竹中麻奈役、加藤健一事務所「夢一夜」レベッカ・キング役、「煙が目にしみる」野々村早紀役にて出演。\n",
      "これはやがて、ポール・ホワイトヘッドによって設計されたマッド・ハッター・ラベルに置き換えられた。\n",
      "球団から戦力外通告を受けた大島と柴田が現役を引退、オフに木村拓也プラス金銭で広島長冨浩志とのトレードを行った。\n",
      "文芸小説家の肩書きを持ちながらも、晨星出版に勤め細々と執筆活動をする鳴海六朗。\n",
      "見山大五郎は、アメリカ合衆国ハワイ準州マウイ島出身で高砂部屋所属の元大相撲力士。\n",
      "ウォール・ストリート・ジャーナルはこの事件をスクープし、合衆国上院ではこの事件についての調査開始を決定した。\n",
      "2007年3月8日、バンダイナムコゲームス・ナムコレーベルから発売。\n",
      "日本国のモバイル放送株式会社のモバHO!と同じ衛星MBSatを使用している。\n",
      "しかしそのあとを追って次々に製作されたボーイング314、マーチンM-130、ショート・エンパイア、九七式輸送飛行艇といった大型旅客飛行艇は非常に成功した機体となり、太平洋や大西洋などの世界中の大洋を駆け巡った。\n",
      "この発射実験には最高指導者の金正恩党委員長の他、李万建党中央委員会副委員長や李炳鉄党中央委員会第一副部長、金洛兼朝鮮人民軍戦略軍司令官らが立ち会った。\n",
      "少数が製造されたが、他の多くの試み同様、第二次世界大戦後期のドイツ航空界における航空機の木製化は、ヴッパータールで接着剤を作っていたゴルトシュミット・テゴ・フィルム工場がイギリス空軍の夜間爆撃により喪失したことで大きな打撃を受けた。\n",
      "1996年4月5日、カンザスシティ・ロイヤルズの本拠地カウフマン・スタジアムで球団史上初のマスコットとしてスラッガーは登場した。\n",
      "2019年大会は2019年香港民主化デモの影響で中止になった。\n",
      "しかもヴァンフォーレ甲府が参入した当時はアジア通貨危機などの影響により親会社を持つチームやJリーグを目指すチームも相次いで撤退や縮小を余儀なくされるなど苦しい状況に置かれていた。\n",
      "パビリオンでの最後の集会が始まる直前、ゲイリーとレーンは、人々は彼らに怒っていると語られた。\n",
      "1947年から1948年までランツベルク・アム・レヒDPキャンプで、ホロコースト生存者の運命を描いたイディッシュ語のドイツ映画\"Lang ist der Weg\"が撮影された。\n",
      "阪神の応援団としては設立以来最大規模を誇っている応援団でもある。\n"
     ]
    },
    {
     "name": "stderr",
     "output_type": "stream",
     "text": [
      " 77%|███████▋  | 820/1070 [00:06<00:01, 131.79it/s]"
     ]
    },
    {
     "name": "stdout",
     "output_type": "stream",
     "text": [
      "このため、のちの大蔵卿松方正義は、増税、官営企業の払い下げ、通貨整理を行って兌換紙幣発行に漕ぎ付け、通貨の信用回復により日本が欧米列強に並ぶ近代国家になる下地が作られた。\n",
      "初芝電器産業の取締役となった島は上海初芝電産董事長と本社上海担当役員の兼務で東京と上海を往来、それを通して急成長する中国経済が描かれることとなる。\n",
      "イスラエル陸軍は3個機甲師団を主力にシナイ半島へと侵攻、当地に配置されていたエジプト軍7個師団を撃破した。\n",
      "政治家になる前の江本孟紀に田中の応援演説を依頼し、江本は演説を行った。\n",
      "1986年、横浜駅西口に作ったシンボルタワー兼地下街換気塔「風の塔」は、無数の穴を開けた金属板と照明多数で構成された半透明な簡素な塔であるが、夜間は風などの周囲の気象条件に合わせて表面にカラフルな光が浮かび上がるようプログラミングされており、金属板の斬新な使用方法や環境に対する相互作用性で注目を浴びた。\n",
      "本記事は主に公式サイトおよび任天堂が公開した動画を出典として記述している。\n",
      "ニコライ・グルントヴィはデンマーク国教会を活気づけ、デンマークの教会で使われる讃美歌を多く作曲したほか、1834年には農村の青年男女のために期間5ヵ月の寄宿制学校であるフォルケホイスコーレを設立した。\n",
      "出演者は谷村新司、チョー・ヨンピル、ワン・ジェ、喜屋武マリーなど。\n",
      "1923年アレクサンデル・スタンボリスキ農民同盟政権に参加し、運輸大臣として入閣している。\n",
      "6人兄弟の長男で、弟妹にはマーガレット・フォード、ジェーン・フォード、ウィリアム・フォード、ロバート・フォードがいる。\n",
      "2年次にはジュニアオールスターにも出場するが、1回戦で東京成徳中の篠原恵・山本千夏擁する東京Aに敗退。\n",
      "第二次世界大戦中の1945年、母校東京産業大学学部の建物に軍需省の部局が入居してきた際には、キャンパスが軍に占拠されることを恐れた学生の意を受け、ひょうたん池付近の学生集会所を「如水寮」と名付け、学生がキャンパス内に留まることができるようにした。\n",
      "波多野聖は、日本の小説家、ファンド・マネージャー。\n",
      "1886年、卵を売る食料雑貨店としてカール・シェプラーがコペンハーゲンで創業した。\n",
      "苅田セメントは、日本のセメント製品メーカー、および生産拠点。\n",
      "高校卒業後にセレッソ大阪に入団したが出場機会を得られず、鳥栖フューチャーズが解散した後を受け発足したサガン鳥栖に移籍した。\n",
      "パチューカでは右サイドバックのレギュラーを獲得し、2016年5月のモンテレイ戦で古巣を破りリーグ優勝を果たした。\n",
      "画家のマウリッツ・エッシャーはアルハンブラ宮殿で見たムスリムのモザイク画に影響を受け、モザイク模様の研究や平面充填の研究を始め、これを利用した作品を数多く制作した。\n",
      "2012年9月9日、メイウェザーが所有する邸宅でメリッサ・ブリムと激しい口論となり、ブリムが警察に通報するが、メイウェザーはブリムの私物を奪って逃亡。\n",
      "大連商工会議所議員で水族館の運営に詳しい平田包定が、1928年に東京市で開催された大礼記念博覧会に併設されていた水族館を横浜市に移設することを提唱。\n",
      "長塚古墳は大仙陵古墳の南東に位置する前方部を西に向けた前方後円墳である。\n",
      "2010年7月、BNYメロンは地元ピッツバーグのPNCから投資ファンドを買収した。\n",
      "またペスタロッチは主に初等教育分野に貢献したのに対し、彼の影響を受けたフリードリヒ・フレーベルは幼児教育に、ヨハン・フリードリヒ・ヘルバルトは高等教育に大きな足跡を残した。\n",
      "またこの市は、マオリ人とイギリス人の間で行われたマオリ戦争の舞台でもある。\n",
      "TBSによる一連の番組は、「TBS宇宙プロジェクト「日本人初!宇宙へ」」と題し、テレビ・ラジオ双方で連日放送された。\n",
      "神奈川県警第7署重要犯罪課の柏木昌雄警部は、勤務中も署内で同僚たちと賭博に興じ、裏社会とも深い気脈を通じる悪徳警官。\n",
      "なお同車は日産ブランドの車種として日本市場にも導入された。\n"
     ]
    },
    {
     "name": "stderr",
     "output_type": "stream",
     "text": [
      " 79%|███████▉  | 848/1070 [00:06<00:01, 131.85it/s]"
     ]
    },
    {
     "name": "stdout",
     "output_type": "stream",
     "text": [
      "金正恩第一書記から花輪が贈られた。\n",
      "また、\"Gonzo Meat Biltong\"というブランドのビーフジャーキーも販売している。\n",
      "1669年、フランス人探検家ロベルト・デ・ラ・サールは、ケベックからオンタリオ湖を上り、オハイオ川を下る探検の最中に、ヨーロッパ人としては初めてこの地に足を踏み入れた。\n",
      "また、秀でた才能と真面目な人柄はアマチュア時代、他の選手からも愛され、井上のプロデビュー戦には川内将嗣、須佐勝明、清水聡、鈴木康弘といった選手の他に、プロとの関係が正常化された日本アマチュアボクシング連盟会長の山根明をはじめとする関係者らも来場した。\n",
      "前年にナショナルリーグのワシントン・ナショナルズに在籍していた選手を中心に構成されていた。\n",
      "ハンニバルは追撃を中止し、東のアプリアに向かい、そこの同盟都市を攻撃していたローマ軍に対処した。\n",
      "そのため、蛍池駅から徒歩15分ほどで直接に大阪国際空港へ向かうという手段も場合によっては実用的である。\n",
      "1946年9月5日、パリにおいてイタリア共和国のデ・ガスペリ首相兼外相とオーストリアの外相との間で会談が行われ、グルーバー=デ・ガスペリ協定が結ばれた。\n",
      "この会は、核兵器、SDI、その他、計算機科学の分野での米国防総省による関与の増大を懸念する計算機科学者の集まりである。\n",
      "2017年3月まで36号系統と一部並行する形で近鉄バスの路線もあった。\n",
      "側面の行先表示器や前面の愛称表示器への表記は行わず、特製のステッカーをそれぞれの表示器に貼付して運行していた。\n",
      "その際に西武流通グループの中核会社であった西友ストアーをビルのキーテナントとして誘致し、1975年9月に西友郡山店として開店。\n",
      "なお、毎日放送のテレビ放送部門ではかつて、当番組に似たタイトルの深夜番組「あどりぶランド」を制作。\n",
      "大阪市立茨田南小学校より分離する形で、1977年に開校した。\n",
      "創業当時の社名は湧永薬品。\n",
      "日本では、1989年に劇団四季によって上演される。\n",
      "耕洋丸の代船として林兼造船下関造船所で建造され、1978年に就航した。\n",
      "1999年8月13日、公安当局は、ウルムチ市内に滞在していた米国議会関係者に接触しようとしたラビアを逮捕し、米国に亡命した夫に対して「不法に機密情報を漏洩した」として懲役8年の実刑判決を下した。\n",
      "1937年に設立された日本亜鉛製錬株式会社は、安中町に安中製錬所を設置。\n",
      "カシオペアは、アルバム「active」収録中、オーストラリア、メルボルン市内にあるクラブMETROで1992年2月26日にライブ行った。\n",
      "この図書館はロタ島の島長、アントニオ・C・アタリグに因んで名付けられ、その名称は1981年に採用された.。\n",
      "1920年代に、ブエナパークの州道39号線沿いでウォルター・ナッツがボイセンベリーを販売するスタンドを設けたのがナッツベリーファームの起源である。\n",
      "空中母機はすでに開発されていたTu-144やT-4などの大型機の多くの設計技術を利用してツポレフ設計局が製造した。\n",
      "1925年、第一徴兵保険社長に就任。\n",
      "日本との関係では、1988年から新星日本交響楽団の首席客演指揮者、1993年から首席指揮者・芸術顧問を務めるなどしており、日本でもおなじみである。\n",
      "31階以上の3戸は約180-220平方メートル、25階から30階の30戸は約130-170平方メートルと広く、富裕層を対象としている。\n",
      "依頼によりあらゆる男女を別れさせる「別れさせ屋」の活躍を描いたドラマ。\n"
     ]
    },
    {
     "name": "stderr",
     "output_type": "stream",
     "text": [
      " 82%|████████▏ | 876/1070 [00:06<00:01, 131.58it/s]"
     ]
    },
    {
     "name": "stdout",
     "output_type": "stream",
     "text": [
      "かつてホーワスインターナショナルであった時代において、東陽監査法人は2003年3月よりメンバーファームへ加盟していたが、その後提携を解消。\n",
      "伊田テクノス株式会社は、埼玉県東松山市に本社を置く中堅総合建設会社である。\n",
      "2010年までは、元プロ野球選手で千葉ロッテマリーンズに所属していた塀内久雄の応援歌としても使用された。\n",
      "各組上位2名と記録上位2名が準決勝通過、決勝へ進む。\n",
      "Me 328では非戦略物資を使うことが念頭に置かれていたため、機体は当然木製となる予定だったが、それでも原型では各種の合板や複合材などが研究されている。\n",
      "設計・施工は鹿島建設。\n",
      "奈良交通の完全子会社で、奈良交通より移管された路線の運行を担う。\n",
      "これは、彼の研究室の研究者であるテレザ・イマニシ=カリが実験データを捏造したと告発された事件である。\n",
      "BBR1、BBR2、BBR3として知られる3種類のGタンパク質結合受容体を活性化する。\n",
      "ジョージ・ブッシュは1953年にはザパタ石油会社を立ち上げ、CIAがメキシコでの工作活動に乗り出した1959年には、CIAの活動に積極的に協力した。\n",
      "その後2010年に作品ごとに異なる出演者・趣向で企画される演劇ユニット「“劇団”スポーツ」を旗揚げ。\n",
      "イオンエンターテイメントの劇場を下記に示す。\n",
      "一方で、クレジット機能のないカードとして、2012年12月1日にJR西日本との連携による、IC乗車カードのICOCAの機能を加えた「KIPS ICOCAカード」の発行を開始し、さらに2013年1月25日には、現金専用のポイントカード「KIPSポイントカード」の発行を開始した。\n",
      "後に同じくフジテレビで放送されたバラエティ番組「大石恵三」で菊池桃子によるこのコーナーのリメイク版が放送された。\n",
      "アニメ以外では2010年10月5日から2011年3月29日放送分まで「キティズパラダイスpeace」にてエンディング曲「マジカル☆ツイスト」の映像内でルビー、ガーネット、サフィーが登場していた。\n",
      "「吸血鬼」は、デンマーク人カール・テオドア・ドライヤーが監督した1932年公開のフランス・ドイツ合同映画であり、シェリダン・レ・ファニュのIn a Glass Darklyという短編集のいくつかの話が基になっている。\n",
      "同人ゲームなどを趣味とし、コミックマーケットなどの同人イベントにも参加する。\n",
      "帝政ローマ支配下の属州ブリタンニアではキリスト教の布教がローマ人の入植とともに広まっていたが、5世紀にブリタンニアが放棄されると廃れてしまっていた。\n",
      "2010年3月27日、2010年アース・アワーに参加するため、噴水のライトが消された。\n",
      "アメリカ合衆国において指揮活動に入り、まずはジョージ・セルに弟子入りし、その後レオポルド・ストコフスキーの助手となり、ロリン・マゼール時代のクリーヴランド管弦楽団で常任指揮者のひとりとなった。\n",
      "このマンションはYe Guang地所不動産会社によって、セファルディ系ユダヤ人のヴィクター・サッスーン卿の支配する上海地所開発会社のために建築された。\n",
      "庭園博に伴い、新しい文化・スポーツ施設が建設され、内市街の道路の景観は変化した。\n",
      "その後に報じられたブルームバーグの記事では、この盗聴が2000年6月に既に始まっていた可能性があると伝えられた。\n",
      "中期以降のものは山田章博のコミックならびに水野良の小説「ファリスの聖女」のパロディ。\n",
      "遠鉄では、毎年15〜25台程度新車が導入されている。\n",
      "5月30日、LPSAは「公益社団法人日本女子プロ将棋協会棋士規程」を改定し、LPSAの女流棋士認定基準を、連盟の女流棋士認定基準と事実上同一とした。\n",
      "また「フリーソフトウェア・フォント」のみを指してフリーフォントと呼ぶ場合もある。\n"
     ]
    },
    {
     "name": "stderr",
     "output_type": "stream",
     "text": [
      " 84%|████████▍ | 904/1070 [00:06<00:01, 130.95it/s]"
     ]
    },
    {
     "name": "stdout",
     "output_type": "stream",
     "text": [
      "裁判の中で2人は「申し訳なく思います」「自分という人間を根本から変えてゆきたい」などと反省の弁を述べた一方、事件自体は酔った被害者がからんできたことによる過剰防衛であると主張し、裁判中の淡々とした態度や発言から、真に事件に向き合い反省しているかどうか疑問を抱く態度を繰り返していた。\n",
      "実質的には、同社が本体とし、飲食店の経営をおこなう「かわべフードサービス」、その他に飲食専門の人材派遣をおこなう「ヒューマンアラウンド」の3社により「五苑マルシングループ」を形成している。\n",
      "このイベントにおける警備体制について、主催者であるキングレコードは「制服警備員、会場整理スタッフ約100名が警備にあたっており、握手前には両手を広げていただくチェック体制をとっておりました」と説明している。\n",
      "1980年4月、イランにおける在テヘラン米大使館人質救出作戦が失敗に終わると、その原因究明と再発防止策検討の為に設置されたホロウェイ委員会は専任の特殊作戦航空部隊の新設を含む特殊作戦能力の再編を軍上層部に命じ、それを受けてアメリカ陸軍はタスクフォース160を創設した。\n",
      "シカゴ大学に1年間学んだのち、1911年にステュードベーカーに入社し、セールスマンとして勤務した。\n",
      "日産ディーゼル製大型CNGノンステップバス、日本初の日野自動車製中型CNGノンステップバス、いすゞのボンネットバスも保有していた。\n",
      "エリック・シプトン、フランク・スマイス、ウィン=ハリス、チャールズ・ウォレン、ピーター・オリヴァーらが参加。\n",
      "水利権の獲得程度に留まっていた木曽川中流部の開発計画が具体化されるのは、後年「電力王」と呼ばれた実業家福澤桃介が名古屋電灯の経営を掌握してからである。\n",
      "大手町本部ビルは2011年より解体され、跡地には2015年に三井住友銀行本店東館が完成した。\n",
      "ダーヴラ・カーワンはマーシー・ハーティガンを演じ、ラッセル・T・デイヴィスは本作のポッドキャストコメンタリーで彼女について「これまでにないほどダークな悪役」と表現した。\n",
      "現在は持株会社である株式会社ジャパネットホールディングスの完全子会社であり、ジャパネット・グループの通信販売媒体制作を担当する企業となっている。\n",
      "マキノトーキー製作所は、かつて京都に存在した映画会社である。\n",
      "海外推理小説、SF小説の出版などで知られる東京創元社は、1954年にのれん分けで独立し別会社となったもの。\n",
      "アヤックスでは1試合も出場しておらず、オランダの現役選手で1クラブでの最多出場記録を所持している。\n",
      "当センターのオープン日に前述の「動物ふれあい広場」もオープンした。\n",
      "2011年11月22日にボストン・レッドソックスとマイナー契約を結んだ。\n",
      "アミン臭を持つ無色の液体。\n",
      "その後、アスミックはエースピクチャーズと合併し、新たにアスミック・エース エンタテインメントが発足することになり、1998年より同社の代表権を持つ取締役として専務に就任した。\n",
      "日本公開は1976年3月、日本ヘラルド映画配給で「地上最後の残酷」という副題が付いていた。\n",
      "永禄4年、第四次川中島の戦いに出陣し、討死した。\n",
      "また、自動車評論家の小林彰太郎は最終型のライレー・ケストレル1300を夫人用のセカンドカーとして20年以上にわたって愛用した。\n",
      "原義は「疲労」、とくに宗教的な行に由来する疲労のことを意味していたと考えられる。\n",
      "毎月27日発売。\n",
      "1982年、同社はそごうとの業務提携に踏み切り、1983年、そごうグループの出資を受け、社名を株式会社丸光そごうに変更した。\n",
      "岸和田市立修斉小学校は、大阪府岸和田市にある公立小学校である。\n",
      "マリーの紹介でポール・ヘニングセンと知り合う。\n",
      "社名はバンダイの「バン」と演奏記号の「Presto」が由来。\n"
     ]
    },
    {
     "name": "stderr",
     "output_type": "stream",
     "text": [
      " 87%|████████▋ | 932/1070 [00:07<00:01, 131.34it/s]"
     ]
    },
    {
     "name": "stdout",
     "output_type": "stream",
     "text": [
      "江戸幕府は慶安元年に「風紀を乱す」という理由で勧進相撲禁止令を出している。\n",
      "1975年5月、財団法人ヤマハ音楽振興会の主催による「第9回ポピュラーソング・コンテスト」に「傷ついた翼」が入賞した。\n",
      "しかし、電話加入権の担保価値が下落してきたため、2002年5月、電話担保金融の事業から撤退、資産の大部分をシティグループへ売却し、「生活キャッシング・振込ローン」で再出発するも、折からの上限金利規制強化や貸し倒れの増加により再建を断念した。\n",
      "1967年カビラと残った支持者たちは活動の場を南キヴ州のフィジ・バラカの山岳地帯に移し、人民革命党を結成した。\n",
      "当時の宇宙船は大気圏への再突入時に滑空性と操舵性が考慮されていないカプセル型のものであったが、1950年代半ばにNACAのエームズ研究所が通常の飛行機と同様の着陸によって基地へ帰還できるような宇宙船の発案を行い、リフティングボディの概念が形成されることとなった。\n",
      "J:COM春日部とは、株式会社ジェイコム北関東が運営するケーブルテレビ局のひとつ。\n",
      "ヘミカルセランドは、他の分子との反応を防ぐことによって、その空洞内でゲストを安定化する。\n",
      "そこで、アメリカ民間航空委員会では、新しく2市共同の空港を設置するように命じた。\n",
      "一つは「日本鉄道神社」で、1927年に上本町駅の大軌ビルディング屋上に、生国魂神社、伊勢神宮、熱田神宮、大山祇神社、東高津神社から祭神を奉還し「大軌神社」として創始されたものである。\n",
      "この戦間期におけるアレクサンドロフ、後にはミハイロフに率いられた内部マケドニア革命組織は、かつての組織左派への攻撃も行い、かつての内部マケドニア・アドリアノープル革命組織のサンダンスキ派の構成員に対する暗殺にも及んだ。\n",
      "世界金融危機の2008年、水道事業の再公営化を公約の一つに掲げたベルトラン・ドラノエが市長に再選された。\n",
      "ステファニーは、偶然転んだナンバー5の機体の底に刻印されていた銘板を見て、彼がノヴァ社のロボットであることを知って失望し、回収してもらうためにノヴァ社に電話をかけた。\n",
      "なお、青森放送局ホームページ内のラジオ周波数では「青森ラジオ基幹放送所」と記載されている。\n",
      "天正10年3月には織田・徳川連合軍の甲州征伐により武田氏は滅亡し、同年6月には天正壬午の乱を経て甲斐は三河国の徳川家康が領した。\n",
      "尹潽善候補が、1948年に麗水・順天において発生した韓国軍の反乱事件に朴正熙候補が係わっていた事を暗に示す発言で頂点に達した「思想論争」がもっぱらの関心となった。\n",
      "東京オリンピックの後、地方局にテレビ取材の機材が行き渡るようになり、ネットワークを生かせるような番組を制作できるようになった。\n",
      "1947年日農内の社会、共産両党の路線対立が激化したため、副委員長であった野溝らは「日農主流体制確立に関する件」を提案し、日農は分裂する。\n",
      "郵便番号は342-0011。\n",
      "映画作家たちはモスクワのから資金提供を受け、検閲団体のと共産党文化部は、映画の公開を制御していた。\n",
      "1943年に、ネルソン・マンデラやオリバー・タンボと共に、ANC青年同盟に加入する。\n",
      "イギリス国民戦線が存在し、外国人移民排斥やアイルランド奪取などを訴えている。\n",
      "楽曲の質に対しては、音楽ライターの森朋之が音楽雑誌「CDジャーナル」および「VA」誌上にて「楽曲至上主義」の語をもって評価した。\n",
      "その根拠として、「伊勢物語」の「九段東下り」が示される。\n",
      "アデナウアーが戦前所属した中央党はカトリック政党であったが、戦後、プロテスタントとともにキリスト教に基づいた政治を目指し、キリスト教民主同盟として生まれ変わり、その創設者のひとりとなった。\n",
      "一方、西労組側は境線全駅での乗降客数は1日平均8000人で民営化時より増加しているとし、営業係数も300台に回復していると指摘した。\n",
      "FCバルセロナの下部組織出身。\n",
      "これらの背景には、プロ志向の強い読売クラブに対して日本サッカー協会や実業団チームからの妬みや反発が強く、読売クラブを代表してラモスが被害を受けたという面もある。\n"
     ]
    },
    {
     "name": "stderr",
     "output_type": "stream",
     "text": [
      " 90%|████████▉ | 960/1070 [00:07<00:00, 131.66it/s]"
     ]
    },
    {
     "name": "stdout",
     "output_type": "stream",
     "text": [
      "グレイハウンド・カナダはアルバータ州カルガリーを拠点とするカナダ最大の中長距離バス会社。\n",
      "2016年1月、ラピンド・ブランタス社は泥流の中心から5キロメートル離れた地点で新たな坑井の掘削を開始した。\n",
      "しかし、1912年には白人支配に反発する黒人の反乱が発生したため、ゴメス政権はアメリカ軍と結んでこれを鎮圧した。\n",
      "「議案」に憲法改正案や法律案をも含むかという議論があるが、内閣法制局はいずれも含むという解釈をとっている。\n",
      "アフリカ連合は軍部とデモ隊の衝突が発生したことを機に加盟国としての資格を停止したが、暫定政権樹立を受け、9月6日に停止処分を解除した。\n",
      "神戸市立広陵小学校2年の時に広陵少年野球部で軟式野球を始める。\n",
      "スパイダーマンは、スタン・リー原作、スティーブ・ディッコ作画により「Amazing Fantasy」#15に初登場した。\n",
      "1994-95シーズン、ヤング・アヤックスと呼ばれたチームでUEFAチャンピオンズリーグ準決勝のバイエルン・ミュンヘン戦では1ゴール1アシストを決め、決勝進出に貢献、決勝ではACミランを破り、優勝を成し遂げ、国外のビッククラブから獲得オファーが相次いだが、それ以降もクラブに留まり、アヤックスでプレーすることを継続した。\n",
      "その後、2016年に「中日新聞」が選出した「歴代ベストナイン」では立浪に加えて西沢・高木がそれぞれ「ミスタードラゴンズ」と呼称されており、時点で3人全員が野球殿堂入りを果たしている。\n",
      "しかし、ショーはアニーがフェビアン協会に入る時の保証人になってくれた。\n",
      "2004年夏、推定移籍金60万ユーロ・2008年6月30日までの契約期間4年で前シーズンにブンデスリーガを制した王者ヴェルダー・ブレーメンへ加入した。\n",
      "報告者は、板垣雄三、大門正克、大日方純夫、丸浜昭の4名であった。\n",
      "クオレクは医学を学ぶ金を貯めようと、一時的にデュポンで働くつもりだけだった。\n",
      "民間で書籍商を行っていた大黒屋太郎右衛門が、宅間太兵衛との連名で貸本業を行うことを明治4年に府に提出。\n",
      "また、交通は移動の場所から陸上交通、水上交通、航空交通に分けられる。\n",
      "長谷川香料株式会社は、東京都中央区に本社を置く日本の香料メーカーである。\n",
      "現在は、JR東日本労働組合を脱退した一部組合員が設立した、ジェイアール・イーストユニオンがJR連合に正加盟している。\n",
      "2001年にBBCプロムスのコンサートに初出演して絶賛を浴びたほか、2007年にはベルリン・フィルハーモニー管弦楽団やニューヨーク・フィルハーモニックの演奏会にもデビュー。\n",
      "1252年、怒った太宗が親征する大越軍の侵攻を招き、ジャヤ・パラメーシュヴァラヴァルマン2世は妃の博拉吉や妾、多くの重臣と共に捕虜となって北に連行された。\n",
      "榎木孝明が歴史探偵役に扮し、桐島ココと共に斎宮跡などを訪れたが、当番組出演者は出演していない。\n",
      "エキバストス第一発電所は、カザフスタンのエキバストスに位置する発電所。\n",
      "2018年12月8日、2019年3月末に日本ウエイトリフティング女子代表監督を退任することが決定。\n",
      "また、第2次吉田内閣の労働政務次官、第3次吉田内閣の労働大臣を歴任。\n",
      "2012年7月にはUMCとファウンドリ契約を結んだ。\n",
      "アサバスカ川およびマッケンジー川流域の北西会社に勤めていたウィラード・フェルディナンド・ウェンツェルは1819年から1820年にかけて、ジョン・フランクリン卿の北極探検に随行した。\n",
      "エドワード・ノーブルは、彼が1958年に死去するまで、新しいABCの取締役会に残っていた。\n",
      "1944年に休止したが、1952年に復刻版の発行を再開。\n"
     ]
    },
    {
     "name": "stderr",
     "output_type": "stream",
     "text": [
      " 92%|█████████▏| 988/1070 [00:07<00:00, 131.82it/s]"
     ]
    },
    {
     "name": "stdout",
     "output_type": "stream",
     "text": [
      "なおカラー版と並行して撮影されたモノクロ版は、映画公開後に破棄されたものと長らく思われていたが、木下惠介の死後の遺品の中からオリジナルの16mmモノクロ版が発見された。\n",
      "2019年1月、Jリーグ アジアチャレンジのバンコク・ユナイテッドFC戦で右膝半月板損傷で長期離脱した。\n",
      "豪雨災害前のダイヤでは、1日あたり会津若松駅-会津川口駅間は8-9本程度、会津川口駅-只見駅間は3往復、只見駅-小出駅間は5往復であった。\n",
      "東田によれば、常吉村営百貨店は「地域に暮らす人々にとって交流の場であり、見守りの拠点であり、ふるさとの思い出の場であり、みんなの誇りだった。\n",
      "山肌は不安定であり、消防署への負荷も避けるため、大文字をLED照明に置き換えた事例が存在する。\n",
      "これは創業者・三井孝昭の「モノをつくる基本は地球に対し水平・平行・垂直を出せること」という方針に従い、水平・垂直を出すことがいかに大変であるか、ひいてはモノづくりの苦労を体験させる目的がある。\n",
      "前橋自動車教習所は、群馬日野グループの株式会社ぐんま安全教育センターが運営する群馬県前橋市にある指定自動車教習所である。\n",
      "開業時南海鉄道より有蓋緩急車6両、有蓋貨車24両、手用制動機付無蓋貨車4両、無蓋貨車16両を購入。\n",
      "2006年11月1日に横浜市指定有形文化財に指定され、2013年度には横浜市都市整備局より「第6回横浜・人・まち・デザイン賞」を受賞している。\n",
      "秀吉が伊勢長島城に移った織田信雄を祝いに赴いた際にも同行している。\n",
      "ドリーム号は、国鉄バスが運行を開始し、現在はJRバスグループとその共同運行会社により夜間に運行される長距離高速バスの夜行便の名称であるが、本稿ではそのうち、ジェイアールバス関東とジェイアール四国バスの2社により運行される、東京と四国地方を結ぶ路線について記述する。\n",
      "このモデル名はAMCの2座スポーツカーAMXを思い起こさせる有名な車名の復活であった。\n",
      "1863年にポーランドで1月蜂起が起きると、彼は蜂起の指導者たちが樹立した国民政府の外交交渉役を務め、イングランド、イタリア諸国、スウェーデン、トルコの諸政府に蜂起への支援を要請したが、蜂起は翌1864年に鎮圧された。\n",
      "スペインサッカー連盟によって結成されたスペインの一地方の選抜チームであり、欧州サッカー連盟や国際サッカー連盟に加盟していないため、UEFA欧州選手権やFIFAワールドカップなどの国際大会への出場資格はない。\n",
      "1791年からバレエ作品の振付を手がけ始め、1801年にはウィーンで「プロメテウスの創造物」の振付を担当した。\n",
      "ユドヨノ政権下の2004年12月にスマトラ島沖地震が発生したことが和平の切っ掛けとなった。\n",
      "ポジションはフォワード。\n",
      "前方に赤外線センサーが搭載されており、スイッチを入れるとヘッドランプが点灯して走行するようになっている。\n",
      "8月の世界選手権では初戦でロシアのイリーナ・ドルゴワにGSに入ってから指導1で辛勝すると、2回戦ではメキシコのエンダ・カリージョ相手にも指導1で勝つが、準々決勝で鄭普涇に背負投の有効で敗れた。\n",
      "同級生に、膳場貴子や脳科学者の中野信子らがいる。\n",
      "師匠としては幕内・蒼国来に若隆景、十両・若元春と3人の関取を育てた。\n",
      "この頃、モーゼスの政治的洞察力をもってしてもおそらく勝つことができなかったいくつか物議をかもす政治的な戦いの道を進んだので、失敗し始めた。\n",
      "またCMソング、コミックスイメージアルバム、ゲームミュージック等にボーカルとして多数参加している他、コーラスとして他のアーティストのアルバム等にも参加している。\n",
      "このコーナーの中心に展示してある2.4mの大地球儀は、陸地のみでなく海底地形の複雑な構造もみることができるものである。\n",
      "このビルの区画はボウリング・グリーン歴史地区の隣に位置している。\n",
      "クトゥブは、バンナー亡き後の1950年代から60年代からのナーセル政権との対立の時代に活躍した理論家であり、ナーセルによって投獄されるという苛酷な環境のなかで思想を先鋭化させ、「イスラム社会の西洋化と世俗化を進めるナーセルのような指導者が統治し腐敗と圧制が蔓延する現世は、イスラム教成立以前のジャーヒリーヤと同じであり、武力を用いてでもジハードにより真のイスラム国家の建設を目指すべきだ」とするを唱え、これを「道標」に書き表した。\n",
      "専門は400mで、46秒26の自己ベストを持つ。\n"
     ]
    },
    {
     "name": "stderr",
     "output_type": "stream",
     "text": [
      " 95%|█████████▍| 1016/1070 [00:07<00:00, 130.12it/s]"
     ]
    },
    {
     "name": "stdout",
     "output_type": "stream",
     "text": [
      "1792年に、父親の事業のパートナーであったヤン・ラディスラフ・ドゥシークと結婚した。\n",
      "フロイド・ランディスの、ツール・ド・フランスにおけるドーピング騒動の余波を受けて、2006年シーズン限りでフォナックが解散したため、2007年に、現在も在籍する、AG2R・ラ・モンディアルに移籍。\n",
      "バタフライキーボードの正式な名称はTrackWriteだが、開発コードネームの「バタフライ」から、バタフライキーボードという名称が広がった。\n",
      "一方で新渡戸稲造は在米中の1932年8月20日、CBSラジオでスティムソンドクトリンに反論する形で「満州事変と不戦条約」について言明しており、「満州事変は自己防衛の手段としてなされたものであって侵略ではなく、満州国は一般に考えられているように日本の傀儡政権ではない」と表明している。\n",
      "それに従ってこの連盟も軟式野球連盟として始まり、準硬式野球連盟と改称したという経緯がある。\n",
      "中川智正が持ってきた本に載っていたイラクのサリンプラントと似ていたことで、滝沢は設計に自信を持った。\n",
      "上流部にはしのがやと公園、下流には水車公園や緑道には小川の流れる公園、桜並木が整備されている。\n",
      "2019年に入ってから、香港民主化デモの影響で観光客が激減し、従業員の半数を削減し営業時間を短縮するなどの経営改善策を実施するものの、2020年には新型コロナウイルスの大流行で改善の見通しが立たず、2020年3月3日より一時閉店を決定した。\n",
      "影響をうけたアーティストとアルバムは、シンディ・ローパーと彼女のアルバム「Twelve Deadly Cyns... and Then Some」。\n",
      "1990年12月、第2次海部改造内閣で科学技術庁長官に任命され、史上6人目の女性閣僚として初入閣。\n",
      "丸の内パークビルディング地下1階から4階、低層棟、三菱一号館、一号館広場からなる商業ゾーンは総称として丸の内ブリックスクエアと名付けられている。\n",
      "1996年、ロードレース界の名将、シリル・ギマールがチーム・マネジャーとなり結成。\n",
      "1895年の憲法制定会議のとき、別の者が提案した「一滴ルール」を州が採用することを支持した。\n",
      "1992年10月5日、講談社より発売された。\n",
      "2015年、出身地の埼玉県に新たに発足した武蔵ヒートベアーズから、分配ドラフトにおいて「地元枠移籍」で指名を受けて移籍した。\n",
      "国民の「夢」を政策に反映させようと4つの委員会から成り立つ。\n",
      "ポジションはディフェンダー。\n",
      "一方でソ連軍側の主力となった第57狙撃師団、第82狙撃師団はカテゴリーIIIに分類される二線級師団であり、基幹要員の充足率は25%未満だった。\n",
      "終戦が明らかになると、ノースクリフは政治への野心を顕わにし、パリ講和会議にイギリス代表として参加する希望を公言していた。\n",
      "2014年7月にディリで開催されたポルトガル語諸国共同体首脳会議に、日本は初めてオブサーバーとして招かれた。\n",
      "2005年8月、アジア系アメリカ人ジャーナリスト協会の全国報道賞、アジア・アメリカ問題ネット報道部門で優秀賞を受賞。\n",
      "標高700mに位置する。\n",
      "食事と身体活動、健康についての世界戦略は、2004年5月の世界保健総会により提唱された、非伝染性疾病対策についての世界戦略である。\n",
      "12月、M-1グランプリ2018は決勝までストレートで勝ち進むが、霜降り明星と1票差でまたしても準優勝。\n",
      "エアランゲンの経済は、基本的にはシーメンスAGとその関連会社、およびフリードリヒ=アレクサンダー大学によって形成されている。\n",
      "この事情を背景に、国鉄の関連企業として鉄道荷物会社が発足していくこととなった。\n",
      "この空港は、連邦航空局の2019年–2023年版に組み込まれており、基礎的ゼネラル・アビエーション用の施設に分類されている。\n"
     ]
    },
    {
     "name": "stderr",
     "output_type": "stream",
     "text": [
      " 98%|█████████▊| 1044/1070 [00:07<00:00, 130.17it/s]"
     ]
    },
    {
     "name": "stdout",
     "output_type": "stream",
     "text": [
      "直線に入っても上がり3ハロン34秒4のメンバー中3位の伸びを見せ、脚色が衰えずに後続に2馬身突き放して、3勝目を挙げた。\n",
      "1997年株式会社化し、社名を株式会社四季社と改める。\n",
      "負傷した李鴻章に代わって李経方参議が欽差全権大臣となった。\n",
      "ボールドウィン社はギブソン・ギター・コーポレーションによって買われた。\n",
      "番組ご意見番出川哲朗が出川ガールを連れて、不器用ながらリアクション芸人魂を燃やし体を張って挑戦していく企画。\n",
      "11月の講道館杯では決勝まで進むと、予てより目標にしてきた高校の4年先輩で元世界2位である了徳寺学園職員の緒方亜香里を指導2で破って初優勝を果たした。\n",
      "松友美佐紀は、日本のバドミントン選手。\n",
      "高校卒業年となる2018年には単独ライブを開催し、目標であったAnimelo Summer Liveに初出演する。\n",
      "1823年にチヌーク族の部族長の娘であるプリンセス・レーヴァンと結婚する。\n",
      "尖沙咀の突端にあり、ハーバービューの客室とロビーなどからビクトリア・ハーバーと香港島の景色を目の前に見ることができ「香港のホテル最高の眺望」と称される眺望の良さを誇る上、当時として最新の設備を誇ったため、オープン当時からザ・ペニンシュラ香港やマンダリン・オリエンタル香港、カオルーン・シャングリ・ラと並ぶ香港を代表する高級ホテルとして君臨することとなった。\n",
      "MAXのメンバー。\n",
      "2017年2月27日に北京国安へ移籍。\n",
      "大連市の星海広場にも華表が1本あり、天安門の前の物より大きいと土地っ子の自慢であったが、天安門のものより大きいことと、不祥事で失脚した薄煕来が大連市長時代に建設したことが原因で2016年8月に取り壊された。\n",
      "同宗派の真龍寺・宝林寺とともに「三軒寺」を称している。\n",
      "海上自衛隊のUS-2や航空自衛隊のC-1が利用されることもある。\n",
      "その時点ではビリー・バークがモンロー将軍役であった。\n",
      "2018年からクリシューマECで主力メンバーとして活動したが、2020年1月18日、日本のレノファ山口FCへの加入が発表された。\n",
      "堺市立浜寺中学校は、大阪府堺市西区にある公立中学校。\n",
      "特にハモンドオルガンと接続して用いられることが多いがハモンド社の製品ではない。\n",
      "トロポスフィアは、コンゴ民主共和国の企業Developpement Tous Azimuts社によって2007年から開発されているロケットシリーズである。\n",
      "2015年、防衛省は試験用に各種外国製小銃を調達し、同時に豊和工業との間でも試験用小銃の納入契約を行った。\n",
      "建物は取り壊され、A館跡地にはストライプインターナショナルが、B館跡地には両備グループと源吉兆庵HDがそれぞれビルを建設する。\n",
      "まついなつきの連載漫画を担当し、作品内にも担当編集者として登場していた。\n",
      "その後、人々は天狗に感謝して権現神社のお祭りには太鼓を叩いたり、天狗を祀った神輿をかついだりしてきた。\n",
      "同社は当初、「帝国キネマ演芸太秦撮影所」を改名して、唯一の撮影所として稼働していたが、1935年に「東京撮影所」を設置して現代劇を分離して以来、「京都撮影所」と名称を変更した。\n",
      "本曲を題材にした映画は1968年8月1日に公開。\n",
      "2002年、第15回ジュノン・スーパーボーイ・コンテストで審査員特別賞を受賞したのをきっかけに芸能界入りする。\n"
     ]
    },
    {
     "name": "stderr",
     "output_type": "stream",
     "text": [
      "100%|██████████| 1070/1070 [00:08<00:00, 131.21it/s]"
     ]
    },
    {
     "name": "stdout",
     "output_type": "stream",
     "text": [
      "あいちトリエンナーレが愛知県や名古屋市などからの税金、県や複数企業からの後援を受けたうえで開催されていたのに対し、こちらは全て個人個人からの資金により開催され、県や企業からの後援を一切受けていない。\n",
      "2013年2月27日から発売。\n",
      "当日は、マリオやJ.L.ボニエ、宮本茂、マーク・ウッドベリーも登壇した。\n",
      "富士見書房の「マギウス」のサプリメントとしてテーブルトークRPG化もされている。\n",
      "2012年、ロンドンオリンピックの代表12名に選ばれ、本大会に出場した。\n",
      "会津バスと共通の、白い車体に赤と青のラインを描いたボディが特徴で、そのほとんどがコンフォートだが、黒塗りのセドリックも存在する。\n",
      "2019年、宗像サニックスブルースに加入。\n",
      "リバティー制度が守られず外泊許可を出していた件に関し、事件後の4月24日、米軍キャンプ瑞慶覧で、事件に抗議した北谷町の町議員団が米海兵隊政務外交部長のダリン・クラーク大佐と面談した際に、「99.9%の兵士が制度を順守している」「逆に、なぜリバティー制度が不安を与えているのか聞きたい」と逆ぎれともとれる発言があった。\n",
      "その他プエブロを訪れた国の指導者としては、ジョン・F・ケネディ大統領、ビル・クリントン大統領、ジョン・ケリー上院議員およびアル・ゴア副大統領がいた。\n",
      "1954年のリーグ初優勝から西鉄ライオンズの黄金時代が始まり、豊田泰光、中西太、大下弘、稲尾和久らを擁したチームは1956~1958年に読売ジャイアンツを下し日本シリーズ3連覇を果たしたが、特に1958年は3連敗の後の雨天中止が引き金となり、奇跡とも言われた4連勝を果たした。\n",
      "しかし彼は1878年に小惑星を1つ発見している。\n",
      "1988年にオーストラリア航空がイーストウェスト航空から株式の25%を買収し1991年に完全な子会社になったが、その後オーストラリア航空がカンタス航空に買収されたことにより1992年にカンタス航空グループの一員となった。\n",
      "寛永13年には細川忠利によって水前寺が建立され、これは木山方向への街道に沿った茶屋として発達し、細川綱利時代には桃山文化風の回遊式庭園・成趣園が完成した。\n",
      "中部日本教映株式会社は、愛知県一宮市にある教育映画などの製作・配給を行う会社である。\n",
      "2019年現在、ジェイテクトが筆頭株主で、主要株主に日野自動車も名を連ねている。\n",
      "1923年チリのサンティアゴで開催された第5回国際南北アメリカ会議にアメリカ代表として参加。\n",
      "ロシア最高検察庁は、アエロフロート資金の横領疑惑などでベレゾフスキーへの追及を強め、逮捕を恐れたベレゾフスキーは国外に脱出した。\n",
      "ナレーションはニッポン放送アナウンサーの上柳昌彦。\n",
      "佐々木規夫と大道寺あや子は日本赤軍によるクアラルンプール事件とダッカ日航機ハイジャック事件によって超法規的措置で釈放・逃亡するも、リーダー格の男2人の裁判は続行となった。\n",
      "トッキーとは、Jリーグ・栃木SCのマスコットキャラクター。\n",
      "南部に小高い丘があり、頂上部にゴア・ジュパン「日本の洞窟」と呼ばれる旧日本軍の砲台跡がある。\n"
     ]
    },
    {
     "name": "stderr",
     "output_type": "stream",
     "text": [
      "\n"
     ]
    }
   ],
   "source": [
    "# 8-17\n",
    "def predict(text, tokenizer, bert_tc):\n",
    "    \"\"\"\n",
    "    BERTで固有表現抽出を行うための関数。\n",
    "    \"\"\"\n",
    "    # 符号化\n",
    "    encoding, spans = tokenizer.encode_plus_untagged(\n",
    "        text, return_tensors='pt'\n",
    "    )\n",
    "    encoding = { k: v.cuda() for k, v in encoding.items() }\n",
    "\n",
    "    # ラベルの予測値の計算\n",
    "    with torch.no_grad():\n",
    "        output = bert_tc(**encoding)\n",
    "        scores = output.logits\n",
    "        labels_predicted = scores[0].argmax(-1).cpu().numpy().tolist() \n",
    "\n",
    "    # ラベル列を固有表現に変換\n",
    "    entities = tokenizer.convert_bert_output_to_entities(\n",
    "        text, labels_predicted, spans\n",
    "    )\n",
    "\n",
    "    return entities\n",
    "\n",
    "# トークナイザのロード\n",
    "tokenizer = NER_tokenizer.from_pretrained(MODEL_NAME)\n",
    "\n",
    "# ファインチューニングしたモデルをロードし、GPUにのせる。\n",
    "model = BertForTokenClassification_pl.load_from_checkpoint(\n",
    "    best_model_path\n",
    ")\n",
    "bert_tc = model.bert_tc.cuda()\n",
    "\n",
    "# 固有表現抽出\n",
    "# 注：以下ではコードのわかりやすさのために、1データづつ処理しているが、\n",
    "# バッチ化して処理を行った方が処理時間は短い\n",
    "entities_list = [] # 正解の固有表現を追加していく。\n",
    "entities_predicted_list = [] # 抽出された固有表現を追加していく。\n",
    "for sample in tqdm(dataset_test):\n",
    "    text = sample['text']\n",
    "    print(text)\n",
    "    entities_predicted = predict(text, tokenizer, bert_tc) # BERTで予測\n",
    "    entities_list.append(sample['entities'])\n",
    "    entities_predicted_list.append( entities_predicted )"
   ]
  },
  {
   "cell_type": "code",
   "execution_count": 18,
   "metadata": {
    "id": "R-Fu6xJZ29HJ"
   },
   "outputs": [
    {
     "name": "stdout",
     "output_type": "stream",
     "text": [
      "# 正解\n",
      "[{'name': 'IAU100 Name ExoWorldsプロジェクト', 'span': [41, 68], 'type_id': 7}, {'name': 'オーストリア共和国', 'span': [93, 102], 'type_id': 5}]\n",
      "# 抽出\n",
      "[{'name': 'IAU100 Na', 'span': [41, 50], 'type_id': 8}, {'name': 'me ExoWorldsプロジェクト', 'span': [50, 68], 'type_id': 7}, {'name': 'HAT-P-14', 'span': [74, 82], 'type_id': 7}, {'name': 'HAT-P-14', 'span': [83, 91], 'type_id': 7}, {'name': 'オーストリア共和国', 'span': [93, 102], 'type_id': 5}]\n"
     ]
    }
   ],
   "source": [
    "# 8-18\n",
    "print(\"# 正解\")\n",
    "print(entities_list[0])\n",
    "print(\"# 抽出\")\n",
    "print(entities_predicted_list[0])"
   ]
  },
  {
   "cell_type": "code",
   "execution_count": 19,
   "metadata": {
    "id": "JeZzmNigiDsD"
   },
   "outputs": [],
   "source": [
    "# 8-19\n",
    "def evaluate_model(entities_list, entities_predicted_list, type_id=None):\n",
    "    \"\"\"\n",
    "    正解と予測を比較し、モデルの固有表現抽出の性能を評価する。\n",
    "    type_idがNoneのときは、全ての固有表現のタイプに対して評価する。\n",
    "    type_idが整数を指定すると、その固有表現のタイプのIDに対して評価を行う。\n",
    "    \"\"\"\n",
    "    num_entities = 0 # 固有表現(正解)の個数\n",
    "    num_predictions = 0 # BERTにより予測された固有表現の個数\n",
    "    num_correct = 0 # BERTにより予測のうち正解であった固有表現の数\n",
    "\n",
    "    # それぞれの文章で予測と正解を比較。\n",
    "    # 予測は文章中の位置とタイプIDが一致すれば正解とみなす。\n",
    "    for entities, entities_predicted \\\n",
    "        in zip(entities_list, entities_predicted_list):\n",
    "\n",
    "        if type_id:\n",
    "            entities = [ e for e in entities if e['type_id'] == type_id ]\n",
    "            entities_predicted = [ \n",
    "                e for e in entities_predicted if e['type_id'] == type_id\n",
    "            ]\n",
    "            \n",
    "        get_span_type = lambda e: (e['span'][0], e['span'][1], e['type_id'])\n",
    "        set_entities = set( get_span_type(e) for e in entities )\n",
    "        set_entities_predicted = \\\n",
    "            set( get_span_type(e) for e in entities_predicted )\n",
    "\n",
    "        num_entities += len(entities)\n",
    "        num_predictions += len(entities_predicted)\n",
    "        num_correct += len( set_entities & set_entities_predicted )\n",
    "\n",
    "    # 指標を計算\n",
    "    precision = num_correct/num_predictions # 適合率\n",
    "    recall = num_correct/num_entities # 再現率\n",
    "    f_value = 2*precision*recall/(precision+recall) # F値\n",
    "\n",
    "    result = {\n",
    "        'num_entities': num_entities,\n",
    "        'num_predictions': num_predictions,\n",
    "        'num_correct': num_correct,\n",
    "        'precision': precision,\n",
    "        'recall': recall,\n",
    "        'f_value': f_value\n",
    "    }\n",
    "\n",
    "    return result"
   ]
  },
  {
   "cell_type": "code",
   "execution_count": 20,
   "metadata": {
    "id": "GVbxf1FRlYBU"
   },
   "outputs": [
    {
     "name": "stdout",
     "output_type": "stream",
     "text": [
      "{'num_entities': 2607, 'num_predictions': 2763, 'num_correct': 2309, 'precision': 0.8356858487151647, 'recall': 0.8856923667050249, 'f_value': 0.8599627560521416}\n"
     ]
    }
   ],
   "source": [
    "# 8-20\n",
    "print( evaluate_model(entities_list, entities_predicted_list) )"
   ]
  },
  {
   "cell_type": "code",
   "execution_count": 21,
   "metadata": {
    "id": "tD9sFRUu4Z4c"
   },
   "outputs": [],
   "source": [
    "# 8-21\n",
    "class NER_tokenizer_BIO(BertJapaneseTokenizer):\n",
    "\n",
    "    # 初期化時に固有表現のカテゴリーの数`num_entity_type`を\n",
    "    # 受け入れるようにする。\n",
    "    def __init__(self, *args, **kwargs):\n",
    "        self.num_entity_type = kwargs.pop('num_entity_type')\n",
    "        super().__init__(*args, **kwargs)\n",
    "\n",
    "    def encode_plus_tagged(self, text, entities, max_length):\n",
    "        \"\"\"\n",
    "        文章とそれに含まれる固有表現が与えられた時に、\n",
    "        符号化とラベル列の作成を行う。\n",
    "        \"\"\"\n",
    "        # 固有表現の前後でtextを分割し、それぞれのラベルをつけておく。\n",
    "        splitted = [] # 分割後の文字列を追加していく\n",
    "        position = 0\n",
    "        for entity in entities:\n",
    "            start = entity['span'][0]\n",
    "            end = entity['span'][1]\n",
    "            label = entity['type_id']\n",
    "            splitted.append({'text':text[position:start], 'label':0})\n",
    "            splitted.append({'text':text[start:end], 'label':label})\n",
    "            position = end\n",
    "        splitted.append({'text': text[position:], 'label':0})\n",
    "        splitted = [ s for s in splitted if s['text'] ]\n",
    "\n",
    "        # 分割されたそれぞれの文章をトークン化し、ラベルをつける。\n",
    "        tokens = [] # トークンを追加していく\n",
    "        labels = [] # ラベルを追加していく\n",
    "        for s in splitted:\n",
    "            tokens_splitted = self.tokenize(s['text'])\n",
    "            label = s['label']\n",
    "            if label > 0: # 固有表現\n",
    "                # まずトークン全てにI-タグを付与\n",
    "                labels_splitted =  \\\n",
    "                    [ label + self.num_entity_type ] * len(tokens_splitted)\n",
    "                # 先頭のトークンをB-タグにする\n",
    "                labels_splitted[0] = label\n",
    "            else: # それ以外\n",
    "                labels_splitted =  [0] * len(tokens_splitted)\n",
    "            \n",
    "            tokens.extend(tokens_splitted)\n",
    "            labels.extend(labels_splitted)\n",
    "\n",
    "        # 符号化を行いBERTに入力できる形式にする。\n",
    "        input_ids = self.convert_tokens_to_ids(tokens)\n",
    "        encoding = self.prepare_for_model(\n",
    "            input_ids, \n",
    "            max_length=max_length, \n",
    "            padding='max_length',\n",
    "            truncation=True\n",
    "        ) \n",
    "\n",
    "        # ラベルに特殊トークンを追加\n",
    "        labels = [0] + labels[:max_length-2] + [0]\n",
    "        labels = labels + [0]*( max_length - len(labels) )\n",
    "        encoding['labels'] = labels\n",
    "\n",
    "        return encoding\n",
    "\n",
    "    def encode_plus_untagged(\n",
    "        self, text, max_length=None, return_tensors=None\n",
    "    ):\n",
    "        \"\"\"\n",
    "        文章をトークン化し、それぞれのトークンの文章中の位置も特定しておく。\n",
    "        IO法のトークナイザのencode_plus_untaggedと同じ\n",
    "        \"\"\"\n",
    "        # 文章のトークン化を行い、\n",
    "        # それぞれのトークンと文章中の文字列を対応づける。\n",
    "        tokens = [] # トークンを追加していく。\n",
    "        tokens_original = [] # トークンに対応する文章中の文字列を追加していく。\n",
    "        words = self.word_tokenizer.tokenize(text) # MeCabで単語に分割\n",
    "        for word in words:\n",
    "            # 単語をサブワードに分割\n",
    "            tokens_word = self.subword_tokenizer.tokenize(word) \n",
    "            tokens.extend(tokens_word)\n",
    "            if tokens_word[0] == '[UNK]': # 未知語への対応\n",
    "                tokens_original.append(word)\n",
    "            else:\n",
    "                tokens_original.extend([\n",
    "                    token.replace('##','') for token in tokens_word\n",
    "                ])\n",
    "\n",
    "        # 各トークンの文章中での位置を調べる。（空白の位置を考慮する）\n",
    "        position = 0\n",
    "        spans = [] # トークンの位置を追加していく。\n",
    "        for token in tokens_original:\n",
    "            l = len(token)\n",
    "            while 1:\n",
    "                if token != text[position:position+l]:\n",
    "                    position += 1\n",
    "                else:\n",
    "                    spans.append([position, position+l])\n",
    "                    position += l\n",
    "                    break\n",
    "\n",
    "        # 符号化を行いBERTに入力できる形式にする。\n",
    "        input_ids = self.convert_tokens_to_ids(tokens) \n",
    "        encoding = self.prepare_for_model(\n",
    "            input_ids, \n",
    "            max_length=max_length, \n",
    "            padding='max_length' if max_length else False, \n",
    "            truncation=True if max_length else False\n",
    "        )\n",
    "        sequence_length = len(encoding['input_ids'])\n",
    "        # 特殊トークン[CLS]に対するダミーのspanを追加。\n",
    "        spans = [[-1, -1]] + spans[:sequence_length-2] \n",
    "        # 特殊トークン[SEP]、[PAD]に対するダミーのspanを追加。\n",
    "        spans = spans + [[-1, -1]] * ( sequence_length - len(spans) ) \n",
    "\n",
    "        # 必要に応じてtorch.Tensorにする。\n",
    "        if return_tensors == 'pt':\n",
    "            encoding = { k: torch.tensor([v]) for k, v in encoding.items() }\n",
    "\n",
    "        return encoding, spans\n",
    "\n",
    "    @staticmethod\n",
    "    def Viterbi(scores_bert, num_entity_type, penalty=10000):\n",
    "        \"\"\"\n",
    "        Viterbiアルゴリズムで最適解を求める。\n",
    "        \"\"\"\n",
    "        m = 2*num_entity_type + 1\n",
    "        penalty_matrix = np.zeros([m, m])\n",
    "        for i in range(m):\n",
    "            for j in range(1+num_entity_type, m):\n",
    "                if not ( (i == j) or (i+num_entity_type == j) ): \n",
    "                    penalty_matrix[i,j] = penalty\n",
    "        \n",
    "        path = [ [i] for i in range(m) ]\n",
    "        scores_path = scores_bert[0] - penalty_matrix[0,:]\n",
    "        scores_bert = scores_bert[1:]\n",
    "\n",
    "        for scores in scores_bert:\n",
    "            assert len(scores) == 2*num_entity_type + 1\n",
    "            score_matrix = np.array(scores_path).reshape(-1,1) \\\n",
    "                + np.array(scores).reshape(1,-1) \\\n",
    "                - penalty_matrix\n",
    "            scores_path = score_matrix.max(axis=0)\n",
    "            argmax = score_matrix.argmax(axis=0)\n",
    "            path_new = []\n",
    "            for i, idx in enumerate(argmax):\n",
    "                path_new.append( path[idx] + [i] )\n",
    "            path = path_new\n",
    "\n",
    "        labels_optimal = path[np.argmax(scores_path)]\n",
    "        return labels_optimal\n",
    "\n",
    "    def convert_bert_output_to_entities(self, text, scores, spans):\n",
    "        \"\"\"\n",
    "        文章、分類スコア、各トークンの位置から固有表現を得る。\n",
    "        分類スコアはサイズが（系列長、ラベル数）の2次元配列\n",
    "        \"\"\"\n",
    "        assert len(spans) == len(scores)\n",
    "        num_entity_type = self.num_entity_type\n",
    "        \n",
    "        # 特殊トークンに対応する部分を取り除く\n",
    "        scores = [score for score, span in zip(scores, spans) if span[0]!=-1]\n",
    "        spans = [span for span in spans if span[0]!=-1]\n",
    "\n",
    "        # Viterbiアルゴリズムでラベルの予測値を決める。\n",
    "        labels = self.Viterbi(scores, num_entity_type)\n",
    "\n",
    "        # 同じラベルが連続するトークンをまとめて、固有表現を抽出する。\n",
    "        entities = []\n",
    "        for label, group \\\n",
    "            in itertools.groupby(enumerate(labels), key=lambda x: x[1]):\n",
    "            \n",
    "            group = list(group)\n",
    "            start = spans[group[0][0]][0]\n",
    "            end = spans[group[-1][0]][1]\n",
    "\n",
    "            if label != 0: # 固有表現であれば\n",
    "                if 1 <= label <= num_entity_type:\n",
    "                     # ラベルが`B-`ならば、新しいentityを追加\n",
    "                    entity = {\n",
    "                        \"name\": text[start:end],\n",
    "                        \"span\": [start, end],\n",
    "                        \"type_id\": label\n",
    "                    }\n",
    "                    entities.append(entity)\n",
    "                else:\n",
    "                    # ラベルが`I-`ならば、直近のentityを更新\n",
    "                    entity['span'][1] = end \n",
    "                    entity['name'] = text[entity['span'][0]:entity['span'][1]]\n",
    "                \n",
    "        return entities"
   ]
  },
  {
   "cell_type": "code",
   "execution_count": 22,
   "metadata": {
    "id": "GvyVJCgH4Z6M"
   },
   "outputs": [
    {
     "name": "stderr",
     "output_type": "stream",
     "text": [
      "The tokenizer class you load from this checkpoint is not the same type as the class this function is called from. It may result in unexpected tokenization. \n",
      "The tokenizer class you load from this checkpoint is 'BertJapaneseTokenizer'. \n",
      "The class this function is called from is 'NER_tokenizer_BIO'.\n"
     ]
    }
   ],
   "source": [
    "# 8-22\n",
    "# トークナイザのロード\n",
    "# 固有表現のカテゴリーの数`num_entity_type`を入力に入れる必要がある。\n",
    "tokenizer = NER_tokenizer_BIO.from_pretrained(\n",
    "    MODEL_NAME,\n",
    "    num_entity_type=8 \n",
    ")\n",
    "\n",
    "# データセットの作成\n",
    "max_length = 128\n",
    "dataset_train_for_loader = create_dataset(\n",
    "    tokenizer, dataset_train, max_length\n",
    ")\n",
    "dataset_val_for_loader = create_dataset(\n",
    "    tokenizer, dataset_val, max_length\n",
    ")\n",
    "\n",
    "# データローダの作成\n",
    "dataloader_train = DataLoader(\n",
    "    dataset_train_for_loader, batch_size=32, shuffle=True\n",
    ")\n",
    "dataloader_val = DataLoader(dataset_val_for_loader, batch_size=256)"
   ]
  },
  {
   "cell_type": "code",
   "execution_count": 23,
   "metadata": {
    "id": "Ykfw0rCA4Z9N"
   },
   "outputs": [
    {
     "name": "stderr",
     "output_type": "stream",
     "text": [
      "GPU available: True, used: True\n",
      "TPU available: False, using: 0 TPU cores\n",
      "IPU available: False, using: 0 IPUs\n",
      "HPU available: False, using: 0 HPUs\n",
      "Some weights of the model checkpoint at cl-tohoku/bert-base-japanese-whole-word-masking were not used when initializing BertForTokenClassification: ['cls.predictions.transform.LayerNorm.bias', 'cls.predictions.transform.dense.weight', 'cls.predictions.transform.dense.bias', 'cls.predictions.bias', 'cls.seq_relationship.weight', 'cls.seq_relationship.bias', 'cls.predictions.transform.LayerNorm.weight', 'cls.predictions.decoder.weight']\n",
      "- This IS expected if you are initializing BertForTokenClassification from the checkpoint of a model trained on another task or with another architecture (e.g. initializing a BertForSequenceClassification model from a BertForPreTraining model).\n",
      "- This IS NOT expected if you are initializing BertForTokenClassification from the checkpoint of a model that you expect to be exactly identical (initializing a BertForSequenceClassification model from a BertForSequenceClassification model).\n",
      "Some weights of BertForTokenClassification were not initialized from the model checkpoint at cl-tohoku/bert-base-japanese-whole-word-masking and are newly initialized: ['classifier.weight', 'classifier.bias']\n",
      "You should probably TRAIN this model on a down-stream task to be able to use it for predictions and inference.\n",
      "/usr/local/lib/python3.8/dist-packages/pytorch_lightning/callbacks/model_checkpoint.py:608: UserWarning: Checkpoint directory /home/root/work/chap8/model_BIO exists and is not empty.\n",
      "  rank_zero_warn(f\"Checkpoint directory {dirpath} exists and is not empty.\")\n",
      "LOCAL_RANK: 0 - CUDA_VISIBLE_DEVICES: [0]\n",
      "\n",
      "  | Name    | Type                       | Params\n",
      "-------------------------------------------------------\n",
      "0 | bert_tc | BertForTokenClassification | 110 M \n",
      "-------------------------------------------------------\n",
      "110 M     Trainable params\n",
      "0         Non-trainable params\n",
      "110 M     Total params\n",
      "440.159   Total estimated model params size (MB)\n"
     ]
    },
    {
     "data": {
      "application/vnd.jupyter.widget-view+json": {
       "model_id": "",
       "version_major": 2,
       "version_minor": 0
      },
      "text/plain": [
       "Sanity Checking: 0it [00:00, ?it/s]"
      ]
     },
     "metadata": {},
     "output_type": "display_data"
    },
    {
     "data": {
      "application/vnd.jupyter.widget-view+json": {
       "model_id": "adc053d07f9f488d8e5a9fce65c48be6",
       "version_major": 2,
       "version_minor": 0
      },
      "text/plain": [
       "Training: 0it [00:00, ?it/s]"
      ]
     },
     "metadata": {},
     "output_type": "display_data"
    },
    {
     "data": {
      "application/vnd.jupyter.widget-view+json": {
       "model_id": "",
       "version_major": 2,
       "version_minor": 0
      },
      "text/plain": [
       "Validation: 0it [00:00, ?it/s]"
      ]
     },
     "metadata": {},
     "output_type": "display_data"
    },
    {
     "data": {
      "application/vnd.jupyter.widget-view+json": {
       "model_id": "",
       "version_major": 2,
       "version_minor": 0
      },
      "text/plain": [
       "Validation: 0it [00:00, ?it/s]"
      ]
     },
     "metadata": {},
     "output_type": "display_data"
    },
    {
     "data": {
      "application/vnd.jupyter.widget-view+json": {
       "model_id": "",
       "version_major": 2,
       "version_minor": 0
      },
      "text/plain": [
       "Validation: 0it [00:00, ?it/s]"
      ]
     },
     "metadata": {},
     "output_type": "display_data"
    },
    {
     "data": {
      "application/vnd.jupyter.widget-view+json": {
       "model_id": "",
       "version_major": 2,
       "version_minor": 0
      },
      "text/plain": [
       "Validation: 0it [00:00, ?it/s]"
      ]
     },
     "metadata": {},
     "output_type": "display_data"
    },
    {
     "data": {
      "application/vnd.jupyter.widget-view+json": {
       "model_id": "",
       "version_major": 2,
       "version_minor": 0
      },
      "text/plain": [
       "Validation: 0it [00:00, ?it/s]"
      ]
     },
     "metadata": {},
     "output_type": "display_data"
    },
    {
     "name": "stderr",
     "output_type": "stream",
     "text": [
      "Some weights of the model checkpoint at cl-tohoku/bert-base-japanese-whole-word-masking were not used when initializing BertForTokenClassification: ['cls.predictions.transform.LayerNorm.bias', 'cls.predictions.transform.dense.weight', 'cls.predictions.transform.dense.bias', 'cls.predictions.bias', 'cls.seq_relationship.weight', 'cls.seq_relationship.bias', 'cls.predictions.transform.LayerNorm.weight', 'cls.predictions.decoder.weight']\n",
      "- This IS expected if you are initializing BertForTokenClassification from the checkpoint of a model trained on another task or with another architecture (e.g. initializing a BertForSequenceClassification model from a BertForPreTraining model).\n",
      "- This IS NOT expected if you are initializing BertForTokenClassification from the checkpoint of a model that you expect to be exactly identical (initializing a BertForSequenceClassification model from a BertForSequenceClassification model).\n",
      "Some weights of BertForTokenClassification were not initialized from the model checkpoint at cl-tohoku/bert-base-japanese-whole-word-masking and are newly initialized: ['classifier.weight', 'classifier.bias']\n",
      "You should probably TRAIN this model on a down-stream task to be able to use it for predictions and inference.\n",
      "100%|██████████| 1070/1070 [00:09<00:00, 112.83it/s]"
     ]
    },
    {
     "name": "stdout",
     "output_type": "stream",
     "text": [
      "{'num_entities': 2607, 'num_predictions': 2686, 'num_correct': 2301, 'precision': 0.8566641846612063, 'recall': 0.8826237054085155, 'f_value': 0.8694502172680899}\n"
     ]
    },
    {
     "name": "stderr",
     "output_type": "stream",
     "text": [
      "\n"
     ]
    }
   ],
   "source": [
    "# 8-23\n",
    "\n",
    "# ファインチューニング\n",
    "checkpoint = pl.callbacks.ModelCheckpoint(\n",
    "    monitor='val_loss',\n",
    "    mode='min',\n",
    "    save_top_k=1,\n",
    "    save_weights_only=True,\n",
    "    dirpath='model_BIO/'\n",
    ")\n",
    "\n",
    "trainer = pl.Trainer(\n",
    "    gpus=1,\n",
    "    max_epochs=5,\n",
    "    callbacks=[checkpoint]\n",
    ")\n",
    "\n",
    "# PyTorch Lightningのモデルのロード\n",
    "num_entity_type = 8\n",
    "num_labels = 2*num_entity_type+1\n",
    "model = BertForTokenClassification_pl(\n",
    "    MODEL_NAME, num_labels=num_labels, lr=1e-5\n",
    ")\n",
    "\n",
    "# ファインチューニング\n",
    "trainer.fit(model, dataloader_train, dataloader_val)\n",
    "best_model_path = checkpoint.best_model_path\n",
    "\n",
    "# 性能評価\n",
    "model = BertForTokenClassification_pl.load_from_checkpoint(\n",
    "    best_model_path\n",
    ") \n",
    "bert_tc = model.bert_tc.cuda()\n",
    "\n",
    "entities_list = [] # 正解の固有表現を追加していく\n",
    "entities_predicted_list = [] # 抽出された固有表現を追加していく\n",
    "for sample in tqdm(dataset_test):\n",
    "    text = sample['text']\n",
    "    encoding, spans = tokenizer.encode_plus_untagged(\n",
    "        text, return_tensors='pt'\n",
    "    )\n",
    "    encoding = { k: v.cuda() for k, v in encoding.items() } \n",
    "    \n",
    "    with torch.no_grad():\n",
    "        output = bert_tc(**encoding)\n",
    "        scores = output.logits\n",
    "        scores = scores[0].cpu().numpy().tolist()\n",
    "        \n",
    "    # 分類スコアを固有表現に変換する\n",
    "    entities_predicted = tokenizer.convert_bert_output_to_entities(\n",
    "        text, scores, spans\n",
    "    )\n",
    "\n",
    "    entities_list.append(sample['entities'])\n",
    "    entities_predicted_list.append( entities_predicted )\n",
    "\n",
    "print(evaluate_model(entities_list, entities_predicted_list))"
   ]
  }
 ],
 "metadata": {
  "accelerator": "GPU",
  "colab": {
   "collapsed_sections": [],
   "name": "Chapter8.ipynb",
   "provenance": [
    {
     "file_id": "https://github.com/stockmarkteam/bert-book/blob/master/Chapter8.ipynb",
     "timestamp": 1630575336666
    }
   ]
  },
  "kernelspec": {
   "display_name": "Python 3 (ipykernel)",
   "language": "python",
   "name": "python3"
  },
  "language_info": {
   "codemirror_mode": {
    "name": "ipython",
    "version": 3
   },
   "file_extension": ".py",
   "mimetype": "text/x-python",
   "name": "python",
   "nbconvert_exporter": "python",
   "pygments_lexer": "ipython3",
   "version": "3.8.10"
  }
 },
 "nbformat": 4,
 "nbformat_minor": 1
}
