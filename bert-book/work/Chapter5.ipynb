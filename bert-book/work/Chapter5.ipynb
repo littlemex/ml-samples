{
 "cells": [
  {
   "cell_type": "markdown",
   "metadata": {
    "id": "QB3WEyIVstl0"
   },
   "source": [
    "# 5章\n",
    "- 以下で実行するコードには確率的な処理が含まれていることがあり、コードの出力結果と本書に記載されている出力例が異なることがあります。"
   ]
  },
  {
   "cell_type": "code",
   "execution_count": 1,
   "metadata": {
    "id": "kvqSUAEtU_VJ"
   },
   "outputs": [
    {
     "name": "stdout",
     "output_type": "stream",
     "text": [
      "Requirement already satisfied: transformers==4.18.0 in /usr/local/lib/python3.8/dist-packages (4.18.0)\n",
      "Requirement already satisfied: fugashi==1.1.0 in /usr/local/lib/python3.8/dist-packages (1.1.0)\n",
      "Requirement already satisfied: ipadic==1.0.0 in /usr/local/lib/python3.8/dist-packages (1.0.0)\n",
      "Requirement already satisfied: pyyaml>=5.1 in /usr/local/lib/python3.8/dist-packages (from transformers==4.18.0) (5.4.1)\n",
      "Requirement already satisfied: tqdm>=4.27 in /usr/local/lib/python3.8/dist-packages (from transformers==4.18.0) (4.64.0)\n",
      "Requirement already satisfied: packaging>=20.0 in /usr/local/lib/python3.8/dist-packages (from transformers==4.18.0) (21.3)\n",
      "Requirement already satisfied: sacremoses in /usr/local/lib/python3.8/dist-packages (from transformers==4.18.0) (0.0.49)\n",
      "Requirement already satisfied: regex!=2019.12.17 in /usr/local/lib/python3.8/dist-packages (from transformers==4.18.0) (2022.3.15)\n",
      "Requirement already satisfied: huggingface-hub<1.0,>=0.1.0 in /usr/local/lib/python3.8/dist-packages (from transformers==4.18.0) (0.5.1)\n",
      "Requirement already satisfied: tokenizers!=0.11.3,<0.13,>=0.11.1 in /usr/local/lib/python3.8/dist-packages (from transformers==4.18.0) (0.12.1)\n",
      "Requirement already satisfied: numpy>=1.17 in /usr/local/lib/python3.8/dist-packages (from transformers==4.18.0) (1.21.5)\n",
      "Requirement already satisfied: requests in /usr/local/lib/python3.8/dist-packages (from transformers==4.18.0) (2.27.1)\n",
      "Requirement already satisfied: filelock in /usr/local/lib/python3.8/dist-packages (from transformers==4.18.0) (3.6.0)\n",
      "Requirement already satisfied: typing-extensions>=3.7.4.3 in /usr/local/lib/python3.8/dist-packages (from huggingface-hub<1.0,>=0.1.0->transformers==4.18.0) (4.1.1)\n",
      "Requirement already satisfied: pyparsing!=3.0.5,>=2.0.2 in /usr/local/lib/python3.8/dist-packages (from packaging>=20.0->transformers==4.18.0) (3.0.7)\n",
      "Requirement already satisfied: certifi>=2017.4.17 in /usr/local/lib/python3.8/dist-packages (from requests->transformers==4.18.0) (2021.10.8)\n",
      "Requirement already satisfied: charset-normalizer~=2.0.0 in /usr/local/lib/python3.8/dist-packages (from requests->transformers==4.18.0) (2.0.12)\n",
      "Requirement already satisfied: urllib3<1.27,>=1.21.1 in /usr/local/lib/python3.8/dist-packages (from requests->transformers==4.18.0) (1.26.9)\n",
      "Requirement already satisfied: idna<4,>=2.5 in /usr/local/lib/python3.8/dist-packages (from requests->transformers==4.18.0) (3.3)\n",
      "Requirement already satisfied: joblib in /usr/local/lib/python3.8/dist-packages (from sacremoses->transformers==4.18.0) (1.1.0)\n",
      "Requirement already satisfied: six in /usr/local/lib/python3.8/dist-packages (from sacremoses->transformers==4.18.0) (1.16.0)\n",
      "Requirement already satisfied: click in /usr/local/lib/python3.8/dist-packages (from sacremoses->transformers==4.18.0) (8.1.2)\n",
      "\u001b[33mWARNING: Running pip as the 'root' user can result in broken permissions and conflicting behaviour with the system package manager. It is recommended to use a virtual environment instead: https://pip.pypa.io/warnings/venv\u001b[0m\u001b[33m\n",
      "\u001b[0m"
     ]
    }
   ],
   "source": [
    "# 5-1\n",
    "!pip install transformers==4.18.0 fugashi==1.1.0 ipadic==1.0.0"
   ]
  },
  {
   "cell_type": "code",
   "execution_count": 2,
   "metadata": {
    "id": "DWT32lOgHLrU"
   },
   "outputs": [],
   "source": [
    "# 5-2\n",
    "import numpy as np\n",
    "import torch\n",
    "from transformers import BertJapaneseTokenizer, BertForMaskedLM"
   ]
  },
  {
   "cell_type": "code",
   "execution_count": 3,
   "metadata": {
    "id": "I7X-Iy52AC1v"
   },
   "outputs": [
    {
     "name": "stderr",
     "output_type": "stream",
     "text": [
      "Some weights of the model checkpoint at cl-tohoku/bert-base-japanese-whole-word-masking were not used when initializing BertForMaskedLM: ['cls.seq_relationship.weight', 'cls.seq_relationship.bias']\n",
      "- This IS expected if you are initializing BertForMaskedLM from the checkpoint of a model trained on another task or with another architecture (e.g. initializing a BertForSequenceClassification model from a BertForPreTraining model).\n",
      "- This IS NOT expected if you are initializing BertForMaskedLM from the checkpoint of a model that you expect to be exactly identical (initializing a BertForSequenceClassification model from a BertForSequenceClassification model).\n"
     ]
    }
   ],
   "source": [
    "# 5-3\n",
    "model_name = 'cl-tohoku/bert-base-japanese-whole-word-masking'\n",
    "tokenizer = BertJapaneseTokenizer.from_pretrained(model_name)\n",
    "bert_mlm = BertForMaskedLM.from_pretrained(model_name)\n",
    "bert_mlm = bert_mlm.cuda()"
   ]
  },
  {
   "cell_type": "code",
   "execution_count": 4,
   "metadata": {
    "id": "EfKt-j0WLOfx"
   },
   "outputs": [
    {
     "name": "stdout",
     "output_type": "stream",
     "text": [
      "['今日', 'は', '[MASK]', 'へ', '行く', '。']\n"
     ]
    }
   ],
   "source": [
    "# 5-4\n",
    "text = '今日は[MASK]へ行く。'\n",
    "tokens = tokenizer.tokenize(text)\n",
    "print(tokens)"
   ]
  },
  {
   "cell_type": "code",
   "execution_count": 5,
   "metadata": {
    "id": "YaW5Y9fM5zeM"
   },
   "outputs": [],
   "source": [
    "# 5-5\n",
    "# 文章を符号化し、GPUに配置する。\n",
    "input_ids = tokenizer.encode(text, return_tensors='pt')\n",
    "input_ids = input_ids.cuda()\n",
    "\n",
    "# BERTに入力し、分類スコアを得る。\n",
    "# 系列長を揃える必要がないので、単にiput_idsのみを入力します。\n",
    "with torch.no_grad():\n",
    "    output = bert_mlm(input_ids=input_ids)\n",
    "    scores = output.logits"
   ]
  },
  {
   "cell_type": "code",
   "execution_count": 6,
   "metadata": {},
   "outputs": [
    {
     "data": {
      "text/plain": [
       "3"
      ]
     },
     "execution_count": 6,
     "metadata": {},
     "output_type": "execute_result"
    }
   ],
   "source": [
    "input_ids[0].tolist().index(4)"
   ]
  },
  {
   "cell_type": "code",
   "execution_count": 7,
   "metadata": {
    "id": "Z-5lnX9r8XKl"
   },
   "outputs": [
    {
     "name": "stdout",
     "output_type": "stream",
     "text": [
      "3\n",
      "今日は東京へ行く。\n"
     ]
    }
   ],
   "source": [
    "# 5-6\n",
    "# ID列で'[MASK]'(IDは4)の位置を調べる\n",
    "mask_position = input_ids[0].tolist().index(4) \n",
    "print(mask_position)\n",
    "\n",
    "# スコアが最も良いトークンのIDを取り出し、トークンに変換する。\n",
    "id_best = scores[0, mask_position].argmax(-1).item()\n",
    "token_best = tokenizer.convert_ids_to_tokens(id_best)\n",
    "token_best = token_best.replace('##', '')\n",
    "\n",
    "# [MASK]を上で求めたトークンで置き換える。\n",
    "text = text.replace('[MASK]',token_best)\n",
    "\n",
    "print(text)"
   ]
  },
  {
   "cell_type": "code",
   "execution_count": 8,
   "metadata": {
    "id": "TgbIA-1-EVaJ"
   },
   "outputs": [
    {
     "name": "stdout",
     "output_type": "stream",
     "text": [
      "今日は、[MASK]へ行く\n",
      "今日は再び[MASK]へ行く\n",
      "今日はその[MASK]へ行く\n",
      "今日はこの[MASK]へ行く\n",
      "今日はあの[MASK]へ行く\n",
      "今日はお[MASK]へ行く\n",
      "今日はもう[MASK]へ行く\n",
      "今日は同じ[MASK]へ行く\n",
      "今日は東京[MASK]へ行く\n",
      "今日は新しい[MASK]へ行く\n"
     ]
    }
   ],
   "source": [
    "# 5-7\n",
    "def predict_mask_topk(text, tokenizer, bert_mlm, num_topk):\n",
    "    \"\"\"\n",
    "    文章中の最初の[MASK]をスコアの上位のトークンに置き換える。\n",
    "    上位何位まで使うかは、num_topkで指定。\n",
    "    出力は穴埋めされた文章のリストと、置き換えられたトークンのスコアのリスト。\n",
    "    \"\"\"\n",
    "    # 文章を符号化し、BERTで分類スコアを得る。\n",
    "    input_ids = tokenizer.encode(text, return_tensors='pt')\n",
    "    input_ids = input_ids.cuda()\n",
    "    with torch.no_grad():\n",
    "        output = bert_mlm(input_ids=input_ids)\n",
    "    scores = output.logits\n",
    "\n",
    "    # スコアが上位のトークンとスコアを求める。\n",
    "    mask_position = input_ids[0].tolist().index(4) \n",
    "    topk = scores[0, mask_position].topk(num_topk)\n",
    "    ids_topk = topk.indices # トークンのID\n",
    "    tokens_topk = tokenizer.convert_ids_to_tokens(ids_topk) # トークン\n",
    "    scores_topk = topk.values.cpu().numpy() # スコア\n",
    "\n",
    "    # 文章中の[MASK]を上で求めたトークンで置き換える。\n",
    "    text_topk = [] # 穴埋めされたテキストを追加する。\n",
    "    for token in tokens_topk:\n",
    "        token = token.replace('##', '')\n",
    "        text_topk.append(text.replace('[MASK]', token, 1))\n",
    "\n",
    "    return text_topk, scores_topk\n",
    "\n",
    "text = '今日は[MASK][MASK]へ行く'\n",
    "text_topk, _ = predict_mask_topk(text, tokenizer, bert_mlm, 10)\n",
    "print(*text_topk, sep='\\n')"
   ]
  },
  {
   "cell_type": "code",
   "execution_count": 9,
   "metadata": {
    "id": "yCaGV_rT3A5N"
   },
   "outputs": [
    {
     "data": {
      "text/plain": [
       "'今日は、東京へ行く。'"
      ]
     },
     "execution_count": 9,
     "metadata": {},
     "output_type": "execute_result"
    }
   ],
   "source": [
    "# 5-8\n",
    "def greedy_prediction(text, tokenizer, bert_mlm):\n",
    "    \"\"\"\n",
    "    [MASK]を含む文章を入力として、貪欲法で穴埋めを行った文章を出力する。\n",
    "    \"\"\"\n",
    "    # 前から順に[MASK]を一つづつ、スコアの最も高いトークンに置き換える。\n",
    "    for _ in range(text.count('[MASK]')):\n",
    "        text = predict_mask_topk(text, tokenizer, bert_mlm, 1)[0][0]\n",
    "    return text\n",
    "\n",
    "text = '今日は[MASK][MASK]へ行く。'\n",
    "greedy_prediction(text, tokenizer, bert_mlm)"
   ]
  },
  {
   "cell_type": "code",
   "execution_count": 10,
   "metadata": {
    "id": "prdEvsxBrrGq"
   },
   "outputs": [
    {
     "data": {
      "text/plain": [
       "'今日は社会社会的な地位'"
      ]
     },
     "execution_count": 10,
     "metadata": {},
     "output_type": "execute_result"
    }
   ],
   "source": [
    "# 5-9\n",
    "text = '今日は[MASK][MASK][MASK][MASK][MASK]'\n",
    "greedy_prediction(text, tokenizer, bert_mlm)"
   ]
  },
  {
   "cell_type": "code",
   "execution_count": 11,
   "metadata": {
    "id": "yHRemOdN0QE9"
   },
   "outputs": [
    {
     "name": "stdout",
     "output_type": "stream",
     "text": [
      "今日はお台場へ行く。\n",
      "今日はお祭りへ行く。\n",
      "今日はゲームセンターへ行く。\n",
      "今日はお風呂へ行く。\n",
      "今日はゲームショップへ行く。\n",
      "今日は東京ディズニーランドへ行く。\n",
      "今日はお店へ行く。\n",
      "今日は同じ場所へ行く。\n",
      "今日はあの場所へ行く。\n",
      "今日は同じ学校へ行く。\n"
     ]
    }
   ],
   "source": [
    "# 5-10\n",
    "def beam_search(text, tokenizer, bert_mlm, num_topk):\n",
    "    \"\"\"\n",
    "    ビームサーチで文章の穴埋めを行う。\n",
    "    \"\"\"\n",
    "    num_mask = text.count('[MASK]')\n",
    "    text_topk = [text]\n",
    "    scores_topk = np.array([0])\n",
    "    for _ in range(num_mask):\n",
    "        # 現在得られている、それぞれの文章に対して、\n",
    "        # 最初の[MASK]をスコアが上位のトークンで穴埋めする。\n",
    "        text_candidates = [] # それぞれの文章を穴埋めした結果を追加する。\n",
    "        score_candidates = [] # 穴埋めに使ったトークンのスコアを追加する。\n",
    "        for text_mask, score in zip(text_topk, scores_topk):\n",
    "            text_topk_inner, scores_topk_inner = predict_mask_topk(\n",
    "                text_mask, tokenizer, bert_mlm, num_topk\n",
    "            )\n",
    "            text_candidates.extend(text_topk_inner)\n",
    "            score_candidates.append( score + scores_topk_inner )\n",
    "\n",
    "        # 穴埋めにより生成された文章の中から合計スコアの高いものを選ぶ。\n",
    "        score_candidates = np.hstack(score_candidates)\n",
    "        idx_list = score_candidates.argsort()[::-1][:num_topk]\n",
    "        text_topk = [ text_candidates[idx] for idx in idx_list ]\n",
    "        scores_topk = score_candidates[idx_list]\n",
    "\n",
    "    return text_topk\n",
    "\n",
    "text = \"今日は[MASK][MASK]へ行く。\"\n",
    "text_topk = beam_search(text, tokenizer, bert_mlm, 10)\n",
    "print(*text_topk, sep='\\n')"
   ]
  },
  {
   "cell_type": "code",
   "execution_count": 12,
   "metadata": {
    "id": "5mhL-VSTvUo7"
   },
   "outputs": [
    {
     "name": "stdout",
     "output_type": "stream",
     "text": [
      "今日は社会社会学会所属。\n",
      "今日は社会社会学会会長。\n",
      "今日は社会社会に属する。\n",
      "今日は時代社会に属する。\n",
      "今日は社会社会学会理事。\n",
      "今日は時代社会にあたる。\n",
      "今日は社会社会にある。\n",
      "今日は社会社会学会会員。\n",
      "今日は時代社会にある。\n",
      "今日は社会社会になる。\n"
     ]
    }
   ],
   "source": [
    "# 5-11\n",
    "text = '今日は[MASK][MASK][MASK][MASK][MASK]'\n",
    "text_topk = beam_search(text, tokenizer, bert_mlm, 10)\n",
    "print(*text_topk, sep='\\n')"
   ]
  }
 ],
 "metadata": {
  "accelerator": "GPU",
  "colab": {
   "collapsed_sections": [],
   "name": "Chapter05.ipynb",
   "provenance": []
  },
  "kernelspec": {
   "display_name": "Python 3 (ipykernel)",
   "language": "python",
   "name": "python3"
  },
  "language_info": {
   "codemirror_mode": {
    "name": "ipython",
    "version": 3
   },
   "file_extension": ".py",
   "mimetype": "text/x-python",
   "name": "python",
   "nbconvert_exporter": "python",
   "pygments_lexer": "ipython3",
   "version": "3.8.10"
  }
 },
 "nbformat": 4,
 "nbformat_minor": 1
}
