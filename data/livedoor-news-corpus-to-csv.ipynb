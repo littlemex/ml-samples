{
 "cells": [
  {
   "cell_type": "code",
   "execution_count": 1,
   "metadata": {},
   "outputs": [
    {
     "name": "stdout",
     "output_type": "stream",
     "text": [
      "  % Total    % Received % Xferd  Average Speed   Time    Time     Time  Current\n",
      "                                 Dload  Upload   Total   Spent    Left  Speed\n",
      "100 8647k  100 8647k    0     0  2661k      0  0:00:03  0:00:03 --:--:-- 2661k\n"
     ]
    }
   ],
   "source": [
    "!curl -O https://www.rondhuit.com/download/ldcc-20140209.tar.gz -o \"./\"\n",
    "!tar -xzvf ldcc-20140209.tar.gz > /dev/null"
   ]
  },
  {
   "cell_type": "code",
   "execution_count": 2,
   "metadata": {},
   "outputs": [],
   "source": [
    "import pandas as pd\n",
    "import pathlib\n",
    "\n",
    "df = pd.DataFrame(columns=[\"category\", \"url\", \"time\", \"title\", \"body\"])\n",
    "\n",
    "for file_path in pathlib.Path(\"./text\").glob(\"**/*.txt\"):\n",
    "    f_path = pathlib.Path(file_path)\n",
    "    file_name = f_path.name\n",
    "    category_name = f_path.parent.name\n",
    "\n",
    "    # 特殊ファイルはスキップ\n",
    "    if file_name in [\"CHANGES.txt\", \"README.txt\", \"LICENSE.txt\"]:\n",
    "        continue\n",
    "\n",
    "    with open(file_path, \"r\") as f:\n",
    "        text_all = f.read()\n",
    "        text_lines = text_all.split(\"\\n\")\n",
    "        url, time, title, *article = text_lines\n",
    "        article = \"\\n\".join(article)\n",
    "\n",
    "        df.loc[file_name] = [category_name, url, time, title, article]\n",
    "\n",
    "# インデックスに使用していたファイル名を列の1つにする。\n",
    "df.reset_index(inplace=True)\n",
    "df.rename(columns={\"index\": \"filename\"}, inplace=True)\n",
    "\n",
    "# ファイルに保存\n",
    "df.to_csv(\"./livedoor_news_corpus.csv\", encoding=\"utf-8_sig\", index=None)"
   ]
  }
 ],
 "metadata": {
  "kernelspec": {
   "display_name": "pytorch",
   "language": "python",
   "name": "python3"
  },
  "language_info": {
   "codemirror_mode": {
    "name": "ipython",
    "version": 3
   },
   "file_extension": ".py",
   "mimetype": "text/x-python",
   "name": "python",
   "nbconvert_exporter": "python",
   "pygments_lexer": "ipython3",
   "version": "3.10.10"
  },
  "orig_nbformat": 4,
  "vscode": {
   "interpreter": {
    "hash": "2d58e898dde0263bc564c6968b04150abacfd33eed9b19aaa8e45c040360e146"
   }
  }
 },
 "nbformat": 4,
 "nbformat_minor": 2
}
